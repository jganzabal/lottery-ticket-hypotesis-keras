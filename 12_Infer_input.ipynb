{
 "cells": [
  {
   "cell_type": "code",
   "execution_count": 1,
   "metadata": {},
   "outputs": [],
   "source": [
    "%load_ext autoreload\n",
    "%autoreload 2"
   ]
  },
  {
   "cell_type": "code",
   "execution_count": 2,
   "metadata": {},
   "outputs": [],
   "source": [
    "from tensorflow.keras.models import Sequential, clone_model\n",
    "from tensorflow.keras.layers import Dense, Activation\n",
    "from tensorflow.keras import optimizers\n",
    "from tensorflow.keras.callbacks import ReduceLROnPlateau, ModelCheckpoint\n",
    "import numpy as np\n",
    "import pandas as pd\n",
    "from sklearn.model_selection import train_test_split\n",
    "from LTH_helper import LTH\n",
    "import tensorflow as tf\n",
    "from matplotlib import pyplot as plt\n",
    "from tensorflow.keras import initializers\n",
    "from tensorflow.keras.datasets import fashion_mnist, mnist\n",
    "from tensorflow_model_optimization.sparsity.keras import strip_pruning"
   ]
  },
  {
   "cell_type": "code",
   "execution_count": 3,
   "metadata": {},
   "outputs": [],
   "source": [
    "my_dataset = mnist"
   ]
  },
  {
   "cell_type": "code",
   "execution_count": 715,
   "metadata": {},
   "outputs": [
    {
     "data": {
      "text/plain": [
       "(60000, 784)"
      ]
     },
     "execution_count": 715,
     "metadata": {},
     "output_type": "execute_result"
    }
   ],
   "source": [
    "np.random.normal(0.5, 0.1, (len(X), 784)).shape"
   ]
  },
  {
   "cell_type": "code",
   "execution_count": 764,
   "metadata": {},
   "outputs": [],
   "source": [
    "(train_images, train_labels), (test_images, test_labels) = my_dataset.load_data()\n",
    "X1 = train_images.reshape(-1, 784)/255 + np.random.normal(0.5, 0.1, (len(train_images), 784))\n",
    "X2 = train_images.reshape(-1, 784)/255 + np.random.normal(0.5, 0.1, (len(train_images), 784))\n",
    "X = np.vstack([X1, X2])\n",
    "y1 = train_labels.reshape(-1, 1)\n",
    "y = np.vstack([y1, y1])\n",
    "X_test = test_images.reshape(-1, 784)/255\n",
    "y_test = test_labels.reshape(-1, 1)\n",
    "X_train, X_val, y_train, y_val = train_test_split(X, y, test_size=0.15, random_state=42)"
   ]
  },
  {
   "cell_type": "code",
   "execution_count": 765,
   "metadata": {},
   "outputs": [],
   "source": [
    "def compile_model(model, lr=0.001):\n",
    "    optim = optimizers.Adam(lr=lr)\n",
    "    model.compile(loss = 'sparse_categorical_crossentropy', optimizer=optim, metrics=['accuracy'])\n",
    "    "
   ]
  },
  {
   "cell_type": "code",
   "execution_count": 769,
   "metadata": {},
   "outputs": [],
   "source": [
    "def get_model(compile_model_flag=True, lr=0.001):\n",
    "    reduce = 1\n",
    "    input_dim=784\n",
    "    output_size = 10\n",
    "    # Creo el modelo\n",
    "    model = Sequential()\n",
    "    model.add(Dense(784*2//reduce, name='hidden_1', kernel_initializer=initializers.glorot_uniform(), activation='relu',\n",
    "                    input_dim=input_dim))\n",
    "    model.add(Dense(784//reduce, name='hidden_2', kernel_initializer=initializers.glorot_uniform(), activation='relu'))\n",
    "    model.add(Dense(output_size, name='Salida', kernel_initializer=initializers.glorot_uniform(), activation='softmax'))\n",
    "    if compile_model_flag:\n",
    "        compile_model(model, lr=lr)\n",
    "    return model\n",
    "model = get_model()"
   ]
  },
  {
   "cell_type": "code",
   "execution_count": 770,
   "metadata": {},
   "outputs": [
    {
     "name": "stdout",
     "output_type": "stream",
     "text": [
      "Epoch 1/20\n",
      "\n",
      "Epoch 00001: val_accuracy improved from -inf to 0.90989, saving model to mlp.mnist.first_train.hdf5\n",
      "399/399 - 1s - loss: 0.4730 - accuracy: 0.8597 - val_loss: 0.2850 - val_accuracy: 0.9099\n",
      "Epoch 2/20\n",
      "\n",
      "Epoch 00002: val_accuracy improved from 0.90989 to 0.94822, saving model to mlp.mnist.first_train.hdf5\n",
      "399/399 - 1s - loss: 0.2004 - accuracy: 0.9392 - val_loss: 0.1640 - val_accuracy: 0.9482\n",
      "Epoch 3/20\n",
      "\n",
      "Epoch 00003: val_accuracy improved from 0.94822 to 0.95356, saving model to mlp.mnist.first_train.hdf5\n",
      "399/399 - 2s - loss: 0.1384 - accuracy: 0.9569 - val_loss: 0.1518 - val_accuracy: 0.9536\n",
      "Epoch 4/20\n",
      "\n",
      "Epoch 00004: val_accuracy improved from 0.95356 to 0.96017, saving model to mlp.mnist.first_train.hdf5\n",
      "399/399 - 1s - loss: 0.1082 - accuracy: 0.9651 - val_loss: 0.1310 - val_accuracy: 0.9602\n",
      "Epoch 5/20\n",
      "\n",
      "Epoch 00005: val_accuracy improved from 0.96017 to 0.96772, saving model to mlp.mnist.first_train.hdf5\n",
      "399/399 - 1s - loss: 0.0894 - accuracy: 0.9713 - val_loss: 0.1040 - val_accuracy: 0.9677\n",
      "Epoch 6/20\n",
      "\n",
      "Epoch 00006: val_accuracy improved from 0.96772 to 0.97228, saving model to mlp.mnist.first_train.hdf5\n",
      "399/399 - 1s - loss: 0.0728 - accuracy: 0.9767 - val_loss: 0.0934 - val_accuracy: 0.9723\n",
      "Epoch 7/20\n",
      "\n",
      "Epoch 00007: val_accuracy improved from 0.97228 to 0.97450, saving model to mlp.mnist.first_train.hdf5\n",
      "399/399 - 2s - loss: 0.0647 - accuracy: 0.9785 - val_loss: 0.0876 - val_accuracy: 0.9745\n",
      "Epoch 8/20\n",
      "\n",
      "Epoch 00008: val_accuracy did not improve from 0.97450\n",
      "399/399 - 1s - loss: 0.0572 - accuracy: 0.9808 - val_loss: 0.1032 - val_accuracy: 0.9667\n",
      "Epoch 9/20\n",
      "\n",
      "Epoch 00009: val_accuracy improved from 0.97450 to 0.97906, saving model to mlp.mnist.first_train.hdf5\n",
      "399/399 - 1s - loss: 0.0489 - accuracy: 0.9837 - val_loss: 0.0662 - val_accuracy: 0.9791\n",
      "Epoch 10/20\n",
      "\n",
      "Epoch 00010: val_accuracy did not improve from 0.97906\n",
      "399/399 - 1s - loss: 0.0438 - accuracy: 0.9852 - val_loss: 0.0851 - val_accuracy: 0.9729\n",
      "Epoch 11/20\n",
      "\n",
      "Epoch 00011: val_accuracy improved from 0.97906 to 0.98422, saving model to mlp.mnist.first_train.hdf5\n",
      "399/399 - 1s - loss: 0.0380 - accuracy: 0.9872 - val_loss: 0.0517 - val_accuracy: 0.9842\n",
      "Epoch 12/20\n",
      "\n",
      "Epoch 00012: val_accuracy did not improve from 0.98422\n",
      "399/399 - 1s - loss: 0.0343 - accuracy: 0.9886 - val_loss: 0.0642 - val_accuracy: 0.9805\n",
      "Epoch 13/20\n",
      "\n",
      "Epoch 00013: val_accuracy did not improve from 0.98422\n",
      "399/399 - 1s - loss: 0.0310 - accuracy: 0.9896 - val_loss: 0.0554 - val_accuracy: 0.9831\n",
      "Epoch 14/20\n",
      "\n",
      "Epoch 00014: val_accuracy did not improve from 0.98422\n",
      "399/399 - 1s - loss: 0.0331 - accuracy: 0.9885 - val_loss: 0.0526 - val_accuracy: 0.9837\n",
      "Epoch 15/20\n",
      "\n",
      "Epoch 00015: val_accuracy did not improve from 0.98422\n",
      "399/399 - 1s - loss: 0.0280 - accuracy: 0.9902 - val_loss: 0.0663 - val_accuracy: 0.9794\n",
      "Epoch 16/20\n",
      "\n",
      "Epoch 00016: val_accuracy did not improve from 0.98422\n",
      "399/399 - 1s - loss: 0.0235 - accuracy: 0.9920 - val_loss: 0.0607 - val_accuracy: 0.9834\n",
      "Epoch 17/20\n",
      "\n",
      "Epoch 00017: val_accuracy did not improve from 0.98422\n",
      "399/399 - 1s - loss: 0.0262 - accuracy: 0.9911 - val_loss: 0.0782 - val_accuracy: 0.9764\n",
      "Epoch 18/20\n",
      "\n",
      "Epoch 00018: val_accuracy improved from 0.98422 to 0.98633, saving model to mlp.mnist.first_train.hdf5\n",
      "399/399 - 1s - loss: 0.0224 - accuracy: 0.9924 - val_loss: 0.0459 - val_accuracy: 0.9863\n",
      "Epoch 19/20\n",
      "\n",
      "Epoch 00019: val_accuracy did not improve from 0.98633\n",
      "399/399 - 1s - loss: 0.0198 - accuracy: 0.9931 - val_loss: 0.0539 - val_accuracy: 0.9843\n",
      "Epoch 20/20\n",
      "\n",
      "Epoch 00020: val_accuracy did not improve from 0.98633\n",
      "399/399 - 1s - loss: 0.0165 - accuracy: 0.9941 - val_loss: 0.0545 - val_accuracy: 0.9847\n"
     ]
    }
   ],
   "source": [
    "def get_callbacks(filename):\n",
    "    return [\n",
    "#         ReduceLROnPlateau(monitor='val_accuracy', mode='max', factor=np.sqrt(0.1), patience=10, verbose=1, min_lr=1e-4),\n",
    "        ModelCheckpoint(filepath=filename,  verbose=1, save_best_only=True, monitor='val_accuracy', mode='max')\n",
    "    ]\n",
    "\n",
    "model = get_model(lr=0.001)\n",
    "epochs = 20\n",
    "batch_size = 256\n",
    "# Save initial weights\n",
    "model.save_weights('mlp.mnist.initial_weights.hdf5')\n",
    "history = model.fit(X_train, \n",
    "           y_train,\n",
    "           epochs=epochs, batch_size=batch_size, \n",
    "           validation_data = (X_val, y_val),\n",
    "           verbose=2, \n",
    "           callbacks=get_callbacks('mlp.mnist.first_train.hdf5')\n",
    "          )"
   ]
  },
  {
   "cell_type": "code",
   "execution_count": 771,
   "metadata": {},
   "outputs": [
    {
     "name": "stdout",
     "output_type": "stream",
     "text": [
      "313/313 [==============================] - 0s 764us/step - loss: 0.1298 - accuracy: 0.9692\n"
     ]
    },
    {
     "data": {
      "text/plain": [
       "[0.1297794133424759, 0.9692000150680542]"
      ]
     },
     "execution_count": 771,
     "metadata": {},
     "output_type": "execute_result"
    }
   ],
   "source": [
    "model.evaluate(X_test, y_test)"
   ]
  },
  {
   "cell_type": "code",
   "execution_count": 772,
   "metadata": {},
   "outputs": [],
   "source": [
    "# if my_dataset == mnist:\n",
    "#     model.load_weights('MNIST-LR-best_untrained_acc_36.3_46.6.hdf5')\n",
    "# else:\n",
    "#     model.load_weights('F-MNIST-LR-best_untrained_acc_10.3_50.9.hdf5')"
   ]
  },
  {
   "cell_type": "code",
   "execution_count": 773,
   "metadata": {},
   "outputs": [
    {
     "name": "stdout",
     "output_type": "stream",
     "text": [
      "hidden_1: 0.0\n",
      "hidden_2: 0.0\n",
      "Salida: 0.0\n"
     ]
    }
   ],
   "source": [
    "for i, layer in enumerate(model.layers):\n",
    "    sparcity = (layer.get_weights()[0]==0).sum()/np.product((layer.get_weights()[0]==0).shape)    \n",
    "    print(f'{layer.name}: {sparcity}')"
   ]
  },
  {
   "cell_type": "code",
   "execution_count": 774,
   "metadata": {},
   "outputs": [
    {
     "data": {
      "text/plain": [
       "(10000, 784)"
      ]
     },
     "execution_count": 774,
     "metadata": {},
     "output_type": "execute_result"
    }
   ],
   "source": [
    "X_test.shape"
   ]
  },
  {
   "cell_type": "code",
   "execution_count": 775,
   "metadata": {},
   "outputs": [
    {
     "data": {
      "image/png": "[encoded data removed]",
      "text/plain": [
       "<Figure size 2160x720 with 10 Axes>"
      ]
     },
     "metadata": {
      "needs_background": "light"
     },
     "output_type": "display_data"
    }
   ],
   "source": [
    "def plot_weights(model):\n",
    "    f, axs = plt.subplots(1, 10, figsize=(30, 10))\n",
    "    for number in range(10):\n",
    "        w = model.get_weights()[0][:, number].reshape(28, 28)\n",
    "        indexes = (y==number).reshape(-1)\n",
    "        _, acc = model.evaluate(X[indexes], y[indexes], verbose=0)\n",
    "        axs[number].imshow(w, cmap='gray')\n",
    "        axs[number].set_title(f'label: {number}, acc: {int(acc*1000+0.5)/10} \\n sparcity: {int((w==0).sum()/np.product(w.shape)*1000)/10}')\n",
    "plot_weights(model)"
   ]
  },
  {
   "cell_type": "code",
   "execution_count": 776,
   "metadata": {},
   "outputs": [],
   "source": [
    "from tensorflow.keras import backend as K"
   ]
  },
  {
   "cell_type": "code",
   "execution_count": 777,
   "metadata": {},
   "outputs": [],
   "source": [
    "import numpy as np"
   ]
  },
  {
   "cell_type": "code",
   "execution_count": 792,
   "metadata": {},
   "outputs": [
    {
     "data": {
      "text/plain": [
       "[<matplotlib.lines.Line2D at 0x7f100a172c18>]"
      ]
     },
     "execution_count": 792,
     "metadata": {},
     "output_type": "execute_result"
    },
    {
     "data": {
      "image/png": "[encoded data removed]",
      "text/plain": [
       "<Figure size 432x288 with 1 Axes>"
      ]
     },
     "metadata": {
      "needs_background": "light"
     },
     "output_type": "display_data"
    }
   ],
   "source": [
    "def estimated_best_input(model, out_index = 1, lr = 1, steps=500, valid_image=False):\n",
    "    img_width = 28\n",
    "    img_height = 28\n",
    "    if valid_image:\n",
    "        input_img_data = X[(y==out_index).reshape(-1)][0].reshape(1, 28, 28) + np.random.normal(0.5, 0.1, (1, img_width, img_height))\n",
    "    else:\n",
    "        input_img_data = np.random.normal(0.5, 0.1, (1, img_width, img_height))\n",
    "    \n",
    "    input_img = input_img_data.reshape(1, -1)\n",
    "    tf_input = tf.Variable((input_img))\n",
    "    acc_loss = []\n",
    "    for i in range(500):\n",
    "        with tf.GradientTape() as tape:\n",
    "            loss = K.square(1-model(tf_input)[:, out_index])\n",
    "#             loss = K.categorical_crossentropy(model(tf_input), tf.one_hot([out_index], 10))\n",
    "        acc_loss.append(loss.numpy()[0])\n",
    "        # print(loss.numpy(), end=', ')\n",
    "        grads = tape.gradient(loss, tf_input)\n",
    "        grads /= (K.sqrt(K.mean(K.square(grads))) + 1e-5)\n",
    "        \n",
    "        tf_input = tf.Variable(tf_input - grads * lr)\n",
    "    return tf_input.numpy().reshape(28, 28), acc_loss, input_img_data[0]\n",
    "# estimated_input = estimated_best_input(model_pruned_layers_not_trained_best, 1, lr=1)\n",
    "# 1, 8 , 9\n",
    "out_index = 0\n",
    "estimated_input, acc_loss, input_img_data = estimated_best_input(model, out_index, lr=0.1, valid_image=True)\n",
    "plt.plot(acc_loss)"
   ]
  },
  {
   "cell_type": "code",
   "execution_count": 793,
   "metadata": {},
   "outputs": [
    {
     "data": {
      "text/plain": [
       "<matplotlib.image.AxesImage at 0x7f1008f55dd8>"
      ]
     },
     "execution_count": 793,
     "metadata": {},
     "output_type": "execute_result"
    },
    {
     "data": {
      "image/png": "[encoded data removed]",
      "text/plain": [
       "<Figure size 720x288 with 2 Axes>"
      ]
     },
     "metadata": {
      "needs_background": "light"
     },
     "output_type": "display_data"
    }
   ],
   "source": [
    "f, ax = plt.subplots(1, 2, figsize=(10, 4))\n",
    "ax[0].imshow(input_img_data, cmap='gray')\n",
    "ax[1].imshow(estimated_input, cmap='gray')"
   ]
  },
  {
   "cell_type": "code",
   "execution_count": 794,
   "metadata": {},
   "outputs": [],
   "source": [
    "# def plot_weights(model):\n",
    "#     f, axs = plt.subplots(1, 10, figsize=(30, 10))\n",
    "#     for number in range(10):\n",
    "#         w = model.get_weights()[0][:, number].reshape(28, 28)\n",
    "#         indexes = (y==number).reshape(-1)\n",
    "#         _, acc = model.evaluate(X[indexes], y[indexes], verbose=0)\n",
    "#         axs[number].imshow(w, cmap='gray')\n",
    "#         axs[number].set_title(f'label: {number}, acc: {int(acc*1000+0.5)/10} \\n sparcity: {int((w==0).sum()/np.product(w.shape)*1000)/10}')"
   ]
  },
  {
   "cell_type": "code",
   "execution_count": 795,
   "metadata": {},
   "outputs": [
    {
     "data": {
      "text/plain": [
       "array([[9.9999988e-01, 2.6591834e-16, 6.4996200e-08, 1.3888642e-17,\n",
       "        1.1784968e-19, 1.9632521e-15, 3.9851347e-13, 1.7563855e-17,\n",
       "        3.2441135e-14, 2.7079207e-12]], dtype=float32)"
      ]
     },
     "execution_count": 795,
     "metadata": {},
     "output_type": "execute_result"
    }
   ],
   "source": [
    "model.predict(estimated_input.reshape(1,-1))"
   ]
  },
  {
   "cell_type": "code",
   "execution_count": 796,
   "metadata": {},
   "outputs": [
    {
     "data": {
      "text/plain": [
       "array([[9.9999988e-01, 2.6592644e-16, 6.4998062e-08, 1.3889066e-17,\n",
       "        1.1785327e-19, 1.9633046e-15, 3.9852491e-13, 1.7564257e-17,\n",
       "        3.2442128e-14, 2.7079929e-12]], dtype=float32)"
      ]
     },
     "execution_count": 796,
     "metadata": {},
     "output_type": "execute_result"
    }
   ],
   "source": [
    "model.predict(input_img_data.reshape(1,-1))"
   ]
  },
  {
   "cell_type": "code",
   "execution_count": 797,
   "metadata": {},
   "outputs": [
    {
     "name": "stdout",
     "output_type": "stream",
     "text": [
      "1/1 [==============================] - 0s 576us/step - loss: 1.1921e-07 - accuracy: 1.0000\n"
     ]
    },
    {
     "data": {
      "text/plain": [
       "[1.1920928244535389e-07, 1.0]"
      ]
     },
     "execution_count": 797,
     "metadata": {},
     "output_type": "execute_result"
    }
   ],
   "source": [
    "model.evaluate(estimated_input.reshape(1,-1), np.array([[out_index]]))"
   ]
  },
  {
   "cell_type": "code",
   "execution_count": 798,
   "metadata": {},
   "outputs": [
    {
     "name": "stdout",
     "output_type": "stream",
     "text": [
      "1/1 [==============================] - 0s 435us/step - loss: 1.1921e-07 - accuracy: 1.0000\n"
     ]
    },
    {
     "data": {
      "text/plain": [
       "[1.1920928244535389e-07, 1.0]"
      ]
     },
     "execution_count": 798,
     "metadata": {},
     "output_type": "execute_result"
    }
   ],
   "source": [
    "model.evaluate(input_img_data.reshape(1,-1), np.array([[out_index]]))"
   ]
  },
  {
   "cell_type": "code",
   "execution_count": 660,
   "metadata": {},
   "outputs": [
    {
     "data": {
      "text/plain": [
       "(1.0, 0.0)"
      ]
     },
     "execution_count": 660,
     "metadata": {},
     "output_type": "execute_result"
    }
   ],
   "source": [
    "estimated_input.max(), estimated_input.min()"
   ]
  },
  {
   "cell_type": "raw",
   "metadata": {},
   "source": [
    "Label   Description\n",
    "0   T-shirt/top\n",
    "1   Trouser\n",
    "2   Pullover\n",
    "3   Dress\n",
    "4   Coat\n",
    "5   Sandal\n",
    "6   Shirt\n",
    "7   Sneaker\n",
    "8   Bag\n",
    "9   Ankle boot"
   ]
  },
  {
   "cell_type": "code",
   "execution_count": 397,
   "metadata": {},
   "outputs": [
    {
     "name": "stdout",
     "output_type": "stream",
     "text": [
      "WARNING:tensorflow:From /home/usuario/anaconda3/envs/tensorflow2/lib/python3.6/site-packages/tensorflow_model_optimization/python/core/sparsity/keras/pruning_wrapper.py:199: Layer.add_variable (from tensorflow.python.keras.engine.base_layer) is deprecated and will be removed in a future version.\n",
      "Instructions for updating:\n",
      "Please use `layer.add_weight` method instead.\n",
      "0.09290000051259995 0.001\n",
      "0.18649999797344208 0.02136734693877551\n",
      "0.2732999920845032 0.04173469387755102\n",
      "0.32260000705718994 0.06210204081632653\n",
      "0.3693999946117401 0.08246938775510204\n",
      "0.28119999170303345 0.10283673469387755\n",
      "0.34549999237060547 0.12320408163265306\n",
      "0.3720000088214874 0.14357142857142857\n",
      "0.3865000009536743 0.16393877551020408\n",
      "0.34540000557899475 0.1843061224489796\n",
      "0.3521000146865845 0.2046734693877551\n",
      "0.33730000257492065 0.2250408163265306\n",
      "0.3822999894618988 0.24540816326530612\n",
      "0.38670000433921814 0.26577551020408163\n",
      "0.42500001192092896 0.28614285714285714\n",
      "0.39719998836517334 0.30651020408163265\n",
      "0.3325999975204468 0.32687755102040816\n",
      "0.29580000042915344 0.3472448979591837\n",
      "0.26409998536109924 0.3676122448979592\n",
      "0.2653999924659729 0.3879795918367347\n",
      "0.25440001487731934 0.4083469387755102\n",
      "0.23180000483989716 0.4287142857142857\n",
      "0.21040000021457672 0.4490816326530612\n",
      "0.19140000641345978 0.46944897959183673\n",
      "0.16169999539852142 0.48981632653061224\n",
      "0.15710000693798065 0.5101836734693878\n",
      "0.1517000049352646 0.5305510204081633\n",
      "0.1340000033378601 0.5509183673469388\n",
      "0.12770000100135803 0.5712857142857143\n",
      "0.12189999967813492 0.5916530612244898\n",
      "0.12780000269412994 0.6120204081632653\n",
      "0.11630000174045563 0.6323877551020408\n",
      "0.11060000211000443 0.6527551020408163\n",
      "0.10999999940395355 0.6731224489795918\n",
      "0.1128000020980835 0.6934897959183673\n",
      "0.11429999768733978 0.7138571428571429\n",
      "0.10459999740123749 0.7342244897959184\n",
      "0.09510000050067902 0.7545918367346939\n",
      "0.09160000085830688 0.7749591836734694\n",
      "0.0869000032544136 0.7953265306122449\n",
      "0.09160000085830688 0.8156938775510204\n",
      "0.08980000019073486 0.8360612244897959\n",
      "0.08579999953508377 0.8564285714285714\n",
      "0.07779999822378159 0.8767959183673469\n",
      "0.07540000230073929 0.8971632653061224\n",
      "0.07720000296831131 0.917530612244898\n",
      "0.08540000021457672 0.9378979591836735\n",
      "0.08089999854564667 0.958265306122449\n",
      "0.08640000224113464 0.9786326530612245\n",
      "0.09030000120401382 0.999\n"
     ]
    }
   ],
   "source": [
    "lth = LTH(get_model)\n",
    "pms = np.linspace(0.001, 0.999, 50)\n",
    "accs_nt = []\n",
    "best_acc = 0\n",
    "\n",
    "for pm in pms:\n",
    "    # Devuelve el modelo pruneado en funcion del entrenamiento\n",
    "    model_pruned_layers = lth.get_prunned_model('mlp.mnist.first_train.hdf5', pm)\n",
    "    # Coloca los pesos iniciales en los lugares sin prunear\n",
    "    model_pruned_layers_not_trained = lth.initialize_sparse_model('mlp.mnist.initial_weights.hdf5', model_pruned_layers, pm)\n",
    "    actual_acc = model_pruned_layers_not_trained.evaluate(X_test, y_test, verbose=0)[1]\n",
    "    print(actual_acc, pm)\n",
    "    if actual_acc>best_acc:\n",
    "        best_acc = actual_acc\n",
    "        best_pm = pm\n",
    "        model_pruned_layers_not_trained_best = strip_pruning(model_pruned_layers_not_trained)\n",
    "    accs_nt.append(actual_acc)"
   ]
  },
  {
   "cell_type": "code",
   "execution_count": 398,
   "metadata": {},
   "outputs": [
    {
     "name": "stdout",
     "output_type": "stream",
     "text": [
      "Salida: 0.7139030612244898\n"
     ]
    }
   ],
   "source": [
    "for i, layer in enumerate(model_pruned_layers_not_trained_best.layers):\n",
    "    sparcity = (layer.get_weights()[0]==0).sum()/np.product((layer.get_weights()[0]==0).shape)    \n",
    "    print(f'{layer.name}: {sparcity}')"
   ]
  },
  {
   "cell_type": "code",
   "execution_count": 399,
   "metadata": {},
   "outputs": [
    {
     "data": {
      "image/png": "[encoded data removed]",
      "text/plain": [
       "<Figure size 2160x720 with 10 Axes>"
      ]
     },
     "metadata": {
      "needs_background": "light"
     },
     "output_type": "display_data"
    }
   ],
   "source": [
    "compile_model(model_pruned_layers_not_trained_best)\n",
    "plot_weights(model_pruned_layers_not_trained_best)"
   ]
  },
  {
   "cell_type": "code",
   "execution_count": null,
   "metadata": {},
   "outputs": [],
   "source": []
  }
 ],
 "metadata": {
  "kernelspec": {
   "display_name": "Python [conda env:tensorflow2] *",
   "language": "python",
   "name": "conda-env-tensorflow2-py"
  },
  "language_info": {
   "codemirror_mode": {
    "name": "ipython",
    "version": 3
   },
   "file_extension": ".py",
   "mimetype": "text/x-python",
   "name": "python",
   "nbconvert_exporter": "python",
   "pygments_lexer": "ipython3",
   "version": "3.6.10"
  }
 },
 "nbformat": 4,
 "nbformat_minor": 4
}
