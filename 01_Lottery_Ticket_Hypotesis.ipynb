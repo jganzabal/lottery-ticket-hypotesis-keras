{
 "cells": [
  {
   "cell_type": "code",
   "execution_count": 1,
   "metadata": {},
   "outputs": [],
   "source": [
    "#! pip install -q tensorflow-model-optimization\n",
    "#! pip install tensorflow-addons"
   ]
  },
  {
   "cell_type": "code",
   "execution_count": 2,
   "metadata": {},
   "outputs": [],
   "source": [
    "%load_ext autoreload\n",
    "%autoreload 2"
   ]
  },
  {
   "cell_type": "code",
   "execution_count": 3,
   "metadata": {},
   "outputs": [],
   "source": [
    "from LTH_helper import prune_and_initilize"
   ]
  },
  {
   "cell_type": "markdown",
   "metadata": {},
   "source": [
    "https://arxiv.org/abs/1803.03635\n",
    "\n",
    "https://www.youtube.com/watch?v=0VH1Lim8gL8&feature=youtu.be&t=2760"
   ]
  },
  {
   "cell_type": "code",
   "execution_count": 4,
   "metadata": {},
   "outputs": [],
   "source": [
    "import numpy as np\n",
    "import pandas as pd\n",
    "from tensorflow.keras.models import Sequential\n",
    "from tensorflow.keras.layers import Dense, Activation, BatchNormalization\n",
    "import os\n",
    "import random as rn\n",
    "from matplotlib import pyplot as plt\n",
    "import tensorflow as tf\n",
    "from sklearn.model_selection import train_test_split\n",
    "from tensorflow.keras import optimizers\n",
    "from tensorflow.keras.callbacks import ReduceLROnPlateau, ModelCheckpoint\n",
    "import tensorflow_model_optimization as tfmot\n",
    "from tensorflow.keras import initializers\n",
    "from tensorflow.keras.datasets import fashion_mnist, mnist"
   ]
  },
  {
   "cell_type": "code",
   "execution_count": 5,
   "metadata": {},
   "outputs": [],
   "source": [
    "def set_random_seeds(seed=42):\n",
    "    os.environ['PYTHONHASHSEED'] = '0'\n",
    "    np.random.seed(seed)\n",
    "    rn.seed(seed)\n",
    "    tf.random.set_seed(seed)\n",
    "    # session_conf = tf.ConfigProto(intra_op_parallelism_threads=1, inter_op_parallelism_threads=1)\n",
    "    # sess = tf.Session(graph=tf.get_default_graph(), config=session_conf)\n",
    "    # K.set_session(sess)"
   ]
  },
  {
   "cell_type": "markdown",
   "metadata": {
    "_uuid": "21a1ba1a316bb0a6f5d8f85d86b3ba2307f125af"
   },
   "source": [
    "# Cargo datos"
   ]
  },
  {
   "cell_type": "code",
   "execution_count": 6,
   "metadata": {},
   "outputs": [],
   "source": [
    "my_dataset = fashion_mnist"
   ]
  },
  {
   "cell_type": "code",
   "execution_count": 7,
   "metadata": {},
   "outputs": [],
   "source": [
    "(train_images, train_labels), (test_images, test_labels) = my_dataset.load_data()\n",
    "X = train_images.reshape(-1, 784)/255\n",
    "y = train_labels.reshape(-1, 1)\n",
    "X_test = test_images.reshape(-1, 784)/255\n",
    "y_test = test_labels.reshape(-1, 1)\n",
    "X_train, X_val, y_train, y_val = train_test_split(X, y, test_size=0.15, random_state=42)"
   ]
  },
  {
   "cell_type": "markdown",
   "metadata": {
    "_uuid": "f987cc26468c6d17e63a953827437abb66da4383"
   },
   "source": [
    "# Red neuronal básica"
   ]
  },
  {
   "cell_type": "code",
   "execution_count": 8,
   "metadata": {},
   "outputs": [],
   "source": [
    "def compile_model(model, lr=0.001):\n",
    "    optim = optimizers.Adam(lr=lr)\n",
    "    model.compile(loss = 'sparse_categorical_crossentropy', optimizer=optim, metrics=['accuracy'])"
   ]
  },
  {
   "cell_type": "code",
   "execution_count": 9,
   "metadata": {
    "_uuid": "6e998b9f383e967a21d0ee6a89dfc8fec72d7f80"
   },
   "outputs": [
    {
     "name": "stdout",
     "output_type": "stream",
     "text": [
      "Model: \"sequential\"\n",
      "_________________________________________________________________\n",
      "Layer (type)                 Output Shape              Param #   \n",
      "=================================================================\n",
      "hidden_1 (Dense)             (None, 784)               615440    \n",
      "_________________________________________________________________\n",
      "activation (Activation)      (None, 784)               0         \n",
      "_________________________________________________________________\n",
      "hidden_2 (Dense)             (None, 392)               307720    \n",
      "_________________________________________________________________\n",
      "activation_1 (Activation)    (None, 392)               0         \n",
      "_________________________________________________________________\n",
      "Salida (Dense)               (None, 10)                3930      \n",
      "_________________________________________________________________\n",
      "activation_2 (Activation)    (None, 10)                0         \n",
      "=================================================================\n",
      "Total params: 927,090\n",
      "Trainable params: 927,090\n",
      "Non-trainable params: 0\n",
      "_________________________________________________________________\n"
     ]
    }
   ],
   "source": [
    "def get_model(compile_model_flag=True, lr=0.001):\n",
    "    reduce = 2\n",
    "    input_dim=784\n",
    "    output_size = 10\n",
    "    # Creo el modelo\n",
    "    model = Sequential()\n",
    "    model.add(Dense(784*2//reduce, activation='linear', name='hidden_1', kernel_initializer=initializers.glorot_uniform(),\n",
    "                    input_dim=input_dim))\n",
    "    #model.add(BatchNormalization())\n",
    "    model.add(Activation('relu'))\n",
    "    model.add(Dense(784//reduce, activation='linear', name='hidden_2', kernel_initializer=initializers.glorot_uniform(),\n",
    "                   ))\n",
    "    #model.add(BatchNormalization())\n",
    "    model.add(Activation('relu'))\n",
    "    model.add(Dense(output_size, name='Salida', kernel_initializer=initializers.glorot_uniform(),\n",
    "                   ))\n",
    "    model.add(Activation('softmax'))\n",
    "    if compile_model_flag:\n",
    "        compile_model(model, lr=lr)\n",
    "    return model\n",
    "model = get_model()\n",
    "# model.save_weights('random-init.hdf5')\n",
    "model.summary()"
   ]
  },
  {
   "cell_type": "markdown",
   "metadata": {},
   "source": [
    "![LTH_alg.png](LTH_alg.png)"
   ]
  },
  {
   "cell_type": "markdown",
   "metadata": {},
   "source": [
    "# Step 1 and 2. Initialize and Train network"
   ]
  },
  {
   "cell_type": "code",
   "execution_count": 10,
   "metadata": {},
   "outputs": [],
   "source": [
    "def get_callbacks(filename):\n",
    "    return [\n",
    "        # ReduceLROnPlateau(monitor='val_accuracy', mode='max', factor=np.sqrt(0.1), patience=10, verbose=1, min_lr=1e-4),\n",
    "        ModelCheckpoint(filepath=filename,  verbose=0, save_best_only=True, monitor='val_accuracy', mode='max')\n",
    "    ]"
   ]
  },
  {
   "cell_type": "code",
   "execution_count": 11,
   "metadata": {
    "_uuid": "bac8f7a2f7fb157ec21445359a6f316073515ff4"
   },
   "outputs": [],
   "source": [
    "# Step 1 \n",
    "model = get_model()\n",
    "batch_size = 512\n",
    "epochs = 20\n",
    "# Save initial weights\n",
    "initial_weights = 'mlp.mnist.initial_weights.hdf5'\n",
    "best_weights = 'mlp.mnist.first_train.hdf5'\n",
    "model.save_weights(initial_weights)\n",
    "history_1 = model.fit(X_train, \n",
    "           y_train,\n",
    "           epochs=epochs, batch_size=batch_size, \n",
    "           validation_data = (X_val, y_val),\n",
    "           verbose=0, \n",
    "           callbacks=get_callbacks(best_weights)\n",
    "          )"
   ]
  },
  {
   "cell_type": "code",
   "execution_count": 12,
   "metadata": {},
   "outputs": [
    {
     "name": "stdout",
     "output_type": "stream",
     "text": [
      "[0.3509059548377991, 0.8891000151634216]\n",
      "[0.3341708779335022, 0.890500009059906]\n"
     ]
    }
   ],
   "source": [
    "print(model.evaluate(X_test, y_test, verbose=0))\n",
    "model.load_weights('mlp.mnist.first_train.hdf5')\n",
    "print(model.evaluate(X_test, y_test, verbose=0))"
   ]
  },
  {
   "cell_type": "markdown",
   "metadata": {},
   "source": [
    "# Step 3 and 4. Get Trainned pruned model and load initial random weights"
   ]
  },
  {
   "cell_type": "code",
   "execution_count": 13,
   "metadata": {},
   "outputs": [
    {
     "name": "stdout",
     "output_type": "stream",
     "text": [
      "WARNING:tensorflow:From /home/usuario/anaconda3/envs/tensorflow2/lib/python3.6/site-packages/tensorflow_model_optimization/python/core/sparsity/keras/pruning_wrapper.py:199: Layer.add_variable (from tensorflow.python.keras.engine.base_layer) is deprecated and will be removed in a future version.\n",
      "Instructions for updating:\n",
      "Please use `layer.add_weight` method instead.\n"
     ]
    }
   ],
   "source": [
    "# Get prunned model with correct mask\n",
    "pm = 0.5 # Porcentage of weights not pruned\n",
    "untrained_pruned_model = prune_and_initilize(model, pm, initial_weights)"
   ]
  },
  {
   "cell_type": "code",
   "execution_count": 14,
   "metadata": {},
   "outputs": [
    {
     "name": "stdout",
     "output_type": "stream",
     "text": [
      "313/313 [==============================] - 0s 765us/step - loss: 1.3981 - accuracy: 0.6953\n"
     ]
    },
    {
     "data": {
      "text/plain": [
       "[1.3980684280395508, 0.6952999830245972]"
      ]
     },
     "execution_count": 14,
     "metadata": {},
     "output_type": "execute_result"
    }
   ],
   "source": [
    "untrained_pruned_model.evaluate(X_test, y_test)"
   ]
  },
  {
   "cell_type": "markdown",
   "metadata": {},
   "source": [
    "# Train pruned model"
   ]
  },
  {
   "cell_type": "code",
   "execution_count": 15,
   "metadata": {},
   "outputs": [],
   "source": [
    "def get_prunned_callbacks(filename):\n",
    "    return get_callbacks(filename) + [tfmot.sparsity.keras.UpdatePruningStep()]"
   ]
  },
  {
   "cell_type": "code",
   "execution_count": 16,
   "metadata": {},
   "outputs": [],
   "source": [
    "epochs = 20\n",
    "batch_size = 512\n",
    "compile_model(untrained_pruned_model)\n",
    "history_2 = untrained_pruned_model.fit(X_train, \n",
    "               y_train,\n",
    "               epochs=epochs, batch_size=batch_size, \n",
    "              validation_data = (X_val, y_val),\n",
    "               verbose=0, \n",
    "                    shuffle = True,\n",
    "                           callbacks=get_prunned_callbacks(best_weights)\n",
    "              )"
   ]
  },
  {
   "cell_type": "code",
   "execution_count": 17,
   "metadata": {},
   "outputs": [
    {
     "name": "stdout",
     "output_type": "stream",
     "text": [
      "[0.37906813621520996, 0.892300009727478]\n"
     ]
    },
    {
     "data": {
      "text/plain": [
       "[0.3272017538547516, 0.8944000005722046]"
      ]
     },
     "execution_count": 17,
     "metadata": {},
     "output_type": "execute_result"
    }
   ],
   "source": [
    "print(untrained_pruned_model.evaluate(X_test, y_test, verbose=0))\n",
    "untrained_pruned_model.load_weights(best_weights)\n",
    "untrained_pruned_model.evaluate(X_test, y_test, verbose=0)"
   ]
  },
  {
   "cell_type": "code",
   "execution_count": 18,
   "metadata": {},
   "outputs": [
    {
     "data": {
      "text/plain": [
       "[<matplotlib.lines.Line2D at 0x7fe3fc7138d0>]"
      ]
     },
     "execution_count": 18,
     "metadata": {},
     "output_type": "execute_result"
    },
    {
     "data": {
      "image/png": "[encoded data removed]",
      "text/plain": [
       "<Figure size 432x288 with 1 Axes>"
      ]
     },
     "metadata": {
      "needs_background": "light"
     },
     "output_type": "display_data"
    }
   ],
   "source": [
    "plt.plot(history_1.history['val_accuracy'], c='r')\n",
    "plt.plot(history_2.history['val_accuracy'], c='g')"
   ]
  },
  {
   "cell_type": "markdown",
   "metadata": {},
   "source": [
    "# Re-train reducing pm"
   ]
  },
  {
   "cell_type": "code",
   "execution_count": 19,
   "metadata": {},
   "outputs": [
    {
     "name": "stdout",
     "output_type": "stream",
     "text": [
      "0.3535533905932738\n"
     ]
    }
   ],
   "source": [
    "new_pm = pm**(1/2)*pm\n",
    "print(new_pm)\n",
    "untrained_pruned_model = prune_and_initilize(untrained_pruned_model, pm, initial_weights)"
   ]
  },
  {
   "cell_type": "code",
   "execution_count": 20,
   "metadata": {},
   "outputs": [
    {
     "name": "stdout",
     "output_type": "stream",
     "text": [
      "1594/1594 [==============================] - 1s 762us/step - loss: 1.3819 - accuracy: 0.7085\n"
     ]
    },
    {
     "data": {
      "text/plain": [
       "[1.3818621635437012, 0.7085098028182983]"
      ]
     },
     "execution_count": 20,
     "metadata": {},
     "output_type": "execute_result"
    }
   ],
   "source": [
    "untrained_pruned_model.evaluate(X_train, y_train)"
   ]
  },
  {
   "cell_type": "code",
   "execution_count": 21,
   "metadata": {},
   "outputs": [],
   "source": [
    "epochs = 20\n",
    "batch_size = 512\n",
    "compile_model(untrained_pruned_model)\n",
    "history_3 = untrained_pruned_model.fit(X_train, \n",
    "               y_train,\n",
    "               epochs=epochs, batch_size=batch_size, \n",
    "              validation_data = (X_val, y_val),\n",
    "               verbose=0, \n",
    "                    shuffle = True,\n",
    "                           callbacks=get_prunned_callbacks(best_weights)\n",
    "              )"
   ]
  },
  {
   "cell_type": "code",
   "execution_count": 22,
   "metadata": {},
   "outputs": [
    {
     "name": "stdout",
     "output_type": "stream",
     "text": [
      "[0.3876347541809082, 0.8902000188827515]\n",
      "[0.34668153524398804, 0.8952000141143799]\n"
     ]
    }
   ],
   "source": [
    "print(untrained_pruned_model.evaluate(X_test, y_test, verbose=0))\n",
    "untrained_pruned_model.load_weights(best_weights)\n",
    "print(untrained_pruned_model.evaluate(X_test, y_test, verbose=0))"
   ]
  },
  {
   "cell_type": "code",
   "execution_count": 23,
   "metadata": {},
   "outputs": [
    {
     "data": {
      "text/plain": [
       "<matplotlib.legend.Legend at 0x7fe3b07b9630>"
      ]
     },
     "execution_count": 23,
     "metadata": {},
     "output_type": "execute_result"
    },
    {
     "data": {
      "image/png": "[encoded data removed]",
      "text/plain": [
       "<Figure size 1440x720 with 1 Axes>"
      ]
     },
     "metadata": {
      "needs_background": "light"
     },
     "output_type": "display_data"
    }
   ],
   "source": [
    "plt.figure(figsize=(20,10))\n",
    "plt.plot(history_1.history['val_accuracy'], c='r', label='full model')\n",
    "plt.plot(history_2.history['val_accuracy'], c='g', label=f'{int(pm*1000)/10}% left')\n",
    "plt.plot(history_3.history['val_accuracy'], c='b', label=f'{int(new_pm*1000)/10}% left')\n",
    "plt.legend()"
   ]
  },
  {
   "cell_type": "code",
   "execution_count": null,
   "metadata": {},
   "outputs": [],
   "source": []
  },
  {
   "cell_type": "code",
   "execution_count": null,
   "metadata": {},
   "outputs": [],
   "source": []
  },
  {
   "cell_type": "code",
   "execution_count": null,
   "metadata": {},
   "outputs": [],
   "source": []
  },
  {
   "cell_type": "code",
   "execution_count": null,
   "metadata": {},
   "outputs": [],
   "source": []
  },
  {
   "cell_type": "code",
   "execution_count": null,
   "metadata": {},
   "outputs": [],
   "source": []
  },
  {
   "cell_type": "code",
   "execution_count": 24,
   "metadata": {},
   "outputs": [],
   "source": [
    "from tensorflow_model_optimization.sparsity.keras import strip_pruning"
   ]
  },
  {
   "cell_type": "code",
   "execution_count": 47,
   "metadata": {},
   "outputs": [
    {
     "name": "stdout",
     "output_type": "stream",
     "text": [
      "313/313 [==============================] - 0s 788us/step - loss: 0.4631 - accuracy: 0.8977\n"
     ]
    },
    {
     "data": {
      "text/plain": [
       "[0.4630688428878784, 0.8977000117301941]"
      ]
     },
     "execution_count": 47,
     "metadata": {},
     "output_type": "execute_result"
    }
   ],
   "source": [
    "last_model = strip_pruning(pruned_model_2)\n",
    "compile_model(last_model)\n",
    "last_model.evaluate(X_test, y_test)"
   ]
  },
  {
   "cell_type": "code",
   "execution_count": 48,
   "metadata": {},
   "outputs": [
    {
     "data": {
      "text/plain": [
       "0.6464461422324032"
      ]
     },
     "execution_count": 48,
     "metadata": {},
     "output_type": "execute_result"
    }
   ],
   "source": [
    "(last_model.get_weights()[2] == 0).sum()/(last_model.get_weights()[2] != 1).sum()"
   ]
  },
  {
   "cell_type": "code",
   "execution_count": 49,
   "metadata": {},
   "outputs": [
    {
     "name": "stdout",
     "output_type": "stream",
     "text": [
      "(784, 784)\n",
      "(784,)\n",
      "(784, 392)\n",
      "(392,)\n",
      "(392, 10)\n",
      "(10,)\n"
     ]
    }
   ],
   "source": [
    "weights = last_model.get_weights()\n",
    "for i, w in enumerate(weights):\n",
    "    print(w.shape)"
   ]
  },
  {
   "cell_type": "code",
   "execution_count": 50,
   "metadata": {},
   "outputs": [
    {
     "data": {
      "text/plain": [
       "26"
      ]
     },
     "execution_count": 50,
     "metadata": {},
     "output_type": "execute_result"
    }
   ],
   "source": [
    "neurons_to_kill = np.where((weights[4]!=0).sum(axis=1) == 0)\n",
    "len(neurons_to_kill[0])"
   ]
  },
  {
   "cell_type": "code",
   "execution_count": 51,
   "metadata": {},
   "outputs": [],
   "source": [
    "weights[2][:, neurons_to_kill] = 0"
   ]
  },
  {
   "cell_type": "code",
   "execution_count": 52,
   "metadata": {},
   "outputs": [
    {
     "name": "stdout",
     "output_type": "stream",
     "text": [
      "313/313 [==============================] - 0s 794us/step - loss: 0.4631 - accuracy: 0.8977\n"
     ]
    },
    {
     "data": {
      "text/plain": [
       "[0.4630688428878784, 0.8977000117301941]"
      ]
     },
     "execution_count": 52,
     "metadata": {},
     "output_type": "execute_result"
    }
   ],
   "source": [
    "last_model.set_weights(weights)\n",
    "last_model.evaluate(X_test, y_test)"
   ]
  },
  {
   "cell_type": "code",
   "execution_count": 53,
   "metadata": {},
   "outputs": [
    {
     "data": {
      "text/plain": [
       "0.666942159516868"
      ]
     },
     "execution_count": 53,
     "metadata": {},
     "output_type": "execute_result"
    }
   ],
   "source": [
    "(last_model.get_weights()[2] == 0).sum()/(last_model.get_weights()[2] != 1).sum()"
   ]
  },
  {
   "cell_type": "code",
   "execution_count": null,
   "metadata": {},
   "outputs": [],
   "source": []
  }
 ],
 "metadata": {
  "kernelspec": {
   "display_name": "Python 3",
   "language": "python",
   "name": "python3"
  },
  "language_info": {
   "codemirror_mode": {
    "name": "ipython",
    "version": 3
   },
   "file_extension": ".py",
   "mimetype": "text/x-python",
   "name": "python",
   "nbconvert_exporter": "python",
   "pygments_lexer": "ipython3",
   "version": "3.6.10"
  }
 },
 "nbformat": 4,
 "nbformat_minor": 4
}
