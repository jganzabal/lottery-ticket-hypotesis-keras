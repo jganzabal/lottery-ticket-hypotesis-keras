{
 "cells": [
  {
   "cell_type": "code",
   "execution_count": 1,
   "metadata": {},
   "outputs": [],
   "source": [
    "#! pip install -q tensorflow-model-optimization\n",
    "#! pip install tensorflow-addons"
   ]
  },
  {
   "cell_type": "code",
   "execution_count": 2,
   "metadata": {},
   "outputs": [],
   "source": [
    "%load_ext autoreload\n",
    "%autoreload 2"
   ]
  },
  {
   "cell_type": "code",
   "execution_count": 3,
   "metadata": {},
   "outputs": [],
   "source": [
    "from LTH_helper import prune_and_initilize, is_pruned, test_model_sparsity"
   ]
  },
  {
   "cell_type": "markdown",
   "metadata": {},
   "source": [
    "https://arxiv.org/abs/1803.03635\n",
    "\n",
    "https://www.youtube.com/watch?v=0VH1Lim8gL8&feature=youtu.be&t=2760"
   ]
  },
  {
   "cell_type": "code",
   "execution_count": 4,
   "metadata": {},
   "outputs": [],
   "source": [
    "import numpy as np\n",
    "import pandas as pd\n",
    "from tensorflow.keras.models import Sequential\n",
    "from tensorflow.keras.layers import Dense, Activation, BatchNormalization\n",
    "import os\n",
    "import random as rn\n",
    "from matplotlib import pyplot as plt\n",
    "import tensorflow as tf\n",
    "from sklearn.model_selection import train_test_split\n",
    "from tensorflow.keras import optimizers\n",
    "from tensorflow.keras.callbacks import ReduceLROnPlateau, ModelCheckpoint\n",
    "import tensorflow_model_optimization as tfmot\n",
    "from tensorflow.keras import initializers\n",
    "from tensorflow.keras.datasets import fashion_mnist, mnist"
   ]
  },
  {
   "cell_type": "code",
   "execution_count": 5,
   "metadata": {},
   "outputs": [],
   "source": [
    "def set_random_seeds(seed=42):\n",
    "    os.environ['PYTHONHASHSEED'] = '0'\n",
    "    np.random.seed(seed)\n",
    "    rn.seed(seed)\n",
    "    tf.random.set_seed(seed)\n",
    "    # session_conf = tf.ConfigProto(intra_op_parallelism_threads=1, inter_op_parallelism_threads=1)\n",
    "    # sess = tf.Session(graph=tf.get_default_graph(), config=session_conf)\n",
    "    # K.set_session(sess)"
   ]
  },
  {
   "cell_type": "markdown",
   "metadata": {
    "_uuid": "21a1ba1a316bb0a6f5d8f85d86b3ba2307f125af"
   },
   "source": [
    "# Cargo datos"
   ]
  },
  {
   "cell_type": "code",
   "execution_count": 6,
   "metadata": {},
   "outputs": [],
   "source": [
    "my_dataset = fashion_mnist"
   ]
  },
  {
   "cell_type": "code",
   "execution_count": 7,
   "metadata": {},
   "outputs": [],
   "source": [
    "(train_images, train_labels), (test_images, test_labels) = my_dataset.load_data()\n",
    "X = train_images.reshape(-1, 784)/255\n",
    "y = train_labels.reshape(-1, 1)\n",
    "X_test = test_images.reshape(-1, 784)/255\n",
    "y_test = test_labels.reshape(-1, 1)\n",
    "X_train, X_val, y_train, y_val = train_test_split(X, y, test_size=0.15, random_state=42)"
   ]
  },
  {
   "cell_type": "markdown",
   "metadata": {
    "_uuid": "f987cc26468c6d17e63a953827437abb66da4383"
   },
   "source": [
    "# Red neuronal básica"
   ]
  },
  {
   "cell_type": "code",
   "execution_count": 8,
   "metadata": {},
   "outputs": [],
   "source": [
    "def compile_model(model, lr=0.001):\n",
    "    optim = optimizers.Adam(lr=lr)\n",
    "    model.compile(loss = 'sparse_categorical_crossentropy', optimizer=optim, metrics=['accuracy'])"
   ]
  },
  {
   "cell_type": "code",
   "execution_count": 84,
   "metadata": {
    "_uuid": "6e998b9f383e967a21d0ee6a89dfc8fec72d7f80"
   },
   "outputs": [
    {
     "name": "stdout",
     "output_type": "stream",
     "text": [
      "Model: \"sequential_156\"\n",
      "_________________________________________________________________\n",
      "Layer (type)                 Output Shape              Param #   \n",
      "=================================================================\n",
      "hidden_1 (Dense)             (None, 784)               615440    \n",
      "_________________________________________________________________\n",
      "activation_99 (Activation)   (None, 784)               0         \n",
      "_________________________________________________________________\n",
      "hidden_2 (Dense)             (None, 392)               307720    \n",
      "_________________________________________________________________\n",
      "activation_100 (Activation)  (None, 392)               0         \n",
      "_________________________________________________________________\n",
      "Salida (Dense)               (None, 10)                3930      \n",
      "_________________________________________________________________\n",
      "activation_101 (Activation)  (None, 10)                0         \n",
      "=================================================================\n",
      "Total params: 927,090\n",
      "Trainable params: 927,090\n",
      "Non-trainable params: 0\n",
      "_________________________________________________________________\n"
     ]
    }
   ],
   "source": [
    "def get_model(initial_weights=None, compile_model_flag=True, lr=0.001):\n",
    "    reduce = 2\n",
    "    input_dim=784\n",
    "    output_size = 10\n",
    "    # Creo el modelo\n",
    "    model = Sequential()\n",
    "    model.add(Dense(784*2//reduce, activation='linear', name='hidden_1', kernel_initializer=initializers.glorot_uniform(),\n",
    "                    input_dim=input_dim))\n",
    "    #model.add(BatchNormalization())\n",
    "    model.add(Activation('relu'))\n",
    "    model.add(Dense(784//reduce, activation='linear', name='hidden_2', kernel_initializer=initializers.glorot_uniform(),\n",
    "                   ))\n",
    "    #model.add(BatchNormalization())\n",
    "    model.add(Activation('relu'))\n",
    "    model.add(Dense(output_size, name='Salida', kernel_initializer=initializers.glorot_uniform(),\n",
    "                   ))\n",
    "    model.add(Activation('softmax'))\n",
    "    if compile_model_flag:\n",
    "        compile_model(model, lr=lr)\n",
    "    if initial_weights is not None:\n",
    "        model.save_weights(initial_weights)\n",
    "    return model\n",
    "model = get_model()\n",
    "# model.save_weights('random-init.hdf5')\n",
    "model.summary()"
   ]
  },
  {
   "cell_type": "markdown",
   "metadata": {},
   "source": [
    "![LTH_alg.png](LTH_alg.png)"
   ]
  },
  {
   "cell_type": "markdown",
   "metadata": {},
   "source": [
    "# Step 1 and 2. Initialize and Train network"
   ]
  },
  {
   "cell_type": "code",
   "execution_count": 85,
   "metadata": {},
   "outputs": [],
   "source": [
    "def get_callbacks(filename):\n",
    "    return [\n",
    "        # ReduceLROnPlateau(monitor='val_accuracy', mode='max', factor=np.sqrt(0.1), patience=10, verbose=1, min_lr=1e-4),\n",
    "        ModelCheckpoint(filepath=filename,  verbose=0, save_best_only=True, monitor='val_accuracy', mode='max')\n",
    "    ]"
   ]
  },
  {
   "cell_type": "code",
   "execution_count": 86,
   "metadata": {},
   "outputs": [],
   "source": [
    "def get_prunned_callbacks(model, filename):\n",
    "    if is_pruned(model):\n",
    "        return get_callbacks(filename) + [tfmot.sparsity.keras.UpdatePruningStep()]\n",
    "    else:\n",
    "        return get_callbacks(filename)"
   ]
  },
  {
   "cell_type": "code",
   "execution_count": 110,
   "metadata": {
    "_uuid": "bac8f7a2f7fb157ec21445359a6f316073515ff4"
   },
   "outputs": [],
   "source": [
    "def train_model(model, callbacks, batch_size = 512, epochs = 10):\n",
    "    history = model.fit(X_train, \n",
    "               y_train,\n",
    "               epochs=epochs, batch_size=batch_size, \n",
    "               validation_data = (X_val, y_val),\n",
    "               verbose=0, \n",
    "               callbacks=callbacks\n",
    "              )\n",
    "    return model, history\n",
    "\n",
    "initial_weights = 'mlp.mnist.initial_weights.hdf5'\n",
    "best_weights = 'mlp.mnist.first_train.hdf5'"
   ]
  },
  {
   "cell_type": "code",
   "execution_count": 115,
   "metadata": {},
   "outputs": [
    {
     "name": "stdout",
     "output_type": "stream",
     "text": [
      "hidden_1: 0.0 - no mask\n",
      "hidden_2: 0.0 - no mask\n",
      "Salida: 0.0 - no mask\n",
      "[2.38653564453125, 0.13050000369548798]\n",
      "[0.31938448548316956, 0.8845000267028809]\n",
      "\n",
      "prune_low_magnitude_hidden_1: 0.5, 1.0\n",
      "prune_low_magnitude_hidden_2: 0.5, 1.0\n",
      "prune_low_magnitude_Salida: 0.5, 1.0\n",
      "[1.0761690139770508, 0.7943000197410583]\n",
      "[0.3106262683868408, 0.8912000060081482]\n",
      "\n",
      "prune_low_magnitude_hidden_1: 0.6469992971678468, 1.0\n",
      "prune_low_magnitude_hidden_2: 0.6469992971678468, 1.0\n",
      "prune_low_magnitude_Salida: 0.6469387755102041, 1.0\n",
      "[1.0257914066314697, 0.7633000016212463]\n",
      "[0.31036773324012756, 0.8928999900817871]\n",
      "\n",
      "prune_low_magnitude_hidden_1: 0.7899996095376927, 1.0\n",
      "prune_low_magnitude_hidden_2: 0.7899996095376927, 1.0\n",
      "prune_low_magnitude_Salida: 0.7900510204081632, 1.0\n",
      "[1.4937248229980469, 0.7057999968528748]\n",
      "[0.3041163980960846, 0.89410001039505]\n",
      "\n"
     ]
    }
   ],
   "source": [
    "model = get_model(initial_weights)\n",
    "pms = [1, 0.5, 0.353, 0.210] #, 0.096]\n",
    "histories = []\n",
    "for pm in pms:\n",
    "    if pm<1:\n",
    "        model = prune_and_initilize(model, pm, initial_weights)\n",
    "        compile_model(model)\n",
    "    test_model_sparsity(model)\n",
    "    \n",
    "    print(model.evaluate(X_test, y_test, verbose=0))\n",
    "    model, history = train_model(model, get_prunned_callbacks(model, best_weights))\n",
    "    histories.append(history)\n",
    "    model.load_weights(best_weights)\n",
    "    print(model.evaluate(X_test, y_test, verbose=0))\n",
    "    print()"
   ]
  },
  {
   "cell_type": "code",
   "execution_count": 116,
   "metadata": {},
   "outputs": [
    {
     "data": {
      "text/plain": [
       "<matplotlib.legend.Legend at 0x7f72ec67ff98>"
      ]
     },
     "execution_count": 116,
     "metadata": {},
     "output_type": "execute_result"
    },
    {
     "data": {
      "image/png": "[encoded data removed]",
      "text/plain": [
       "<Figure size 1440x720 with 1 Axes>"
      ]
     },
     "metadata": {
      "needs_background": "light"
     },
     "output_type": "display_data"
    }
   ],
   "source": [
    "c = ['r', 'g', 'b', 'k', 'y']\n",
    "plt.figure(figsize=(20,10))\n",
    "for i, history in enumerate(histories):\n",
    "    plt.plot(history.history['val_accuracy'], c=c[i], label=f'{pms[i]}')\n",
    "plt.legend()"
   ]
  },
  {
   "cell_type": "code",
   "execution_count": null,
   "metadata": {},
   "outputs": [],
   "source": []
  },
  {
   "cell_type": "code",
   "execution_count": 118,
   "metadata": {},
   "outputs": [],
   "source": [
    "from tensorflow_model_optimization.sparsity.keras import strip_pruning"
   ]
  },
  {
   "cell_type": "code",
   "execution_count": 119,
   "metadata": {},
   "outputs": [
    {
     "name": "stdout",
     "output_type": "stream",
     "text": [
      "313/313 [==============================] - 0s 824us/step - loss: 0.3041 - accuracy: 0.8941\n"
     ]
    },
    {
     "data": {
      "text/plain": [
       "[0.3041163980960846, 0.89410001039505]"
      ]
     },
     "execution_count": 119,
     "metadata": {},
     "output_type": "execute_result"
    }
   ],
   "source": [
    "last_model = strip_pruning(model)\n",
    "compile_model(last_model)\n",
    "last_model.evaluate(X_test, y_test)"
   ]
  },
  {
   "cell_type": "code",
   "execution_count": 120,
   "metadata": {},
   "outputs": [
    {
     "data": {
      "text/plain": [
       "0.7899996095376927"
      ]
     },
     "execution_count": 120,
     "metadata": {},
     "output_type": "execute_result"
    }
   ],
   "source": [
    "(last_model.get_weights()[2] == 0).sum()/(last_model.get_weights()[2] != 1).sum()"
   ]
  },
  {
   "cell_type": "code",
   "execution_count": 121,
   "metadata": {},
   "outputs": [
    {
     "name": "stdout",
     "output_type": "stream",
     "text": [
      "(784, 784)\n",
      "(784,)\n",
      "(784, 392)\n",
      "(392,)\n",
      "(392, 10)\n",
      "(10,)\n"
     ]
    }
   ],
   "source": [
    "weights = last_model.get_weights()\n",
    "for i, w in enumerate(weights):\n",
    "    print(w.shape)"
   ]
  },
  {
   "cell_type": "code",
   "execution_count": 122,
   "metadata": {},
   "outputs": [
    {
     "data": {
      "text/plain": [
       "47"
      ]
     },
     "execution_count": 122,
     "metadata": {},
     "output_type": "execute_result"
    }
   ],
   "source": [
    "neurons_to_kill = np.where((weights[4]!=0).sum(axis=1) == 0)\n",
    "len(neurons_to_kill[0])"
   ]
  },
  {
   "cell_type": "code",
   "execution_count": 123,
   "metadata": {},
   "outputs": [],
   "source": [
    "weights[2][:, neurons_to_kill] = 0"
   ]
  },
  {
   "cell_type": "code",
   "execution_count": 124,
   "metadata": {},
   "outputs": [
    {
     "name": "stdout",
     "output_type": "stream",
     "text": [
      "313/313 [==============================] - 0s 814us/step - loss: 0.3041 - accuracy: 0.8941\n"
     ]
    },
    {
     "data": {
      "text/plain": [
       "[0.3041163980960846, 0.89410001039505]"
      ]
     },
     "execution_count": 124,
     "metadata": {},
     "output_type": "execute_result"
    }
   ],
   "source": [
    "last_model.set_weights(weights)\n",
    "last_model.evaluate(X_test, y_test)"
   ]
  },
  {
   "cell_type": "code",
   "execution_count": 125,
   "metadata": {},
   "outputs": [
    {
     "data": {
      "text/plain": [
       "0.8082960224906289"
      ]
     },
     "execution_count": 125,
     "metadata": {},
     "output_type": "execute_result"
    }
   ],
   "source": [
    "(last_model.get_weights()[2] == 0).sum()/(last_model.get_weights()[2] != 1).sum()"
   ]
  },
  {
   "cell_type": "code",
   "execution_count": null,
   "metadata": {},
   "outputs": [],
   "source": []
  }
 ],
 "metadata": {
  "kernelspec": {
   "display_name": "Python 3",
   "language": "python",
   "name": "python3"
  },
  "language_info": {
   "codemirror_mode": {
    "name": "ipython",
    "version": 3
   },
   "file_extension": ".py",
   "mimetype": "text/x-python",
   "name": "python",
   "nbconvert_exporter": "python",
   "pygments_lexer": "ipython3",
   "version": "3.6.10"
  }
 },
 "nbformat": 4,
 "nbformat_minor": 4
}
