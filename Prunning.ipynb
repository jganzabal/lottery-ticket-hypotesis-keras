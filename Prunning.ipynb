{
 "cells": [
  {
   "cell_type": "code",
   "execution_count": 1,
   "metadata": {},
   "outputs": [],
   "source": [
    "#! pip install -q tensorflow-model-optimization\n",
    "#! pip install tensorflow-addons"
   ]
  },
  {
   "cell_type": "markdown",
   "metadata": {},
   "source": [
    "https://arxiv.org/abs/1803.03635"
   ]
  },
  {
   "cell_type": "code",
   "execution_count": 2,
   "metadata": {},
   "outputs": [],
   "source": [
    "import tensorflow as tf\n",
    "import tensorflow_addons as tfa\n",
    "import numpy as np\n",
    "from tensorflow.keras import backend as K\n",
    "import tensorflow as tf\n",
    "import random as rn\n",
    "import os\n",
    "import tensorflow.keras\n",
    "import matplotlib.pyplot as plt\n",
    "from IPython.display import clear_output\n",
    "import numpy as np\n",
    "from sklearn.model_selection import StratifiedKFold, train_test_split\n",
    "from tensorflow.keras.utils import to_categorical\n",
    "from tensorflow.keras.callbacks import ModelCheckpoint \n",
    "from tensorflow.keras.models import Sequential\n",
    "from tensorflow.keras.layers import Dense, Dropout, Activation, Flatten, LeakyReLU, PReLU, BatchNormalization\n",
    "from tensorflow.keras import optimizers\n",
    "from tensorflow.keras import initializers\n",
    "from tensorflow.keras import regularizers\n",
    "import pandas as pd\n",
    "from tensorflow.keras.callbacks import ReduceLROnPlateau\n",
    "from tensorflow.keras.callbacks import LearningRateScheduler\n",
    "import tensorflow_model_optimization as tfmot\n",
    "from tensorflow.keras.models import Model\n",
    "import tensorflow.keras as keras\n",
    "from tensorflow.keras.layers import Input"
   ]
  },
  {
   "cell_type": "code",
   "execution_count": 3,
   "metadata": {},
   "outputs": [],
   "source": [
    "def set_random_seeds(seed=42):\n",
    "    os.environ['PYTHONHASHSEED'] = '0'\n",
    "    np.random.seed(seed)\n",
    "    rn.seed(seed)\n",
    "    tf.random.set_seed(seed)\n",
    "    # session_conf = tf.ConfigProto(intra_op_parallelism_threads=1, inter_op_parallelism_threads=1)\n",
    "    # sess = tf.Session(graph=tf.get_default_graph(), config=session_conf)\n",
    "    # K.set_session(sess)"
   ]
  },
  {
   "cell_type": "markdown",
   "metadata": {
    "_uuid": "21a1ba1a316bb0a6f5d8f85d86b3ba2307f125af"
   },
   "source": [
    "# Cargo datos"
   ]
  },
  {
   "cell_type": "code",
   "execution_count": 4,
   "metadata": {},
   "outputs": [],
   "source": [
    "folder = './'"
   ]
  },
  {
   "cell_type": "code",
   "execution_count": 5,
   "metadata": {
    "_uuid": "7720949cd52b1de2d7687500e3d121f30bc80f82"
   },
   "outputs": [],
   "source": [
    "X = np.load(folder+'train_images.npy').reshape(-1, 784)/255\n",
    "y = np.loadtxt(folder+'train_labels.csv', delimiter=',', skiprows=1).reshape(-1, 1)\n",
    "X_test = np.load(folder+'test_images.npy').reshape(-1, 784)/255\n",
    "y_test = pd.read_csv(folder+'test_labels.csv')['Category'].values"
   ]
  },
  {
   "cell_type": "markdown",
   "metadata": {
    "_uuid": "f987cc26468c6d17e63a953827437abb66da4383"
   },
   "source": [
    "# Red neuronal básica"
   ]
  },
  {
   "cell_type": "code",
   "execution_count": 6,
   "metadata": {
    "_uuid": "6e998b9f383e967a21d0ee6a89dfc8fec72d7f80"
   },
   "outputs": [
    {
     "name": "stdout",
     "output_type": "stream",
     "text": [
      "Model: \"sequential\"\n",
      "_________________________________________________________________\n",
      "Layer (type)                 Output Shape              Param #   \n",
      "=================================================================\n",
      "hidden_1 (Dense)             (None, 1568)              1230880   \n",
      "_________________________________________________________________\n",
      "batch_normalization (BatchNo (None, 1568)              6272      \n",
      "_________________________________________________________________\n",
      "p_re_lu (PReLU)              (None, 1568)              1568      \n",
      "_________________________________________________________________\n",
      "hidden_2 (Dense)             (None, 784)               1230096   \n",
      "_________________________________________________________________\n",
      "batch_normalization_1 (Batch (None, 784)               3136      \n",
      "_________________________________________________________________\n",
      "p_re_lu_1 (PReLU)            (None, 784)               784       \n",
      "_________________________________________________________________\n",
      "Salida (Dense)               (None, 10)                7850      \n",
      "_________________________________________________________________\n",
      "activation (Activation)      (None, 10)                0         \n",
      "=================================================================\n",
      "Total params: 2,480,586\n",
      "Trainable params: 2,475,882\n",
      "Non-trainable params: 4,704\n",
      "_________________________________________________________________\n"
     ]
    }
   ],
   "source": [
    "def get_model(l1=1e-5, input_dim=784):\n",
    "    output_size = 10\n",
    "    # initializer = initializers.normal(mean=0, stddev=0.001)\n",
    "    initializer = 'normal'\n",
    "    # Creo el modelo\n",
    "    model = Sequential()\n",
    "    model.add(Dense(784*2, activation='linear', kernel_initializer=initializer, name='hidden_1', input_dim=input_dim,\n",
    "                    kernel_regularizer=regularizers.l1(l=l1))) #\n",
    "    model.add(BatchNormalization())\n",
    "    model.add(PReLU())\n",
    "    # model.add(Dropout(0.2))\n",
    "    model.add(Dense(784, activation='linear', kernel_initializer=initializer, name='hidden_2', \n",
    "                    kernel_regularizer=regularizers.l1(l=l1)\n",
    "                   ))\n",
    "    model.add(BatchNormalization())\n",
    "    model.add(PReLU())\n",
    "#     model.add(Dense(400, activation='linear', kernel_initializer=initializer))\n",
    "#     model.add(LeakyReLU())\n",
    "    model.add(Dense(output_size, kernel_initializer=initializer, name='Salida'))\n",
    "    model.add(Activation('softmax'))\n",
    "    return model\n",
    "model = get_model()\n",
    "# model.save_weights('random-init.hdf5')\n",
    "model.summary()"
   ]
  },
  {
   "cell_type": "markdown",
   "metadata": {},
   "source": [
    "# Train network"
   ]
  },
  {
   "cell_type": "code",
   "execution_count": 8,
   "metadata": {
    "_uuid": "bac8f7a2f7fb157ec21445359a6f316073515ff4",
    "collapsed": true,
    "jupyter": {
     "outputs_hidden": true
    }
   },
   "outputs": [
    {
     "name": "stdout",
     "output_type": "stream",
     "text": [
      "Epoch 1/96\n",
      "\n",
      "Epoch 00001: val_accuracy improved from -inf to 0.85078, saving model to mlp.mnist_no_kfold.hdf5\n",
      "200/200 - 1s - loss: 0.4261 - accuracy: 0.8468 - val_loss: 0.4076 - val_accuracy: 0.8508 - lr: 0.0010\n",
      "Epoch 2/96\n",
      "\n",
      "Epoch 00002: val_accuracy did not improve from 0.85078\n",
      "200/200 - 1s - loss: 0.3085 - accuracy: 0.8860 - val_loss: 0.4139 - val_accuracy: 0.8487 - lr: 0.0010\n",
      "Epoch 3/96\n",
      "\n",
      "Epoch 00003: val_accuracy improved from 0.85078 to 0.85111, saving model to mlp.mnist_no_kfold.hdf5\n",
      "200/200 - 1s - loss: 0.2588 - accuracy: 0.9039 - val_loss: 0.4222 - val_accuracy: 0.8511 - lr: 0.0010\n",
      "Epoch 4/96\n",
      "\n",
      "Epoch 00004: val_accuracy improved from 0.85111 to 0.85444, saving model to mlp.mnist_no_kfold.hdf5\n",
      "200/200 - 1s - loss: 0.2289 - accuracy: 0.9140 - val_loss: 0.3806 - val_accuracy: 0.8544 - lr: 0.0010\n",
      "Epoch 5/96\n",
      "\n",
      "Epoch 00005: val_accuracy did not improve from 0.85444\n",
      "200/200 - 1s - loss: 0.1999 - accuracy: 0.9254 - val_loss: 0.7009 - val_accuracy: 0.7972 - lr: 0.0010\n",
      "Epoch 6/96\n",
      "\n",
      "Epoch 00006: val_accuracy improved from 0.85444 to 0.86467, saving model to mlp.mnist_no_kfold.hdf5\n",
      "200/200 - 1s - loss: 0.1839 - accuracy: 0.9310 - val_loss: 0.3694 - val_accuracy: 0.8647 - lr: 0.0010\n",
      "Epoch 7/96\n",
      "\n",
      "Epoch 00007: val_accuracy improved from 0.86467 to 0.86600, saving model to mlp.mnist_no_kfold.hdf5\n",
      "200/200 - 1s - loss: 0.1591 - accuracy: 0.9410 - val_loss: 0.3930 - val_accuracy: 0.8660 - lr: 0.0010\n",
      "Epoch 8/96\n",
      "\n",
      "Epoch 00008: val_accuracy did not improve from 0.86600\n",
      "200/200 - 1s - loss: 0.1409 - accuracy: 0.9487 - val_loss: 0.4146 - val_accuracy: 0.8563 - lr: 0.0010\n",
      "Epoch 9/96\n",
      "\n",
      "Epoch 00009: val_accuracy did not improve from 0.86600\n",
      "200/200 - 1s - loss: 0.1275 - accuracy: 0.9526 - val_loss: 0.4470 - val_accuracy: 0.8658 - lr: 0.0010\n",
      "Epoch 10/96\n",
      "\n",
      "Epoch 00010: val_accuracy did not improve from 0.86600\n",
      "200/200 - 1s - loss: 0.1117 - accuracy: 0.9579 - val_loss: 0.6096 - val_accuracy: 0.8474 - lr: 0.0010\n",
      "Epoch 11/96\n",
      "\n",
      "Epoch 00011: val_accuracy did not improve from 0.86600\n",
      "200/200 - 1s - loss: 0.1018 - accuracy: 0.9632 - val_loss: 0.5845 - val_accuracy: 0.8439 - lr: 0.0010\n",
      "Epoch 12/96\n",
      "\n",
      "Epoch 00012: val_accuracy did not improve from 0.86600\n",
      "200/200 - 1s - loss: 0.0886 - accuracy: 0.9673 - val_loss: 0.5420 - val_accuracy: 0.8437 - lr: 0.0010\n",
      "Epoch 13/96\n",
      "\n",
      "Epoch 00013: val_accuracy did not improve from 0.86600\n",
      "200/200 - 1s - loss: 0.0855 - accuracy: 0.9676 - val_loss: 0.5940 - val_accuracy: 0.8513 - lr: 0.0010\n",
      "Epoch 14/96\n",
      "\n",
      "Epoch 00014: val_accuracy improved from 0.86600 to 0.86867, saving model to mlp.mnist_no_kfold.hdf5\n",
      "200/200 - 1s - loss: 0.0766 - accuracy: 0.9715 - val_loss: 0.4823 - val_accuracy: 0.8687 - lr: 0.0010\n",
      "Epoch 15/96\n",
      "\n",
      "Epoch 00015: val_accuracy improved from 0.86867 to 0.88056, saving model to mlp.mnist_no_kfold.hdf5\n",
      "200/200 - 1s - loss: 0.0689 - accuracy: 0.9745 - val_loss: 0.4301 - val_accuracy: 0.8806 - lr: 0.0010\n",
      "Epoch 16/96\n",
      "\n",
      "Epoch 00016: val_accuracy did not improve from 0.88056\n",
      "200/200 - 1s - loss: 0.0602 - accuracy: 0.9779 - val_loss: 0.5495 - val_accuracy: 0.8656 - lr: 0.0010\n",
      "Epoch 17/96\n",
      "\n",
      "Epoch 00017: val_accuracy did not improve from 0.88056\n",
      "200/200 - 1s - loss: 0.0598 - accuracy: 0.9785 - val_loss: 0.4495 - val_accuracy: 0.8804 - lr: 0.0010\n",
      "Epoch 18/96\n",
      "\n",
      "Epoch 00018: val_accuracy improved from 0.88056 to 0.88900, saving model to mlp.mnist_no_kfold.hdf5\n",
      "200/200 - 1s - loss: 0.0514 - accuracy: 0.9809 - val_loss: 0.4534 - val_accuracy: 0.8890 - lr: 0.0010\n",
      "Epoch 19/96\n",
      "\n",
      "Epoch 00019: val_accuracy did not improve from 0.88900\n",
      "200/200 - 1s - loss: 0.0464 - accuracy: 0.9829 - val_loss: 0.5639 - val_accuracy: 0.8680 - lr: 0.0010\n",
      "Epoch 20/96\n",
      "\n",
      "Epoch 00020: val_accuracy did not improve from 0.88900\n",
      "200/200 - 1s - loss: 0.0421 - accuracy: 0.9850 - val_loss: 0.5255 - val_accuracy: 0.8631 - lr: 0.0010\n",
      "Epoch 21/96\n",
      "\n",
      "Epoch 00021: val_accuracy did not improve from 0.88900\n",
      "200/200 - 1s - loss: 0.0479 - accuracy: 0.9826 - val_loss: 0.5743 - val_accuracy: 0.8693 - lr: 0.0010\n",
      "Epoch 22/96\n",
      "\n",
      "Epoch 00022: val_accuracy did not improve from 0.88900\n",
      "200/200 - 1s - loss: 0.0414 - accuracy: 0.9851 - val_loss: 0.5330 - val_accuracy: 0.8793 - lr: 0.0010\n",
      "Epoch 23/96\n",
      "\n",
      "Epoch 00023: val_accuracy did not improve from 0.88900\n",
      "200/200 - 1s - loss: 0.0342 - accuracy: 0.9885 - val_loss: 0.5526 - val_accuracy: 0.8729 - lr: 0.0010\n",
      "Epoch 24/96\n",
      "\n",
      "Epoch 00024: val_accuracy did not improve from 0.88900\n",
      "200/200 - 1s - loss: 0.0379 - accuracy: 0.9866 - val_loss: 0.5730 - val_accuracy: 0.8773 - lr: 0.0010\n",
      "Epoch 25/96\n",
      "\n",
      "Epoch 00025: val_accuracy did not improve from 0.88900\n",
      "200/200 - 1s - loss: 0.0387 - accuracy: 0.9862 - val_loss: 0.5229 - val_accuracy: 0.8849 - lr: 0.0010\n",
      "Epoch 26/96\n",
      "\n",
      "Epoch 00026: val_accuracy did not improve from 0.88900\n",
      "200/200 - 1s - loss: 0.0289 - accuracy: 0.9896 - val_loss: 0.5893 - val_accuracy: 0.8783 - lr: 0.0010\n",
      "Epoch 27/96\n",
      "\n",
      "Epoch 00027: val_accuracy did not improve from 0.88900\n",
      "200/200 - 1s - loss: 0.0299 - accuracy: 0.9893 - val_loss: 0.5914 - val_accuracy: 0.8792 - lr: 0.0010\n",
      "Epoch 28/96\n",
      "\n",
      "Epoch 00028: val_accuracy did not improve from 0.88900\n",
      "\n",
      "Epoch 00028: ReduceLROnPlateau reducing learning rate to 0.00031622778103685084.\n",
      "200/200 - 1s - loss: 0.0331 - accuracy: 0.9885 - val_loss: 0.5740 - val_accuracy: 0.8758 - lr: 0.0010\n",
      "Epoch 29/96\n",
      "\n",
      "Epoch 00029: val_accuracy improved from 0.88900 to 0.90511, saving model to mlp.mnist_no_kfold.hdf5\n",
      "200/200 - 1s - loss: 0.0093 - accuracy: 0.9974 - val_loss: 0.4607 - val_accuracy: 0.9051 - lr: 3.1623e-04\n",
      "Epoch 30/96\n",
      "\n",
      "Epoch 00030: val_accuracy improved from 0.90511 to 0.90622, saving model to mlp.mnist_no_kfold.hdf5\n",
      "200/200 - 1s - loss: 0.0035 - accuracy: 0.9997 - val_loss: 0.4702 - val_accuracy: 0.9062 - lr: 3.1623e-04\n",
      "Epoch 31/96\n",
      "\n",
      "Epoch 00031: val_accuracy improved from 0.90622 to 0.90678, saving model to mlp.mnist_no_kfold.hdf5\n",
      "200/200 - 1s - loss: 0.0023 - accuracy: 0.9998 - val_loss: 0.4730 - val_accuracy: 0.9068 - lr: 3.1623e-04\n",
      "Epoch 32/96\n",
      "\n",
      "Epoch 00032: val_accuracy did not improve from 0.90678\n",
      "200/200 - 1s - loss: 0.0020 - accuracy: 0.9998 - val_loss: 0.4774 - val_accuracy: 0.9043 - lr: 3.1623e-04\n",
      "Epoch 33/96\n",
      "\n",
      "Epoch 00033: val_accuracy did not improve from 0.90678\n",
      "200/200 - 1s - loss: 0.0014 - accuracy: 1.0000 - val_loss: 0.4902 - val_accuracy: 0.9062 - lr: 3.1623e-04\n",
      "Epoch 34/96\n",
      "\n",
      "Epoch 00034: val_accuracy improved from 0.90678 to 0.90711, saving model to mlp.mnist_no_kfold.hdf5\n",
      "200/200 - 1s - loss: 0.0012 - accuracy: 1.0000 - val_loss: 0.4965 - val_accuracy: 0.9071 - lr: 3.1623e-04\n",
      "Epoch 35/96\n",
      "\n",
      "Epoch 00035: val_accuracy did not improve from 0.90711\n",
      "200/200 - 1s - loss: 0.0010 - accuracy: 1.0000 - val_loss: 0.5035 - val_accuracy: 0.9067 - lr: 3.1623e-04\n",
      "Epoch 36/96\n",
      "\n",
      "Epoch 00036: val_accuracy did not improve from 0.90711\n",
      "200/200 - 1s - loss: 8.4189e-04 - accuracy: 1.0000 - val_loss: 0.5066 - val_accuracy: 0.9066 - lr: 3.1623e-04\n",
      "Epoch 37/96\n",
      "\n",
      "Epoch 00037: val_accuracy did not improve from 0.90711\n",
      "200/200 - 1s - loss: 7.2886e-04 - accuracy: 1.0000 - val_loss: 0.5213 - val_accuracy: 0.9056 - lr: 3.1623e-04\n",
      "Epoch 38/96\n",
      "\n",
      "Epoch 00038: val_accuracy improved from 0.90711 to 0.90722, saving model to mlp.mnist_no_kfold.hdf5\n",
      "200/200 - 1s - loss: 6.4668e-04 - accuracy: 1.0000 - val_loss: 0.5159 - val_accuracy: 0.9072 - lr: 3.1623e-04\n",
      "Epoch 39/96\n",
      "\n",
      "Epoch 00039: val_accuracy did not improve from 0.90722\n",
      "200/200 - 1s - loss: 5.4311e-04 - accuracy: 1.0000 - val_loss: 0.5239 - val_accuracy: 0.9069 - lr: 3.1623e-04\n",
      "Epoch 40/96\n",
      "\n",
      "Epoch 00040: val_accuracy improved from 0.90722 to 0.90767, saving model to mlp.mnist_no_kfold.hdf5\n",
      "200/200 - 1s - loss: 5.7114e-04 - accuracy: 1.0000 - val_loss: 0.5241 - val_accuracy: 0.9077 - lr: 3.1623e-04\n",
      "Epoch 41/96\n",
      "\n",
      "Epoch 00041: val_accuracy did not improve from 0.90767\n",
      "200/200 - 1s - loss: 8.9235e-04 - accuracy: 0.9999 - val_loss: 0.5480 - val_accuracy: 0.9027 - lr: 3.1623e-04\n",
      "Epoch 42/96\n",
      "\n",
      "Epoch 00042: val_accuracy did not improve from 0.90767\n",
      "200/200 - 1s - loss: 0.0055 - accuracy: 0.9982 - val_loss: 0.5595 - val_accuracy: 0.8957 - lr: 3.1623e-04\n",
      "Epoch 43/96\n",
      "\n",
      "Epoch 00043: val_accuracy did not improve from 0.90767\n",
      "200/200 - 1s - loss: 0.0113 - accuracy: 0.9965 - val_loss: 0.5790 - val_accuracy: 0.8991 - lr: 3.1623e-04\n",
      "Epoch 44/96\n",
      "\n",
      "Epoch 00044: val_accuracy did not improve from 0.90767\n",
      "200/200 - 1s - loss: 0.0087 - accuracy: 0.9972 - val_loss: 0.5586 - val_accuracy: 0.8997 - lr: 3.1623e-04\n",
      "Epoch 45/96\n",
      "\n",
      "Epoch 00045: val_accuracy did not improve from 0.90767\n",
      "200/200 - 1s - loss: 0.0026 - accuracy: 0.9995 - val_loss: 0.5476 - val_accuracy: 0.9058 - lr: 3.1623e-04\n",
      "Epoch 46/96\n",
      "\n",
      "Epoch 00046: val_accuracy did not improve from 0.90767\n",
      "200/200 - 1s - loss: 0.0014 - accuracy: 0.9998 - val_loss: 0.5432 - val_accuracy: 0.9062 - lr: 3.1623e-04\n",
      "Epoch 47/96\n",
      "\n",
      "Epoch 00047: val_accuracy did not improve from 0.90767\n",
      "200/200 - 1s - loss: 0.0011 - accuracy: 0.9998 - val_loss: 0.5566 - val_accuracy: 0.9041 - lr: 3.1623e-04\n",
      "Epoch 48/96\n",
      "\n",
      "Epoch 00048: val_accuracy did not improve from 0.90767\n",
      "200/200 - 1s - loss: 8.8538e-04 - accuracy: 0.9999 - val_loss: 0.5652 - val_accuracy: 0.9043 - lr: 3.1623e-04\n",
      "Epoch 49/96\n",
      "\n",
      "Epoch 00049: val_accuracy did not improve from 0.90767\n",
      "200/200 - 1s - loss: 0.0017 - accuracy: 0.9995 - val_loss: 0.5751 - val_accuracy: 0.9019 - lr: 3.1623e-04\n",
      "Epoch 50/96\n",
      "\n",
      "Epoch 00050: val_accuracy did not improve from 0.90767\n",
      "\n",
      "Epoch 00050: ReduceLROnPlateau reducing learning rate to 0.00010000000639606199.\n",
      "200/200 - 1s - loss: 0.0047 - accuracy: 0.9987 - val_loss: 0.5804 - val_accuracy: 0.8978 - lr: 3.1623e-04\n",
      "Epoch 51/96\n",
      "\n",
      "Epoch 00051: val_accuracy did not improve from 0.90767\n",
      "200/200 - 1s - loss: 0.0015 - accuracy: 0.9996 - val_loss: 0.5752 - val_accuracy: 0.9052 - lr: 1.0000e-04\n",
      "Epoch 52/96\n",
      "\n",
      "Epoch 00052: val_accuracy did not improve from 0.90767\n",
      "200/200 - 1s - loss: 4.5993e-04 - accuracy: 1.0000 - val_loss: 0.5728 - val_accuracy: 0.9050 - lr: 1.0000e-04\n",
      "Epoch 53/96\n",
      "\n",
      "Epoch 00053: val_accuracy did not improve from 0.90767\n",
      "200/200 - 1s - loss: 3.8185e-04 - accuracy: 1.0000 - val_loss: 0.5716 - val_accuracy: 0.9059 - lr: 1.0000e-04\n",
      "Epoch 54/96\n",
      "\n",
      "Epoch 00054: val_accuracy did not improve from 0.90767\n",
      "200/200 - 1s - loss: 4.1054e-04 - accuracy: 0.9999 - val_loss: 0.5736 - val_accuracy: 0.9049 - lr: 1.0000e-04\n",
      "Epoch 55/96\n",
      "\n",
      "Epoch 00055: val_accuracy did not improve from 0.90767\n",
      "200/200 - 1s - loss: 2.9898e-04 - accuracy: 1.0000 - val_loss: 0.5801 - val_accuracy: 0.9056 - lr: 1.0000e-04\n",
      "Epoch 56/96\n",
      "\n",
      "Epoch 00056: val_accuracy did not improve from 0.90767\n",
      "200/200 - 1s - loss: 2.6872e-04 - accuracy: 1.0000 - val_loss: 0.5829 - val_accuracy: 0.9052 - lr: 1.0000e-04\n",
      "Epoch 57/96\n",
      "\n",
      "Epoch 00057: val_accuracy did not improve from 0.90767\n",
      "200/200 - 1s - loss: 2.0908e-04 - accuracy: 1.0000 - val_loss: 0.5806 - val_accuracy: 0.9060 - lr: 1.0000e-04\n",
      "Epoch 58/96\n",
      "\n",
      "Epoch 00058: val_accuracy did not improve from 0.90767\n",
      "200/200 - 1s - loss: 1.9896e-04 - accuracy: 1.0000 - val_loss: 0.5810 - val_accuracy: 0.9066 - lr: 1.0000e-04\n",
      "Epoch 59/96\n",
      "\n",
      "Epoch 00059: val_accuracy did not improve from 0.90767\n",
      "200/200 - 1s - loss: 1.8149e-04 - accuracy: 1.0000 - val_loss: 0.5833 - val_accuracy: 0.9064 - lr: 1.0000e-04\n",
      "Epoch 60/96\n",
      "\n",
      "Epoch 00060: val_accuracy did not improve from 0.90767\n",
      "\n",
      "Epoch 00060: ReduceLROnPlateau reducing learning rate to 3.1622778103685084e-05.\n",
      "200/200 - 1s - loss: 1.6320e-04 - accuracy: 1.0000 - val_loss: 0.5893 - val_accuracy: 0.9066 - lr: 1.0000e-04\n",
      "Epoch 61/96\n",
      "\n",
      "Epoch 00061: val_accuracy did not improve from 0.90767\n",
      "200/200 - 1s - loss: 1.4441e-04 - accuracy: 1.0000 - val_loss: 0.5878 - val_accuracy: 0.9074 - lr: 3.1623e-05\n",
      "Epoch 62/96\n",
      "\n",
      "Epoch 00062: val_accuracy did not improve from 0.90767\n",
      "200/200 - 1s - loss: 1.4877e-04 - accuracy: 1.0000 - val_loss: 0.5888 - val_accuracy: 0.9064 - lr: 3.1623e-05\n",
      "Epoch 63/96\n",
      "\n",
      "Epoch 00063: val_accuracy did not improve from 0.90767\n",
      "200/200 - 1s - loss: 1.3887e-04 - accuracy: 1.0000 - val_loss: 0.5902 - val_accuracy: 0.9066 - lr: 3.1623e-05\n",
      "Epoch 64/96\n",
      "\n",
      "Epoch 00064: val_accuracy did not improve from 0.90767\n",
      "200/200 - 1s - loss: 1.3408e-04 - accuracy: 1.0000 - val_loss: 0.5904 - val_accuracy: 0.9070 - lr: 3.1623e-05\n",
      "Epoch 65/96\n",
      "\n",
      "Epoch 00065: val_accuracy improved from 0.90767 to 0.90811, saving model to mlp.mnist_no_kfold.hdf5\n",
      "200/200 - 1s - loss: 1.4482e-04 - accuracy: 1.0000 - val_loss: 0.5902 - val_accuracy: 0.9081 - lr: 3.1623e-05\n",
      "Epoch 66/96\n",
      "\n",
      "Epoch 00066: val_accuracy did not improve from 0.90811\n",
      "200/200 - 1s - loss: 1.3124e-04 - accuracy: 1.0000 - val_loss: 0.5923 - val_accuracy: 0.9069 - lr: 3.1623e-05\n",
      "Epoch 67/96\n",
      "\n",
      "Epoch 00067: val_accuracy did not improve from 0.90811\n",
      "200/200 - 1s - loss: 1.2667e-04 - accuracy: 1.0000 - val_loss: 0.5936 - val_accuracy: 0.9077 - lr: 3.1623e-05\n",
      "Epoch 68/96\n",
      "\n",
      "Epoch 00068: val_accuracy did not improve from 0.90811\n",
      "200/200 - 1s - loss: 1.2701e-04 - accuracy: 1.0000 - val_loss: 0.5940 - val_accuracy: 0.9069 - lr: 3.1623e-05\n",
      "Epoch 69/96\n",
      "\n",
      "Epoch 00069: val_accuracy did not improve from 0.90811\n",
      "200/200 - 1s - loss: 1.1453e-04 - accuracy: 1.0000 - val_loss: 0.5940 - val_accuracy: 0.9073 - lr: 3.1623e-05\n",
      "Epoch 70/96\n",
      "\n",
      "Epoch 00070: val_accuracy did not improve from 0.90811\n",
      "200/200 - 1s - loss: 1.1336e-04 - accuracy: 1.0000 - val_loss: 0.5959 - val_accuracy: 0.9076 - lr: 3.1623e-05\n",
      "Epoch 71/96\n",
      "\n",
      "Epoch 00071: val_accuracy did not improve from 0.90811\n",
      "200/200 - 1s - loss: 1.1123e-04 - accuracy: 1.0000 - val_loss: 0.5972 - val_accuracy: 0.9074 - lr: 3.1623e-05\n",
      "Epoch 72/96\n",
      "\n",
      "Epoch 00072: val_accuracy did not improve from 0.90811\n",
      "200/200 - 1s - loss: 1.1164e-04 - accuracy: 1.0000 - val_loss: 0.5993 - val_accuracy: 0.9076 - lr: 3.1623e-05\n",
      "Epoch 73/96\n",
      "\n",
      "Epoch 00073: val_accuracy did not improve from 0.90811\n",
      "200/200 - 1s - loss: 1.4214e-04 - accuracy: 1.0000 - val_loss: 0.5998 - val_accuracy: 0.9067 - lr: 3.1623e-05\n",
      "Epoch 74/96\n",
      "\n",
      "Epoch 00074: val_accuracy did not improve from 0.90811\n",
      "200/200 - 1s - loss: 1.0566e-04 - accuracy: 1.0000 - val_loss: 0.6030 - val_accuracy: 0.9072 - lr: 3.1623e-05\n",
      "Epoch 75/96\n",
      "\n",
      "Epoch 00075: val_accuracy did not improve from 0.90811\n",
      "\n",
      "Epoch 00075: ReduceLROnPlateau reducing learning rate to 1.0000000409520217e-05.\n",
      "200/200 - 1s - loss: 1.0097e-04 - accuracy: 1.0000 - val_loss: 0.6036 - val_accuracy: 0.9063 - lr: 3.1623e-05\n",
      "Epoch 76/96\n",
      "\n",
      "Epoch 00076: val_accuracy did not improve from 0.90811\n",
      "200/200 - 1s - loss: 8.8496e-05 - accuracy: 1.0000 - val_loss: 0.6035 - val_accuracy: 0.9064 - lr: 1.0000e-05\n",
      "Epoch 77/96\n",
      "\n",
      "Epoch 00077: val_accuracy did not improve from 0.90811\n",
      "200/200 - 1s - loss: 9.4053e-05 - accuracy: 1.0000 - val_loss: 0.6044 - val_accuracy: 0.9073 - lr: 1.0000e-05\n",
      "Epoch 78/96\n",
      "\n",
      "Epoch 00078: val_accuracy did not improve from 0.90811\n",
      "200/200 - 1s - loss: 9.1383e-05 - accuracy: 1.0000 - val_loss: 0.6041 - val_accuracy: 0.9072 - lr: 1.0000e-05\n",
      "Epoch 79/96\n",
      "\n",
      "Epoch 00079: val_accuracy did not improve from 0.90811\n",
      "200/200 - 1s - loss: 8.6820e-05 - accuracy: 1.0000 - val_loss: 0.6052 - val_accuracy: 0.9073 - lr: 1.0000e-05\n",
      "Epoch 80/96\n",
      "\n",
      "Epoch 00080: val_accuracy did not improve from 0.90811\n",
      "200/200 - 1s - loss: 8.4338e-05 - accuracy: 1.0000 - val_loss: 0.6070 - val_accuracy: 0.9074 - lr: 1.0000e-05\n",
      "Epoch 81/96\n",
      "\n",
      "Epoch 00081: val_accuracy did not improve from 0.90811\n",
      "200/200 - 1s - loss: 8.1113e-05 - accuracy: 1.0000 - val_loss: 0.6083 - val_accuracy: 0.9074 - lr: 1.0000e-05\n",
      "Epoch 82/96\n",
      "\n",
      "Epoch 00082: val_accuracy did not improve from 0.90811\n",
      "200/200 - 1s - loss: 8.5031e-05 - accuracy: 1.0000 - val_loss: 0.6087 - val_accuracy: 0.9074 - lr: 1.0000e-05\n",
      "Epoch 83/96\n",
      "\n",
      "Epoch 00083: val_accuracy did not improve from 0.90811\n",
      "200/200 - 1s - loss: 7.9607e-05 - accuracy: 1.0000 - val_loss: 0.6080 - val_accuracy: 0.9069 - lr: 1.0000e-05\n",
      "Epoch 84/96\n",
      "\n",
      "Epoch 00084: val_accuracy did not improve from 0.90811\n",
      "200/200 - 1s - loss: 7.7637e-05 - accuracy: 1.0000 - val_loss: 0.6104 - val_accuracy: 0.9069 - lr: 1.0000e-05\n",
      "Epoch 85/96\n",
      "\n",
      "Epoch 00085: val_accuracy did not improve from 0.90811\n",
      "\n",
      "Epoch 00085: ReduceLROnPlateau reducing learning rate to 3.1622778678900043e-06.\n",
      "200/200 - 1s - loss: 8.0312e-05 - accuracy: 1.0000 - val_loss: 0.6094 - val_accuracy: 0.9071 - lr: 1.0000e-05\n",
      "Epoch 86/96\n",
      "\n",
      "Epoch 00086: val_accuracy did not improve from 0.90811\n",
      "200/200 - 1s - loss: 7.5403e-05 - accuracy: 1.0000 - val_loss: 0.6099 - val_accuracy: 0.9070 - lr: 3.1623e-06\n",
      "Epoch 87/96\n",
      "\n",
      "Epoch 00087: val_accuracy did not improve from 0.90811\n",
      "200/200 - 1s - loss: 7.7895e-05 - accuracy: 1.0000 - val_loss: 0.6114 - val_accuracy: 0.9070 - lr: 3.1623e-06\n",
      "Epoch 88/96\n",
      "\n",
      "Epoch 00088: val_accuracy did not improve from 0.90811\n",
      "200/200 - 1s - loss: 7.5578e-05 - accuracy: 1.0000 - val_loss: 0.6117 - val_accuracy: 0.9070 - lr: 3.1623e-06\n",
      "Epoch 89/96\n",
      "\n",
      "Epoch 00089: val_accuracy did not improve from 0.90811\n",
      "200/200 - 1s - loss: 7.1479e-05 - accuracy: 1.0000 - val_loss: 0.6113 - val_accuracy: 0.9070 - lr: 3.1623e-06\n",
      "Epoch 90/96\n",
      "\n",
      "Epoch 00090: val_accuracy did not improve from 0.90811\n",
      "200/200 - 1s - loss: 7.4408e-05 - accuracy: 1.0000 - val_loss: 0.6117 - val_accuracy: 0.9072 - lr: 3.1623e-06\n",
      "Epoch 91/96\n",
      "\n",
      "Epoch 00091: val_accuracy did not improve from 0.90811\n",
      "200/200 - 1s - loss: 7.0727e-05 - accuracy: 1.0000 - val_loss: 0.6128 - val_accuracy: 0.9072 - lr: 3.1623e-06\n",
      "Epoch 92/96\n",
      "\n",
      "Epoch 00092: val_accuracy did not improve from 0.90811\n",
      "200/200 - 1s - loss: 7.3601e-05 - accuracy: 1.0000 - val_loss: 0.6137 - val_accuracy: 0.9067 - lr: 3.1623e-06\n",
      "Epoch 93/96\n",
      "\n",
      "Epoch 00093: val_accuracy did not improve from 0.90811\n",
      "200/200 - 1s - loss: 6.9337e-05 - accuracy: 1.0000 - val_loss: 0.6130 - val_accuracy: 0.9067 - lr: 3.1623e-06\n",
      "Epoch 94/96\n",
      "\n",
      "Epoch 00094: val_accuracy did not improve from 0.90811\n",
      "200/200 - 1s - loss: 7.6711e-05 - accuracy: 1.0000 - val_loss: 0.6137 - val_accuracy: 0.9071 - lr: 3.1623e-06\n",
      "Epoch 95/96\n",
      "\n",
      "Epoch 00095: val_accuracy did not improve from 0.90811\n",
      "\n",
      "Epoch 00095: ReduceLROnPlateau reducing learning rate to 1.0000000553323957e-06.\n",
      "200/200 - 1s - loss: 7.0448e-05 - accuracy: 1.0000 - val_loss: 0.6132 - val_accuracy: 0.9073 - lr: 3.1623e-06\n",
      "Epoch 96/96\n",
      "\n",
      "Epoch 00096: val_accuracy did not improve from 0.90811\n",
      "200/200 - 1s - loss: 6.7841e-05 - accuracy: 1.0000 - val_loss: 0.6134 - val_accuracy: 0.9074 - lr: 1.0000e-06\n"
     ]
    }
   ],
   "source": [
    "set_random_seeds(42)\n",
    "batch_size = 256\n",
    "lr = 0.001\n",
    "epochs = 96\n",
    "\n",
    "\n",
    "X_train, X_val, y_train, y_val = train_test_split(X, y, test_size=0.15, random_state=42)\n",
    "model = get_model(l1=0)\n",
    "optim = optimizers.Adam(lr=lr)\n",
    "rop = ReduceLROnPlateau(monitor='val_accuracy', mode='max', factor=np.sqrt(0.1), patience=10, verbose=1)\n",
    "model.compile(loss = 'sparse_categorical_crossentropy', optimizer=optim, metrics=['accuracy'])\n",
    "\n",
    "checkpointer = ModelCheckpoint(filepath=f'mlp.mnist_no_kfold.hdf5', \n",
    "                               verbose=1, save_best_only=True, monitor='val_accuracy', mode='max')\n",
    "model.save_weights('initial_weights.hdf5')\n",
    "history = model.fit(X_train, \n",
    "           y_train,\n",
    "           epochs=epochs, batch_size=batch_size, \n",
    "          validation_data = (X_val, y_val),\n",
    "           verbose=2, \n",
    "          callbacks=[checkpointer, rop],\n",
    "                shuffle = True\n",
    "          )"
   ]
  },
  {
   "cell_type": "code",
   "execution_count": 9,
   "metadata": {},
   "outputs": [
    {
     "data": {
      "text/plain": [
       "[0.6134416460990906, 0.907444417476654]"
      ]
     },
     "execution_count": 9,
     "metadata": {},
     "output_type": "execute_result"
    }
   ],
   "source": [
    "model.evaluate(X_val, y_val, verbose=0)"
   ]
  },
  {
   "cell_type": "code",
   "execution_count": 10,
   "metadata": {},
   "outputs": [
    {
     "name": "stdout",
     "output_type": "stream",
     "text": [
      "[0.5902414917945862, 0.9081110954284668]\n"
     ]
    },
    {
     "data": {
      "text/plain": [
       "[0.6433372497558594, 0.9057999849319458]"
      ]
     },
     "execution_count": 10,
     "metadata": {},
     "output_type": "execute_result"
    }
   ],
   "source": [
    "model.load_weights('mlp.mnist_no_kfold.hdf5')\n",
    "print(model.evaluate(X_val, y_val, verbose=0))\n",
    "model.compile(loss = 'sparse_categorical_crossentropy', optimizer=optim, metrics=['accuracy'])\n",
    "model.evaluate(X_test, y_test, verbose=0)"
   ]
  },
  {
   "cell_type": "markdown",
   "metadata": {},
   "source": [
    "# Get MASK"
   ]
  },
  {
   "cell_type": "code",
   "execution_count": 36,
   "metadata": {},
   "outputs": [],
   "source": [
    "sparcity = 0.50\n",
    "prune_low_magnitude = tfmot.sparsity.keras.prune_low_magnitude\n",
    "sprasity_sched = tfmot.sparsity.keras.ConstantSparsity(\n",
    "    sparcity, 0, end_step=-1, frequency=10000000)"
   ]
  },
  {
   "cell_type": "code",
   "execution_count": 37,
   "metadata": {},
   "outputs": [
    {
     "name": "stdout",
     "output_type": "stream",
     "text": [
      "['hidden_1', 'batch_normalization_4', 'p_re_lu_4', 'hidden_2', 'batch_normalization_5', 'p_re_lu_5', 'Salida', 'activation_2']\n"
     ]
    }
   ],
   "source": [
    "print([layer.name for layer in model.layers])"
   ]
  },
  {
   "cell_type": "code",
   "execution_count": 66,
   "metadata": {},
   "outputs": [
    {
     "data": {
      "text/plain": [
       "[0.6433372497558594, 0.9057999849319458]"
      ]
     },
     "execution_count": 66,
     "metadata": {},
     "output_type": "execute_result"
    }
   ],
   "source": [
    "model.load_weights('mlp.mnist_no_kfold.hdf5')\n",
    "layer_to_pune = ['hidden_1', 'hidden_2', 'Salida']\n",
    "prunned_model_layers = []\n",
    "for layer in model.layers:\n",
    "    if layer.name in layer_to_pune:\n",
    "        prunned_model_layers.append(prune_low_magnitude(layer, sprasity_sched))\n",
    "    else:\n",
    "        prunned_model_layers.append(layer)\n",
    "pruned_model_trained = keras.Sequential(prunned_model_layers)\n",
    "pruned_model_trained.compile(loss = 'sparse_categorical_crossentropy', optimizer=optimizers.Adam(lr=1e-10), metrics=['accuracy'])\n",
    "pruned_model_trained.evaluate(X_test, y_test, verbose=0)"
   ]
  },
  {
   "cell_type": "code",
   "execution_count": 67,
   "metadata": {},
   "outputs": [],
   "source": [
    "callbacks = [\n",
    "  tfmot.sparsity.keras.UpdatePruningStep(),\n",
    "    #CyclicLR(1e-9, 0.001, 2*iters_per_epoch, mode='triangular'),\n",
    "    ModelCheckpoint(filepath=f'mlp.mnist_no_kfold_sparse.hdf5', verbose=1, save_best_only=True, monitor='val_accuracy', mode='max'),\n",
    "#    tfmot.sparsity.keras.PruningSummaries(log_dir='logs'),\n",
    "]"
   ]
  },
  {
   "cell_type": "code",
   "execution_count": 68,
   "metadata": {},
   "outputs": [
    {
     "name": "stdout",
     "output_type": "stream",
     "text": [
      "\n",
      "Epoch 00001: val_accuracy improved from -inf to 0.90378, saving model to mlp.mnist_no_kfold_sparse.hdf5\n",
      "200/200 - 1s - loss: 0.0013 - accuracy: 0.9999 - val_loss: 0.5363 - val_accuracy: 0.9038\n"
     ]
    },
    {
     "data": {
      "text/plain": [
       "<tensorflow.python.keras.callbacks.History at 0x7f24f05ed0f0>"
      ]
     },
     "execution_count": 68,
     "metadata": {},
     "output_type": "execute_result"
    }
   ],
   "source": [
    "pruned_model_trained.fit(X_train, \n",
    "               y_train,\n",
    "               epochs=1, batch_size=batch_size, \n",
    "              validation_data = (X_val, y_val),\n",
    "               verbose=2, \n",
    "                    shuffle = True,\n",
    "                           callbacks=callbacks\n",
    "              )"
   ]
  },
  {
   "cell_type": "code",
   "execution_count": 69,
   "metadata": {},
   "outputs": [
    {
     "name": "stdout",
     "output_type": "stream",
     "text": [
      "['prune_low_magnitude_hidden_1', 'batch_normalization_4', 'p_re_lu_4', 'prune_low_magnitude_hidden_2', 'batch_normalization_5', 'p_re_lu_5', 'prune_low_magnitude_Salida', 'activation_2']\n"
     ]
    }
   ],
   "source": [
    "print([layer.name for layer in pruned_model_trained.layers])"
   ]
  },
  {
   "cell_type": "code",
   "execution_count": 70,
   "metadata": {},
   "outputs": [],
   "source": [
    "mask = pruned_model_trained.get_layer('prune_low_magnitude_hidden_1').pruning_vars[0][1]"
   ]
  },
  {
   "cell_type": "code",
   "execution_count": 43,
   "metadata": {},
   "outputs": [
    {
     "name": "stdout",
     "output_type": "stream",
     "text": [
      "True\n"
     ]
    }
   ],
   "source": [
    "model.load_weights('mlp.mnist_no_kfold.hdf5')\n",
    "weights_abs = np.abs(model.get_layer('hidden_1').get_weights()[0])\n",
    "print(np.min(weights_abs[mask==1]) > np.max(weights_abs[mask==0]))"
   ]
  },
  {
   "cell_type": "code",
   "execution_count": 44,
   "metadata": {},
   "outputs": [],
   "source": [
    "from tensorflow_model_optimization.python.core.sparsity.keras import pruning_wrapper"
   ]
  },
  {
   "cell_type": "markdown",
   "metadata": {},
   "source": [
    "# Initialize prunned model"
   ]
  },
  {
   "cell_type": "code",
   "execution_count": 45,
   "metadata": {},
   "outputs": [
    {
     "name": "stdout",
     "output_type": "stream",
     "text": [
      "0\n",
      "3\n",
      "6\n"
     ]
    }
   ],
   "source": [
    "model.load_weights('initial_weights.hdf5')\n",
    "for i, layer in enumerate(pruned_model_trained.layers):\n",
    "    if isinstance(layer, pruning_wrapper.PruneLowMagnitude):\n",
    "        print(i)\n",
    "        l_weights = model.layers[i].get_weights()\n",
    "        l_weights[0] = l_weights[0]*layer.pruning_vars[0][1].numpy()\n",
    "        model.layers[i].set_weights(l_weights)"
   ]
  },
  {
   "cell_type": "code",
   "execution_count": 46,
   "metadata": {},
   "outputs": [
    {
     "data": {
      "text/plain": [
       "0.5"
      ]
     },
     "execution_count": 46,
     "metadata": {},
     "output_type": "execute_result"
    }
   ],
   "source": [
    "l_index = 6\n",
    "(model.layers[l_index].get_weights()[0] == 0).sum()/np.product(model.layers[l_index].get_weights()[0].shape)"
   ]
  },
  {
   "cell_type": "code",
   "execution_count": 50,
   "metadata": {},
   "outputs": [
    {
     "data": {
      "text/plain": [
       "[1.324739933013916, 0.5996000170707703]"
      ]
     },
     "execution_count": 50,
     "metadata": {},
     "output_type": "execute_result"
    }
   ],
   "source": [
    "prunned_model_layers = []\n",
    "for layer in model.layers:\n",
    "    if layer.name in layer_to_pune:\n",
    "        prunned_model_layers.append(prune_low_magnitude(layer, sprasity_sched))\n",
    "    else:\n",
    "        prunned_model_layers.append(layer)\n",
    "pruned_model = keras.Sequential(prunned_model_layers)\n",
    "pruned_model.compile(loss = 'sparse_categorical_crossentropy', optimizer=optimizers.Adam(lr=lr), metrics=['accuracy'])\n",
    "pruned_model.evaluate(X_test, y_test, verbose=0)"
   ]
  },
  {
   "cell_type": "code",
   "execution_count": 51,
   "metadata": {},
   "outputs": [
    {
     "data": {
      "text/plain": [
       "0.5"
      ]
     },
     "execution_count": 51,
     "metadata": {},
     "output_type": "execute_result"
    }
   ],
   "source": [
    "(pruned_model.layers[l_index].pruning_vars[0][1].numpy() == pruned_model_trained.layers[l_index].pruning_vars[0][1].numpy()).sum()/np.product(model.layers[l_index].get_weights()[0].shape)"
   ]
  },
  {
   "cell_type": "code",
   "execution_count": 52,
   "metadata": {},
   "outputs": [],
   "source": [
    "callbacks = [\n",
    "  tfmot.sparsity.keras.UpdatePruningStep(),\n",
    "    ReduceLROnPlateau(monitor='val_accuracy', mode='max', factor=np.sqrt(0.1), patience=10, verbose=1),\n",
    "    ModelCheckpoint(filepath=f'mlp.mnist_no_kfold_sparse.hdf5', verbose=1, save_best_only=True, monitor='val_accuracy', mode='auto'),\n",
    "   # tfmot.sparsity.keras.PruningSummaries(log_dir='logs'),\n",
    "]"
   ]
  },
  {
   "cell_type": "markdown",
   "metadata": {},
   "source": [
    "# Train prunned model"
   ]
  },
  {
   "cell_type": "code",
   "execution_count": 53,
   "metadata": {
    "collapsed": true,
    "jupyter": {
     "outputs_hidden": true
    }
   },
   "outputs": [
    {
     "name": "stdout",
     "output_type": "stream",
     "text": [
      "\n",
      "Epoch 00001: val_accuracy improved from -inf to 0.85567, saving model to mlp.mnist_no_kfold_sparse.hdf5\n",
      "\n",
      "Epoch 00002: val_accuracy improved from 0.85567 to 0.87344, saving model to mlp.mnist_no_kfold_sparse.hdf5\n",
      "\n",
      "Epoch 00003: val_accuracy did not improve from 0.87344\n",
      "\n",
      "Epoch 00004: val_accuracy did not improve from 0.87344\n",
      "\n",
      "Epoch 00005: val_accuracy did not improve from 0.87344\n",
      "\n",
      "Epoch 00006: val_accuracy improved from 0.87344 to 0.87700, saving model to mlp.mnist_no_kfold_sparse.hdf5\n",
      "\n",
      "Epoch 00007: val_accuracy did not improve from 0.87700\n",
      "\n",
      "Epoch 00008: val_accuracy improved from 0.87700 to 0.87867, saving model to mlp.mnist_no_kfold_sparse.hdf5\n",
      "\n",
      "Epoch 00009: val_accuracy did not improve from 0.87867\n",
      "\n",
      "Epoch 00010: val_accuracy did not improve from 0.87867\n",
      "\n",
      "Epoch 00011: val_accuracy did not improve from 0.87867\n",
      "\n",
      "Epoch 00012: val_accuracy improved from 0.87867 to 0.88311, saving model to mlp.mnist_no_kfold_sparse.hdf5\n",
      "\n",
      "Epoch 00013: val_accuracy improved from 0.88311 to 0.88656, saving model to mlp.mnist_no_kfold_sparse.hdf5\n",
      "\n",
      "Epoch 00014: val_accuracy did not improve from 0.88656\n",
      "\n",
      "Epoch 00015: val_accuracy did not improve from 0.88656\n",
      "\n",
      "Epoch 00016: val_accuracy improved from 0.88656 to 0.88744, saving model to mlp.mnist_no_kfold_sparse.hdf5\n",
      "\n",
      "Epoch 00017: val_accuracy did not improve from 0.88744\n",
      "\n",
      "Epoch 00018: val_accuracy improved from 0.88744 to 0.89044, saving model to mlp.mnist_no_kfold_sparse.hdf5\n",
      "\n",
      "Epoch 00019: val_accuracy did not improve from 0.89044\n",
      "\n",
      "Epoch 00020: val_accuracy did not improve from 0.89044\n",
      "\n",
      "Epoch 00021: val_accuracy did not improve from 0.89044\n",
      "\n",
      "Epoch 00022: val_accuracy improved from 0.89044 to 0.89133, saving model to mlp.mnist_no_kfold_sparse.hdf5\n",
      "\n",
      "Epoch 00023: val_accuracy did not improve from 0.89133\n",
      "\n",
      "Epoch 00024: val_accuracy did not improve from 0.89133\n",
      "\n",
      "Epoch 00025: val_accuracy did not improve from 0.89133\n",
      "\n",
      "Epoch 00026: val_accuracy did not improve from 0.89133\n",
      "\n",
      "Epoch 00027: val_accuracy did not improve from 0.89133\n",
      "\n",
      "Epoch 00028: val_accuracy did not improve from 0.89133\n",
      "\n",
      "Epoch 00029: val_accuracy did not improve from 0.89133\n",
      "\n",
      "Epoch 00030: val_accuracy did not improve from 0.89133\n",
      "\n",
      "Epoch 00031: val_accuracy did not improve from 0.89133\n",
      "\n",
      "Epoch 00032: ReduceLROnPlateau reducing learning rate to 0.00031622778103685084.\n",
      "\n",
      "Epoch 00032: val_accuracy did not improve from 0.89133\n",
      "\n",
      "Epoch 00033: val_accuracy improved from 0.89133 to 0.90522, saving model to mlp.mnist_no_kfold_sparse.hdf5\n",
      "\n",
      "Epoch 00034: val_accuracy improved from 0.90522 to 0.90611, saving model to mlp.mnist_no_kfold_sparse.hdf5\n",
      "\n",
      "Epoch 00035: val_accuracy did not improve from 0.90611\n",
      "\n",
      "Epoch 00036: val_accuracy improved from 0.90611 to 0.90711, saving model to mlp.mnist_no_kfold_sparse.hdf5\n",
      "\n",
      "Epoch 00037: val_accuracy did not improve from 0.90711\n",
      "\n",
      "Epoch 00038: val_accuracy did not improve from 0.90711\n",
      "\n",
      "Epoch 00039: val_accuracy did not improve from 0.90711\n",
      "\n",
      "Epoch 00040: val_accuracy did not improve from 0.90711\n",
      "\n",
      "Epoch 00041: val_accuracy did not improve from 0.90711\n",
      "\n",
      "Epoch 00042: val_accuracy did not improve from 0.90711\n",
      "\n",
      "Epoch 00043: val_accuracy improved from 0.90711 to 0.90744, saving model to mlp.mnist_no_kfold_sparse.hdf5\n",
      "\n",
      "Epoch 00044: val_accuracy did not improve from 0.90744\n",
      "\n",
      "Epoch 00045: val_accuracy did not improve from 0.90744\n",
      "\n",
      "Epoch 00046: val_accuracy improved from 0.90744 to 0.90789, saving model to mlp.mnist_no_kfold_sparse.hdf5\n",
      "\n",
      "Epoch 00047: val_accuracy did not improve from 0.90789\n",
      "\n",
      "Epoch 00048: val_accuracy did not improve from 0.90789\n",
      "\n",
      "Epoch 00049: val_accuracy did not improve from 0.90789\n",
      "\n",
      "Epoch 00050: val_accuracy did not improve from 0.90789\n",
      "\n",
      "Epoch 00051: val_accuracy improved from 0.90789 to 0.90833, saving model to mlp.mnist_no_kfold_sparse.hdf5\n",
      "\n",
      "Epoch 00052: val_accuracy did not improve from 0.90833\n",
      "\n",
      "Epoch 00053: val_accuracy improved from 0.90833 to 0.90911, saving model to mlp.mnist_no_kfold_sparse.hdf5\n",
      "\n",
      "Epoch 00054: val_accuracy did not improve from 0.90911\n",
      "\n",
      "Epoch 00055: val_accuracy did not improve from 0.90911\n",
      "\n",
      "Epoch 00056: val_accuracy did not improve from 0.90911\n",
      "\n",
      "Epoch 00057: val_accuracy did not improve from 0.90911\n",
      "\n",
      "Epoch 00058: val_accuracy did not improve from 0.90911\n",
      "\n",
      "Epoch 00059: val_accuracy did not improve from 0.90911\n",
      "\n",
      "Epoch 00060: val_accuracy did not improve from 0.90911\n",
      "\n",
      "Epoch 00061: val_accuracy did not improve from 0.90911\n",
      "\n",
      "Epoch 00062: val_accuracy did not improve from 0.90911\n",
      "\n",
      "Epoch 00063: ReduceLROnPlateau reducing learning rate to 0.00010000000639606199.\n",
      "\n",
      "Epoch 00063: val_accuracy did not improve from 0.90911\n",
      "\n",
      "Epoch 00064: val_accuracy did not improve from 0.90911\n",
      "\n",
      "Epoch 00065: val_accuracy did not improve from 0.90911\n",
      "\n",
      "Epoch 00066: val_accuracy did not improve from 0.90911\n",
      "\n",
      "Epoch 00067: val_accuracy did not improve from 0.90911\n",
      "\n",
      "Epoch 00068: val_accuracy did not improve from 0.90911\n",
      "\n",
      "Epoch 00069: val_accuracy did not improve from 0.90911\n",
      "\n",
      "Epoch 00070: val_accuracy did not improve from 0.90911\n",
      "\n",
      "Epoch 00071: val_accuracy did not improve from 0.90911\n",
      "\n",
      "Epoch 00072: val_accuracy did not improve from 0.90911\n",
      "\n",
      "Epoch 00073: ReduceLROnPlateau reducing learning rate to 3.1622778103685084e-05.\n",
      "\n",
      "Epoch 00073: val_accuracy did not improve from 0.90911\n",
      "\n",
      "Epoch 00074: val_accuracy did not improve from 0.90911\n",
      "\n",
      "Epoch 00075: val_accuracy did not improve from 0.90911\n",
      "\n",
      "Epoch 00076: val_accuracy did not improve from 0.90911\n",
      "\n",
      "Epoch 00077: val_accuracy did not improve from 0.90911\n",
      "\n",
      "Epoch 00078: val_accuracy improved from 0.90911 to 0.90956, saving model to mlp.mnist_no_kfold_sparse.hdf5\n",
      "\n",
      "Epoch 00079: val_accuracy did not improve from 0.90956\n",
      "\n",
      "Epoch 00080: val_accuracy did not improve from 0.90956\n",
      "\n",
      "Epoch 00081: val_accuracy improved from 0.90956 to 0.90978, saving model to mlp.mnist_no_kfold_sparse.hdf5\n",
      "\n",
      "Epoch 00082: val_accuracy did not improve from 0.90978\n",
      "\n",
      "Epoch 00083: val_accuracy improved from 0.90978 to 0.91000, saving model to mlp.mnist_no_kfold_sparse.hdf5\n",
      "\n",
      "Epoch 00084: val_accuracy did not improve from 0.91000\n",
      "\n",
      "Epoch 00085: val_accuracy improved from 0.91000 to 0.91022, saving model to mlp.mnist_no_kfold_sparse.hdf5\n",
      "\n",
      "Epoch 00086: val_accuracy did not improve from 0.91022\n",
      "\n",
      "Epoch 00087: val_accuracy did not improve from 0.91022\n",
      "\n",
      "Epoch 00088: val_accuracy did not improve from 0.91022\n",
      "\n",
      "Epoch 00089: val_accuracy did not improve from 0.91022\n",
      "\n",
      "Epoch 00090: val_accuracy did not improve from 0.91022\n",
      "\n",
      "Epoch 00091: val_accuracy did not improve from 0.91022\n",
      "\n",
      "Epoch 00092: val_accuracy did not improve from 0.91022\n",
      "\n",
      "Epoch 00093: val_accuracy did not improve from 0.91022\n",
      "\n",
      "Epoch 00094: val_accuracy did not improve from 0.91022\n",
      "\n",
      "Epoch 00095: ReduceLROnPlateau reducing learning rate to 1.0000000409520217e-05.\n",
      "\n",
      "Epoch 00095: val_accuracy did not improve from 0.91022\n",
      "\n",
      "Epoch 00096: val_accuracy improved from 0.91022 to 0.91044, saving model to mlp.mnist_no_kfold_sparse.hdf5\n"
     ]
    }
   ],
   "source": [
    "history = pruned_model.fit(X_train, \n",
    "               y_train,\n",
    "               epochs=96, batch_size=batch_size, \n",
    "              validation_data = (X_val, y_val),\n",
    "               verbose=0, \n",
    "                    shuffle = True,\n",
    "                           callbacks=callbacks\n",
    "              )"
   ]
  },
  {
   "cell_type": "code",
   "execution_count": 54,
   "metadata": {},
   "outputs": [
    {
     "data": {
      "text/plain": [
       "[0.6450605392456055, 0.910444438457489]"
      ]
     },
     "execution_count": 54,
     "metadata": {},
     "output_type": "execute_result"
    }
   ],
   "source": [
    "pruned_model.evaluate(X_val, y_val, verbose=0)"
   ]
  },
  {
   "cell_type": "code",
   "execution_count": 55,
   "metadata": {},
   "outputs": [
    {
     "name": "stdout",
     "output_type": "stream",
     "text": [
      "[0.6450605392456055, 0.910444438457489]\n"
     ]
    },
    {
     "data": {
      "text/plain": [
       "[0.7109397053718567, 0.9041000008583069]"
      ]
     },
     "execution_count": 55,
     "metadata": {},
     "output_type": "execute_result"
    }
   ],
   "source": [
    "pruned_model.load_weights('mlp.mnist_no_kfold_sparse.hdf5')\n",
    "print(pruned_model.evaluate(X_val, y_val, verbose=0))\n",
    "pruned_model.evaluate(X_test, y_test, verbose=0)"
   ]
  },
  {
   "cell_type": "markdown",
   "metadata": {},
   "source": [
    "# check original mask equals prunned model mask"
   ]
  },
  {
   "cell_type": "code",
   "execution_count": 82,
   "metadata": {},
   "outputs": [
    {
     "data": {
      "text/plain": [
       "1.0"
      ]
     },
     "execution_count": 82,
     "metadata": {},
     "output_type": "execute_result"
    }
   ],
   "source": [
    "layer_name = 'prune_low_magnitude_hidden_1'\n",
    "#layer_name = 'prune_low_magnitude_Salida'\n",
    "old_mask = pruned_model_trained.get_layer(layer_name).pruning_vars[0][1].numpy()\n",
    "(old_mask == pruned_model.get_layer(layer_name).pruning_vars[0][1].numpy()).sum()/np.product(old_mask.shape)"
   ]
  },
  {
   "cell_type": "code",
   "execution_count": null,
   "metadata": {},
   "outputs": [],
   "source": []
  }
 ],
 "metadata": {
  "kernelspec": {
   "display_name": "Python 3",
   "language": "python",
   "name": "python3"
  },
  "language_info": {
   "codemirror_mode": {
    "name": "ipython",
    "version": 3
   },
   "file_extension": ".py",
   "mimetype": "text/x-python",
   "name": "python",
   "nbconvert_exporter": "python",
   "pygments_lexer": "ipython3",
   "version": "3.6.10"
  }
 },
 "nbformat": 4,
 "nbformat_minor": 4
}
