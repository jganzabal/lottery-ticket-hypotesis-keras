{
 "cells": [
  {
   "cell_type": "code",
   "execution_count": 1,
   "metadata": {},
   "outputs": [],
   "source": [
    "#! pip install -q tensorflow-model-optimization\n",
    "#! pip install tensorflow-addons"
   ]
  },
  {
   "cell_type": "code",
   "execution_count": 2,
   "metadata": {},
   "outputs": [],
   "source": [
    "import tensorflow as tf\n",
    "import tensorflow_addons as tfa\n",
    "import numpy as np\n",
    "from tensorflow.keras import backend as K\n",
    "import tensorflow as tf\n",
    "import random as rn\n",
    "import os\n",
    "import tensorflow.keras\n",
    "import matplotlib.pyplot as plt\n",
    "from IPython.display import clear_output\n",
    "import numpy as np\n",
    "from sklearn.model_selection import StratifiedKFold, train_test_split\n",
    "from tensorflow.keras.utils import to_categorical\n",
    "from tensorflow.keras.callbacks import ModelCheckpoint \n",
    "from tensorflow.keras.models import Sequential\n",
    "from tensorflow.keras.layers import Dense, Dropout, Activation, Flatten, LeakyReLU, PReLU, BatchNormalization\n",
    "from tensorflow.keras import optimizers\n",
    "from tensorflow.keras import initializers\n",
    "from tensorflow.keras import regularizers\n",
    "import pandas as pd\n",
    "from tensorflow.keras.callbacks import ReduceLROnPlateau\n",
    "from tensorflow.keras.callbacks import LearningRateScheduler"
   ]
  },
  {
   "cell_type": "code",
   "execution_count": 3,
   "metadata": {},
   "outputs": [],
   "source": [
    "def set_random_seeds(seed=42):\n",
    "    os.environ['PYTHONHASHSEED'] = '0'\n",
    "    np.random.seed(seed)\n",
    "    rn.seed(seed)\n",
    "    tf.random.set_seed(seed)\n",
    "    # session_conf = tf.ConfigProto(intra_op_parallelism_threads=1, inter_op_parallelism_threads=1)\n",
    "    # sess = tf.Session(graph=tf.get_default_graph(), config=session_conf)\n",
    "    # K.set_session(sess)"
   ]
  },
  {
   "cell_type": "markdown",
   "metadata": {
    "_uuid": "21a1ba1a316bb0a6f5d8f85d86b3ba2307f125af"
   },
   "source": [
    "# Cargo datos"
   ]
  },
  {
   "cell_type": "code",
   "execution_count": 4,
   "metadata": {},
   "outputs": [],
   "source": [
    "folder = './'"
   ]
  },
  {
   "cell_type": "code",
   "execution_count": 5,
   "metadata": {
    "_uuid": "7720949cd52b1de2d7687500e3d121f30bc80f82"
   },
   "outputs": [],
   "source": [
    "X = np.load(folder+'train_images.npy').reshape(-1, 784)/255\n",
    "y = np.loadtxt(folder+'train_labels.csv', delimiter=',', skiprows=1).reshape(-1, 1)\n",
    "X_test = np.load(folder+'test_images.npy').reshape(-1, 784)/255\n",
    "y_test = pd.read_csv(folder+'test_labels.csv')['Category'].values"
   ]
  },
  {
   "cell_type": "markdown",
   "metadata": {
    "_uuid": "f987cc26468c6d17e63a953827437abb66da4383"
   },
   "source": [
    "# Red neuronal básica"
   ]
  },
  {
   "cell_type": "code",
   "execution_count": 6,
   "metadata": {
    "_uuid": "6e998b9f383e967a21d0ee6a89dfc8fec72d7f80"
   },
   "outputs": [
    {
     "name": "stdout",
     "output_type": "stream",
     "text": [
      "Model: \"sequential\"\n",
      "_________________________________________________________________\n",
      "Layer (type)                 Output Shape              Param #   \n",
      "=================================================================\n",
      "hidden_1 (Dense)             (None, 1568)              1230880   \n",
      "_________________________________________________________________\n",
      "batch_normalization (BatchNo (None, 1568)              6272      \n",
      "_________________________________________________________________\n",
      "p_re_lu (PReLU)              (None, 1568)              1568      \n",
      "_________________________________________________________________\n",
      "hidden_2 (Dense)             (None, 784)               1230096   \n",
      "_________________________________________________________________\n",
      "batch_normalization_1 (Batch (None, 784)               3136      \n",
      "_________________________________________________________________\n",
      "p_re_lu_1 (PReLU)            (None, 784)               784       \n",
      "_________________________________________________________________\n",
      "Salida (Dense)               (None, 10)                7850      \n",
      "_________________________________________________________________\n",
      "activation (Activation)      (None, 10)                0         \n",
      "=================================================================\n",
      "Total params: 2,480,586\n",
      "Trainable params: 2,475,882\n",
      "Non-trainable params: 4,704\n",
      "_________________________________________________________________\n"
     ]
    }
   ],
   "source": [
    "def get_model(l1=1e-5, input_dim=784):\n",
    "    output_size = 10\n",
    "    # initializer = initializers.normal(mean=0, stddev=0.001)\n",
    "    initializer = 'normal'\n",
    "    # Creo el modelo\n",
    "    model = Sequential()\n",
    "    model.add(Dense(784*2, activation='linear', kernel_initializer=initializer, name='hidden_1', input_dim=input_dim,\n",
    "                    kernel_regularizer=regularizers.l1(l=l1))) #\n",
    "    model.add(BatchNormalization())\n",
    "    model.add(PReLU())\n",
    "    # model.add(Dropout(0.2))\n",
    "    model.add(Dense(784, activation='linear', kernel_initializer=initializer, name='hidden_2', \n",
    "                    kernel_regularizer=regularizers.l1(l=l1)\n",
    "                   ))\n",
    "    model.add(BatchNormalization())\n",
    "    model.add(PReLU())\n",
    "#     model.add(Dense(400, activation='linear', kernel_initializer=initializer))\n",
    "#     model.add(LeakyReLU())\n",
    "    model.add(Dense(output_size, kernel_initializer=initializer, name='Salida'))\n",
    "    model.add(Activation('softmax'))\n",
    "    return model\n",
    "model = get_model()\n",
    "# model.save_weights('random-init.hdf5')\n",
    "model.summary()"
   ]
  },
  {
   "cell_type": "code",
   "execution_count": 7,
   "metadata": {
    "_uuid": "bac8f7a2f7fb157ec21445359a6f316073515ff4"
   },
   "outputs": [
    {
     "name": "stdout",
     "output_type": "stream",
     "text": [
      "Epoch 1/96\n",
      "\n",
      "Epoch 00001: val_accuracy improved from -inf to 0.85056, saving model to mlp.mnist_no_kfold.hdf5\n",
      "200/200 - 1s - loss: 0.4257 - accuracy: 0.8470 - val_loss: 0.4116 - val_accuracy: 0.8506 - lr: 0.0010\n",
      "Epoch 2/96\n",
      "\n",
      "Epoch 00002: val_accuracy improved from 0.85056 to 0.85967, saving model to mlp.mnist_no_kfold.hdf5\n",
      "200/200 - 1s - loss: 0.3084 - accuracy: 0.8864 - val_loss: 0.3901 - val_accuracy: 0.8597 - lr: 0.0010\n",
      "Epoch 3/96\n",
      "\n",
      "Epoch 00003: val_accuracy did not improve from 0.85967\n",
      "200/200 - 1s - loss: 0.2583 - accuracy: 0.9045 - val_loss: 0.4427 - val_accuracy: 0.8361 - lr: 0.0010\n",
      "Epoch 4/96\n",
      "\n",
      "Epoch 00004: val_accuracy improved from 0.85967 to 0.87000, saving model to mlp.mnist_no_kfold.hdf5\n",
      "200/200 - 1s - loss: 0.2288 - accuracy: 0.9139 - val_loss: 0.3492 - val_accuracy: 0.8700 - lr: 0.0010\n",
      "Epoch 5/96\n",
      "\n",
      "Epoch 00005: val_accuracy did not improve from 0.87000\n",
      "200/200 - 1s - loss: 0.2004 - accuracy: 0.9251 - val_loss: 0.6444 - val_accuracy: 0.8056 - lr: 0.0010\n",
      "Epoch 6/96\n",
      "\n",
      "Epoch 00006: val_accuracy did not improve from 0.87000\n",
      "200/200 - 1s - loss: 0.1832 - accuracy: 0.9321 - val_loss: 0.3860 - val_accuracy: 0.8611 - lr: 0.0010\n",
      "Epoch 7/96\n",
      "\n",
      "Epoch 00007: val_accuracy did not improve from 0.87000\n",
      "200/200 - 1s - loss: 0.1597 - accuracy: 0.9407 - val_loss: 0.4063 - val_accuracy: 0.8621 - lr: 0.0010\n",
      "Epoch 8/96\n",
      "\n",
      "Epoch 00008: val_accuracy did not improve from 0.87000\n",
      "200/200 - 1s - loss: 0.1424 - accuracy: 0.9476 - val_loss: 0.4524 - val_accuracy: 0.8501 - lr: 0.0010\n",
      "Epoch 9/96\n",
      "\n",
      "Epoch 00009: val_accuracy improved from 0.87000 to 0.87578, saving model to mlp.mnist_no_kfold.hdf5\n",
      "200/200 - 1s - loss: 0.1257 - accuracy: 0.9534 - val_loss: 0.3664 - val_accuracy: 0.8758 - lr: 0.0010\n",
      "Epoch 10/96\n",
      "\n",
      "Epoch 00010: val_accuracy did not improve from 0.87578\n",
      "200/200 - 1s - loss: 0.1134 - accuracy: 0.9581 - val_loss: 0.4707 - val_accuracy: 0.8639 - lr: 0.0010\n",
      "Epoch 11/96\n",
      "\n",
      "Epoch 00011: val_accuracy did not improve from 0.87578\n",
      "200/200 - 1s - loss: 0.0996 - accuracy: 0.9638 - val_loss: 0.5073 - val_accuracy: 0.8606 - lr: 0.0010\n",
      "Epoch 12/96\n",
      "\n",
      "Epoch 00012: val_accuracy did not improve from 0.87578\n",
      "200/200 - 1s - loss: 0.0895 - accuracy: 0.9669 - val_loss: 0.4401 - val_accuracy: 0.8520 - lr: 0.0010\n",
      "Epoch 13/96\n",
      "\n",
      "Epoch 00013: val_accuracy did not improve from 0.87578\n",
      "200/200 - 1s - loss: 0.0831 - accuracy: 0.9694 - val_loss: 0.5471 - val_accuracy: 0.8510 - lr: 0.0010\n",
      "Epoch 14/96\n",
      "\n",
      "Epoch 00014: val_accuracy did not improve from 0.87578\n",
      "200/200 - 1s - loss: 0.0706 - accuracy: 0.9735 - val_loss: 0.4734 - val_accuracy: 0.8654 - lr: 0.0010\n",
      "Epoch 15/96\n",
      "\n",
      "Epoch 00015: val_accuracy did not improve from 0.87578\n",
      "200/200 - 1s - loss: 0.0694 - accuracy: 0.9746 - val_loss: 0.4797 - val_accuracy: 0.8758 - lr: 0.0010\n",
      "Epoch 16/96\n",
      "\n",
      "Epoch 00016: val_accuracy did not improve from 0.87578\n",
      "200/200 - 1s - loss: 0.0641 - accuracy: 0.9770 - val_loss: 0.4964 - val_accuracy: 0.8703 - lr: 0.0010\n",
      "Epoch 17/96\n",
      "\n",
      "Epoch 00017: val_accuracy did not improve from 0.87578\n",
      "200/200 - 1s - loss: 0.0520 - accuracy: 0.9809 - val_loss: 0.5103 - val_accuracy: 0.8718 - lr: 0.0010\n",
      "Epoch 18/96\n",
      "\n",
      "Epoch 00018: val_accuracy improved from 0.87578 to 0.88611, saving model to mlp.mnist_no_kfold.hdf5\n",
      "200/200 - 1s - loss: 0.0564 - accuracy: 0.9793 - val_loss: 0.4996 - val_accuracy: 0.8861 - lr: 0.0010\n",
      "Epoch 19/96\n",
      "\n",
      "Epoch 00019: val_accuracy did not improve from 0.88611\n",
      "200/200 - 1s - loss: 0.0434 - accuracy: 0.9845 - val_loss: 0.5808 - val_accuracy: 0.8744 - lr: 0.0010\n",
      "Epoch 20/96\n",
      "\n",
      "Epoch 00020: val_accuracy did not improve from 0.88611\n",
      "200/200 - 1s - loss: 0.0426 - accuracy: 0.9843 - val_loss: 0.5614 - val_accuracy: 0.8554 - lr: 0.0010\n",
      "Epoch 21/96\n",
      "\n",
      "Epoch 00021: val_accuracy did not improve from 0.88611\n",
      "200/200 - 0s - loss: 0.0451 - accuracy: 0.9839 - val_loss: 0.7020 - val_accuracy: 0.8557 - lr: 0.0010\n",
      "Epoch 22/96\n",
      "\n",
      "Epoch 00022: val_accuracy did not improve from 0.88611\n",
      "200/200 - 1s - loss: 0.0412 - accuracy: 0.9857 - val_loss: 0.5146 - val_accuracy: 0.8747 - lr: 0.0010\n",
      "Epoch 23/96\n",
      "\n",
      "Epoch 00023: val_accuracy did not improve from 0.88611\n",
      "200/200 - 1s - loss: 0.0365 - accuracy: 0.9868 - val_loss: 0.4985 - val_accuracy: 0.8804 - lr: 0.0010\n",
      "Epoch 24/96\n",
      "\n",
      "Epoch 00024: val_accuracy did not improve from 0.88611\n",
      "200/200 - 1s - loss: 0.0372 - accuracy: 0.9865 - val_loss: 0.6137 - val_accuracy: 0.8693 - lr: 0.0010\n",
      "Epoch 25/96\n",
      "\n",
      "Epoch 00025: val_accuracy did not improve from 0.88611\n",
      "200/200 - 1s - loss: 0.0437 - accuracy: 0.9852 - val_loss: 0.4964 - val_accuracy: 0.8763 - lr: 0.0010\n",
      "Epoch 26/96\n",
      "\n",
      "Epoch 00026: val_accuracy improved from 0.88611 to 0.89233, saving model to mlp.mnist_no_kfold.hdf5\n",
      "200/200 - 1s - loss: 0.0296 - accuracy: 0.9898 - val_loss: 0.4811 - val_accuracy: 0.8923 - lr: 0.0010\n",
      "Epoch 27/96\n",
      "\n",
      "Epoch 00027: val_accuracy did not improve from 0.89233\n",
      "200/200 - 1s - loss: 0.0211 - accuracy: 0.9928 - val_loss: 0.6277 - val_accuracy: 0.8806 - lr: 0.0010\n",
      "Epoch 28/96\n",
      "\n",
      "Epoch 00028: val_accuracy did not improve from 0.89233\n",
      "200/200 - 1s - loss: 0.0230 - accuracy: 0.9918 - val_loss: 0.6047 - val_accuracy: 0.8790 - lr: 0.0010\n",
      "Epoch 29/96\n",
      "\n",
      "Epoch 00029: val_accuracy did not improve from 0.89233\n",
      "200/200 - 1s - loss: 0.0278 - accuracy: 0.9899 - val_loss: 0.7927 - val_accuracy: 0.8487 - lr: 0.0010\n",
      "Epoch 30/96\n",
      "\n",
      "Epoch 00030: val_accuracy did not improve from 0.89233\n",
      "200/200 - 1s - loss: 0.0360 - accuracy: 0.9869 - val_loss: 0.7884 - val_accuracy: 0.8563 - lr: 0.0010\n",
      "Epoch 31/96\n",
      "\n",
      "Epoch 00031: val_accuracy did not improve from 0.89233\n",
      "200/200 - 1s - loss: 0.0311 - accuracy: 0.9895 - val_loss: 0.5742 - val_accuracy: 0.8826 - lr: 0.0010\n",
      "Epoch 32/96\n",
      "\n",
      "Epoch 00032: val_accuracy did not improve from 0.89233\n",
      "200/200 - 1s - loss: 0.0229 - accuracy: 0.9924 - val_loss: 0.6403 - val_accuracy: 0.8818 - lr: 0.0010\n",
      "Epoch 33/96\n",
      "\n",
      "Epoch 00033: val_accuracy did not improve from 0.89233\n",
      "200/200 - 1s - loss: 0.0263 - accuracy: 0.9905 - val_loss: 0.5310 - val_accuracy: 0.8872 - lr: 0.0010\n",
      "Epoch 34/96\n",
      "\n",
      "Epoch 00034: val_accuracy did not improve from 0.89233\n",
      "200/200 - 1s - loss: 0.0210 - accuracy: 0.9927 - val_loss: 0.6757 - val_accuracy: 0.8759 - lr: 0.0010\n",
      "Epoch 35/96\n",
      "\n",
      "Epoch 00035: val_accuracy did not improve from 0.89233\n",
      "200/200 - 1s - loss: 0.0280 - accuracy: 0.9900 - val_loss: 0.5384 - val_accuracy: 0.8923 - lr: 0.0010\n",
      "Epoch 36/96\n",
      "\n",
      "Epoch 00036: val_accuracy did not improve from 0.89233\n",
      "\n",
      "Epoch 00036: ReduceLROnPlateau reducing learning rate to 0.00020000000949949026.\n",
      "200/200 - 1s - loss: 0.0233 - accuracy: 0.9919 - val_loss: 0.7041 - val_accuracy: 0.8683 - lr: 0.0010\n",
      "Epoch 37/96\n",
      "\n",
      "Epoch 00037: val_accuracy improved from 0.89233 to 0.90700, saving model to mlp.mnist_no_kfold.hdf5\n",
      "200/200 - 1s - loss: 0.0074 - accuracy: 0.9981 - val_loss: 0.4929 - val_accuracy: 0.9070 - lr: 2.0000e-04\n",
      "Epoch 38/96\n",
      "\n",
      "Epoch 00038: val_accuracy improved from 0.90700 to 0.90722, saving model to mlp.mnist_no_kfold.hdf5\n",
      "200/200 - 1s - loss: 0.0023 - accuracy: 0.9998 - val_loss: 0.4943 - val_accuracy: 0.9072 - lr: 2.0000e-04\n",
      "Epoch 39/96\n",
      "\n",
      "Epoch 00039: val_accuracy did not improve from 0.90722\n",
      "200/200 - 1s - loss: 0.0015 - accuracy: 1.0000 - val_loss: 0.5056 - val_accuracy: 0.9054 - lr: 2.0000e-04\n",
      "Epoch 40/96\n",
      "\n",
      "Epoch 00040: val_accuracy improved from 0.90722 to 0.90778, saving model to mlp.mnist_no_kfold.hdf5\n",
      "200/200 - 1s - loss: 0.0012 - accuracy: 0.9999 - val_loss: 0.5066 - val_accuracy: 0.9078 - lr: 2.0000e-04\n",
      "Epoch 41/96\n",
      "\n",
      "Epoch 00041: val_accuracy improved from 0.90778 to 0.90822, saving model to mlp.mnist_no_kfold.hdf5\n",
      "200/200 - 1s - loss: 0.0011 - accuracy: 1.0000 - val_loss: 0.5113 - val_accuracy: 0.9082 - lr: 2.0000e-04\n",
      "Epoch 42/96\n",
      "\n",
      "Epoch 00042: val_accuracy did not improve from 0.90822\n",
      "200/200 - 1s - loss: 9.3290e-04 - accuracy: 1.0000 - val_loss: 0.5196 - val_accuracy: 0.9076 - lr: 2.0000e-04\n",
      "Epoch 43/96\n",
      "\n",
      "Epoch 00043: val_accuracy did not improve from 0.90822\n",
      "200/200 - 1s - loss: 8.0890e-04 - accuracy: 1.0000 - val_loss: 0.5178 - val_accuracy: 0.9079 - lr: 2.0000e-04\n",
      "Epoch 44/96\n",
      "\n",
      "Epoch 00044: val_accuracy did not improve from 0.90822\n",
      "200/200 - 1s - loss: 6.6070e-04 - accuracy: 1.0000 - val_loss: 0.5273 - val_accuracy: 0.9070 - lr: 2.0000e-04\n",
      "Epoch 45/96\n",
      "\n",
      "Epoch 00045: val_accuracy did not improve from 0.90822\n",
      "200/200 - 1s - loss: 6.3631e-04 - accuracy: 1.0000 - val_loss: 0.5255 - val_accuracy: 0.9079 - lr: 2.0000e-04\n",
      "Epoch 46/96\n",
      "\n",
      "Epoch 00046: val_accuracy did not improve from 0.90822\n",
      "200/200 - 1s - loss: 5.3328e-04 - accuracy: 1.0000 - val_loss: 0.5343 - val_accuracy: 0.9079 - lr: 2.0000e-04\n",
      "Epoch 47/96\n",
      "\n",
      "Epoch 00047: val_accuracy did not improve from 0.90822\n",
      "200/200 - 1s - loss: 5.5391e-04 - accuracy: 1.0000 - val_loss: 0.5365 - val_accuracy: 0.9078 - lr: 2.0000e-04\n",
      "Epoch 48/96\n",
      "\n",
      "Epoch 00048: val_accuracy did not improve from 0.90822\n",
      "200/200 - 1s - loss: 4.4270e-04 - accuracy: 1.0000 - val_loss: 0.5430 - val_accuracy: 0.9069 - lr: 2.0000e-04\n",
      "Epoch 49/96\n",
      "\n",
      "Epoch 00049: val_accuracy did not improve from 0.90822\n",
      "200/200 - 1s - loss: 3.9813e-04 - accuracy: 1.0000 - val_loss: 0.5472 - val_accuracy: 0.9071 - lr: 2.0000e-04\n",
      "Epoch 50/96\n",
      "\n",
      "Epoch 00050: val_accuracy did not improve from 0.90822\n",
      "200/200 - 1s - loss: 3.4170e-04 - accuracy: 1.0000 - val_loss: 0.5468 - val_accuracy: 0.9074 - lr: 2.0000e-04\n",
      "Epoch 51/96\n",
      "\n",
      "Epoch 00051: val_accuracy did not improve from 0.90822\n",
      "\n",
      "Epoch 00051: ReduceLROnPlateau reducing learning rate to 4.0000001899898055e-05.\n",
      "200/200 - 1s - loss: 3.0714e-04 - accuracy: 1.0000 - val_loss: 0.5487 - val_accuracy: 0.9074 - lr: 2.0000e-04\n",
      "Epoch 52/96\n",
      "\n",
      "Epoch 00052: val_accuracy did not improve from 0.90822\n",
      "200/200 - 1s - loss: 2.6072e-04 - accuracy: 1.0000 - val_loss: 0.5514 - val_accuracy: 0.9076 - lr: 4.0000e-05\n",
      "Epoch 53/96\n",
      "\n",
      "Epoch 00053: val_accuracy improved from 0.90822 to 0.90878, saving model to mlp.mnist_no_kfold.hdf5\n",
      "200/200 - 1s - loss: 2.6509e-04 - accuracy: 1.0000 - val_loss: 0.5522 - val_accuracy: 0.9088 - lr: 4.0000e-05\n",
      "Epoch 54/96\n",
      "\n",
      "Epoch 00054: val_accuracy did not improve from 0.90878\n",
      "200/200 - 1s - loss: 2.4529e-04 - accuracy: 1.0000 - val_loss: 0.5530 - val_accuracy: 0.9079 - lr: 4.0000e-05\n",
      "Epoch 55/96\n",
      "\n",
      "Epoch 00055: val_accuracy did not improve from 0.90878\n",
      "200/200 - 1s - loss: 2.4853e-04 - accuracy: 1.0000 - val_loss: 0.5545 - val_accuracy: 0.9076 - lr: 4.0000e-05\n",
      "Epoch 56/96\n",
      "\n",
      "Epoch 00056: val_accuracy did not improve from 0.90878\n",
      "200/200 - 1s - loss: 2.3833e-04 - accuracy: 1.0000 - val_loss: 0.5560 - val_accuracy: 0.9076 - lr: 4.0000e-05\n",
      "Epoch 57/96\n",
      "\n",
      "Epoch 00057: val_accuracy did not improve from 0.90878\n",
      "200/200 - 1s - loss: 2.4291e-04 - accuracy: 1.0000 - val_loss: 0.5558 - val_accuracy: 0.9069 - lr: 4.0000e-05\n",
      "Epoch 58/96\n",
      "\n",
      "Epoch 00058: val_accuracy did not improve from 0.90878\n",
      "200/200 - 1s - loss: 2.4142e-04 - accuracy: 1.0000 - val_loss: 0.5568 - val_accuracy: 0.9079 - lr: 4.0000e-05\n",
      "Epoch 59/96\n",
      "\n",
      "Epoch 00059: val_accuracy did not improve from 0.90878\n",
      "200/200 - 1s - loss: 2.2299e-04 - accuracy: 1.0000 - val_loss: 0.5596 - val_accuracy: 0.9069 - lr: 4.0000e-05\n",
      "Epoch 60/96\n",
      "\n",
      "Epoch 00060: val_accuracy did not improve from 0.90878\n",
      "200/200 - 1s - loss: 2.1067e-04 - accuracy: 1.0000 - val_loss: 0.5611 - val_accuracy: 0.9074 - lr: 4.0000e-05\n",
      "Epoch 61/96\n",
      "\n",
      "Epoch 00061: val_accuracy did not improve from 0.90878\n",
      "200/200 - 1s - loss: 2.0822e-04 - accuracy: 1.0000 - val_loss: 0.5613 - val_accuracy: 0.9071 - lr: 4.0000e-05\n",
      "Epoch 62/96\n",
      "\n",
      "Epoch 00062: val_accuracy did not improve from 0.90878\n",
      "200/200 - 1s - loss: 1.9809e-04 - accuracy: 1.0000 - val_loss: 0.5632 - val_accuracy: 0.9070 - lr: 4.0000e-05\n",
      "Epoch 63/96\n",
      "\n",
      "Epoch 00063: val_accuracy did not improve from 0.90878\n",
      "\n",
      "Epoch 00063: ReduceLROnPlateau reducing learning rate to 8.000000525498762e-06.\n",
      "200/200 - 1s - loss: 1.9803e-04 - accuracy: 1.0000 - val_loss: 0.5650 - val_accuracy: 0.9070 - lr: 4.0000e-05\n",
      "Epoch 64/96\n",
      "\n",
      "Epoch 00064: val_accuracy did not improve from 0.90878\n",
      "200/200 - 1s - loss: 1.7821e-04 - accuracy: 1.0000 - val_loss: 0.5645 - val_accuracy: 0.9068 - lr: 8.0000e-06\n",
      "Epoch 65/96\n",
      "\n",
      "Epoch 00065: val_accuracy did not improve from 0.90878\n",
      "200/200 - 1s - loss: 1.8723e-04 - accuracy: 1.0000 - val_loss: 0.5647 - val_accuracy: 0.9067 - lr: 8.0000e-06\n",
      "Epoch 66/96\n",
      "\n",
      "Epoch 00066: val_accuracy did not improve from 0.90878\n",
      "200/200 - 1s - loss: 1.7357e-04 - accuracy: 1.0000 - val_loss: 0.5653 - val_accuracy: 0.9064 - lr: 8.0000e-06\n",
      "Epoch 67/96\n",
      "\n",
      "Epoch 00067: val_accuracy did not improve from 0.90878\n",
      "200/200 - 1s - loss: 1.7378e-04 - accuracy: 1.0000 - val_loss: 0.5659 - val_accuracy: 0.9068 - lr: 8.0000e-06\n",
      "Epoch 68/96\n",
      "\n",
      "Epoch 00068: val_accuracy did not improve from 0.90878\n",
      "200/200 - 1s - loss: 1.7351e-04 - accuracy: 1.0000 - val_loss: 0.5666 - val_accuracy: 0.9069 - lr: 8.0000e-06\n",
      "Epoch 69/96\n",
      "\n",
      "Epoch 00069: val_accuracy did not improve from 0.90878\n",
      "200/200 - 1s - loss: 1.6715e-04 - accuracy: 1.0000 - val_loss: 0.5666 - val_accuracy: 0.9067 - lr: 8.0000e-06\n",
      "Epoch 70/96\n",
      "\n",
      "Epoch 00070: val_accuracy did not improve from 0.90878\n",
      "200/200 - 1s - loss: 1.7402e-04 - accuracy: 1.0000 - val_loss: 0.5667 - val_accuracy: 0.9073 - lr: 8.0000e-06\n",
      "Epoch 71/96\n",
      "\n",
      "Epoch 00071: val_accuracy did not improve from 0.90878\n",
      "200/200 - 1s - loss: 1.6839e-04 - accuracy: 1.0000 - val_loss: 0.5677 - val_accuracy: 0.9069 - lr: 8.0000e-06\n",
      "Epoch 72/96\n",
      "\n",
      "Epoch 00072: val_accuracy did not improve from 0.90878\n",
      "200/200 - 1s - loss: 1.7236e-04 - accuracy: 1.0000 - val_loss: 0.5687 - val_accuracy: 0.9077 - lr: 8.0000e-06\n",
      "Epoch 73/96\n",
      "\n",
      "Epoch 00073: val_accuracy did not improve from 0.90878\n",
      "\n",
      "Epoch 00073: ReduceLROnPlateau reducing learning rate to 1.6000001778593287e-06.\n",
      "200/200 - 2s - loss: 1.7927e-04 - accuracy: 1.0000 - val_loss: 0.5697 - val_accuracy: 0.9073 - lr: 8.0000e-06\n",
      "Epoch 74/96\n",
      "\n",
      "Epoch 00074: val_accuracy did not improve from 0.90878\n",
      "200/200 - 1s - loss: 1.6363e-04 - accuracy: 1.0000 - val_loss: 0.5701 - val_accuracy: 0.9073 - lr: 1.6000e-06\n",
      "Epoch 75/96\n",
      "\n",
      "Epoch 00075: val_accuracy did not improve from 0.90878\n",
      "200/200 - 1s - loss: 1.5633e-04 - accuracy: 1.0000 - val_loss: 0.5703 - val_accuracy: 0.9073 - lr: 1.6000e-06\n",
      "Epoch 76/96\n",
      "\n",
      "Epoch 00076: val_accuracy did not improve from 0.90878\n",
      "200/200 - 1s - loss: 1.5703e-04 - accuracy: 1.0000 - val_loss: 0.5697 - val_accuracy: 0.9072 - lr: 1.6000e-06\n",
      "Epoch 77/96\n",
      "\n",
      "Epoch 00077: val_accuracy did not improve from 0.90878\n",
      "200/200 - 1s - loss: 1.7186e-04 - accuracy: 1.0000 - val_loss: 0.5701 - val_accuracy: 0.9072 - lr: 1.6000e-06\n",
      "Epoch 78/96\n",
      "\n",
      "Epoch 00078: val_accuracy did not improve from 0.90878\n",
      "200/200 - 1s - loss: 1.5152e-04 - accuracy: 1.0000 - val_loss: 0.5698 - val_accuracy: 0.9074 - lr: 1.6000e-06\n",
      "Epoch 79/96\n",
      "\n",
      "Epoch 00079: val_accuracy did not improve from 0.90878\n",
      "200/200 - 1s - loss: 1.6087e-04 - accuracy: 1.0000 - val_loss: 0.5699 - val_accuracy: 0.9071 - lr: 1.6000e-06\n",
      "Epoch 80/96\n",
      "\n",
      "Epoch 00080: val_accuracy did not improve from 0.90878\n",
      "200/200 - 1s - loss: 1.5174e-04 - accuracy: 1.0000 - val_loss: 0.5713 - val_accuracy: 0.9070 - lr: 1.6000e-06\n",
      "Epoch 81/96\n",
      "\n",
      "Epoch 00081: val_accuracy did not improve from 0.90878\n",
      "200/200 - 1s - loss: 1.5135e-04 - accuracy: 1.0000 - val_loss: 0.5713 - val_accuracy: 0.9072 - lr: 1.6000e-06\n",
      "Epoch 82/96\n",
      "\n",
      "Epoch 00082: val_accuracy did not improve from 0.90878\n",
      "200/200 - 1s - loss: 1.6310e-04 - accuracy: 1.0000 - val_loss: 0.5710 - val_accuracy: 0.9071 - lr: 1.6000e-06\n",
      "Epoch 83/96\n",
      "\n",
      "Epoch 00083: val_accuracy did not improve from 0.90878\n",
      "\n",
      "Epoch 00083: ReduceLROnPlateau reducing learning rate to 3.200000264769187e-07.\n",
      "200/200 - 1s - loss: 1.5165e-04 - accuracy: 1.0000 - val_loss: 0.5709 - val_accuracy: 0.9074 - lr: 1.6000e-06\n",
      "Epoch 84/96\n",
      "\n",
      "Epoch 00084: val_accuracy did not improve from 0.90878\n",
      "200/200 - 1s - loss: 1.6696e-04 - accuracy: 1.0000 - val_loss: 0.5717 - val_accuracy: 0.9074 - lr: 3.2000e-07\n",
      "Epoch 85/96\n",
      "\n",
      "Epoch 00085: val_accuracy did not improve from 0.90878\n",
      "200/200 - 1s - loss: 1.5811e-04 - accuracy: 1.0000 - val_loss: 0.5712 - val_accuracy: 0.9068 - lr: 3.2000e-07\n",
      "Epoch 86/96\n",
      "\n",
      "Epoch 00086: val_accuracy did not improve from 0.90878\n",
      "200/200 - 1s - loss: 1.5279e-04 - accuracy: 1.0000 - val_loss: 0.5711 - val_accuracy: 0.9072 - lr: 3.2000e-07\n",
      "Epoch 87/96\n",
      "\n",
      "Epoch 00087: val_accuracy did not improve from 0.90878\n",
      "200/200 - 1s - loss: 1.6074e-04 - accuracy: 1.0000 - val_loss: 0.5720 - val_accuracy: 0.9071 - lr: 3.2000e-07\n",
      "Epoch 88/96\n",
      "\n",
      "Epoch 00088: val_accuracy did not improve from 0.90878\n",
      "200/200 - 1s - loss: 1.5320e-04 - accuracy: 1.0000 - val_loss: 0.5721 - val_accuracy: 0.9071 - lr: 3.2000e-07\n",
      "Epoch 89/96\n",
      "\n",
      "Epoch 00089: val_accuracy did not improve from 0.90878\n",
      "200/200 - 1s - loss: 1.5368e-04 - accuracy: 1.0000 - val_loss: 0.5716 - val_accuracy: 0.9067 - lr: 3.2000e-07\n",
      "Epoch 90/96\n",
      "\n",
      "Epoch 00090: val_accuracy did not improve from 0.90878\n",
      "200/200 - 1s - loss: 1.6074e-04 - accuracy: 1.0000 - val_loss: 0.5720 - val_accuracy: 0.9070 - lr: 3.2000e-07\n",
      "Epoch 91/96\n",
      "\n",
      "Epoch 00091: val_accuracy did not improve from 0.90878\n",
      "200/200 - 1s - loss: 1.4990e-04 - accuracy: 1.0000 - val_loss: 0.5719 - val_accuracy: 0.9071 - lr: 3.2000e-07\n",
      "Epoch 92/96\n",
      "\n",
      "Epoch 00092: val_accuracy did not improve from 0.90878\n",
      "200/200 - 1s - loss: 1.5485e-04 - accuracy: 1.0000 - val_loss: 0.5725 - val_accuracy: 0.9071 - lr: 3.2000e-07\n",
      "Epoch 93/96\n",
      "\n",
      "Epoch 00093: val_accuracy did not improve from 0.90878\n",
      "\n",
      "Epoch 00093: ReduceLROnPlateau reducing learning rate to 6.400000529538374e-08.\n",
      "200/200 - 1s - loss: 1.4975e-04 - accuracy: 1.0000 - val_loss: 0.5717 - val_accuracy: 0.9070 - lr: 3.2000e-07\n",
      "Epoch 94/96\n",
      "\n",
      "Epoch 00094: val_accuracy did not improve from 0.90878\n",
      "200/200 - 1s - loss: 1.5853e-04 - accuracy: 1.0000 - val_loss: 0.5715 - val_accuracy: 0.9071 - lr: 6.4000e-08\n",
      "Epoch 95/96\n",
      "\n",
      "Epoch 00095: val_accuracy did not improve from 0.90878\n",
      "200/200 - 1s - loss: 1.5678e-04 - accuracy: 1.0000 - val_loss: 0.5716 - val_accuracy: 0.9066 - lr: 6.4000e-08\n",
      "Epoch 96/96\n",
      "\n",
      "Epoch 00096: val_accuracy did not improve from 0.90878\n",
      "200/200 - 1s - loss: 1.5634e-04 - accuracy: 1.0000 - val_loss: 0.5717 - val_accuracy: 0.9069 - lr: 6.4000e-08\n"
     ]
    }
   ],
   "source": [
    "set_random_seeds(42)\n",
    "batch_size = 256\n",
    "lr = 0.001\n",
    "epochs = 96\n",
    "\n",
    "\n",
    "X_train, X_val, y_train, y_val = train_test_split(X, y, test_size=0.15, random_state=42)\n",
    "model = get_model(l1=0)\n",
    "optim = optimizers.Adam(lr=lr)\n",
    "rop = ReduceLROnPlateau(monitor='val_accuracy', mode='max', factor=0.2, patience=10, verbose=1)\n",
    "model.compile(loss = 'sparse_categorical_crossentropy', optimizer=optim, metrics=['accuracy'])\n",
    "\n",
    "checkpointer = ModelCheckpoint(filepath=f'mlp.mnist_no_kfold.hdf5', \n",
    "                               verbose=1, save_best_only=True, monitor='val_accuracy', mode='max')\n",
    "model.save_weights('initial_weights.hdf5')\n",
    "history = model.fit(X_train, \n",
    "           y_train,\n",
    "           epochs=epochs, batch_size=batch_size, \n",
    "          validation_data = (X_val, y_val),\n",
    "           verbose=2, \n",
    "          callbacks=[checkpointer, rop],\n",
    "                shuffle = True\n",
    "          )"
   ]
  },
  {
   "cell_type": "code",
   "execution_count": 8,
   "metadata": {},
   "outputs": [
    {
     "data": {
      "text/plain": [
       "[0.5716524124145508, 0.9068889021873474]"
      ]
     },
     "execution_count": 8,
     "metadata": {},
     "output_type": "execute_result"
    }
   ],
   "source": [
    "model.evaluate(X_val, y_val, verbose=0)"
   ]
  },
  {
   "cell_type": "code",
   "execution_count": 12,
   "metadata": {},
   "outputs": [
    {
     "name": "stdout",
     "output_type": "stream",
     "text": [
      "[0.5521948337554932, 0.9087777733802795]\n"
     ]
    },
    {
     "data": {
      "text/plain": [
       "[0.60569828748703, 0.9035000205039978]"
      ]
     },
     "execution_count": 12,
     "metadata": {},
     "output_type": "execute_result"
    }
   ],
   "source": [
    "model.load_weights('mlp.mnist_no_kfold.hdf5')\n",
    "print(model.evaluate(X_val, y_val, verbose=0))\n",
    "model.compile(loss = 'sparse_categorical_crossentropy', optimizer=optim, metrics=['accuracy'])\n",
    "model.evaluate(X_test, y_test, verbose=0)"
   ]
  },
  {
   "cell_type": "code",
   "execution_count": 13,
   "metadata": {},
   "outputs": [
    {
     "data": {
      "text/plain": [
       "[<matplotlib.lines.Line2D at 0x7f5ca820b198>]"
      ]
     },
     "execution_count": 13,
     "metadata": {},
     "output_type": "execute_result"
    },
    {
     "data": {
      "image/png": "[encoded data removed]",
      "text/plain": [
       "<Figure size 432x288 with 1 Axes>"
      ]
     },
     "metadata": {
      "needs_background": "light"
     },
     "output_type": "display_data"
    }
   ],
   "source": [
    "plt.plot(history.history['accuracy'])\n",
    "plt.plot(history.history['val_accuracy'])"
   ]
  },
  {
   "cell_type": "code",
   "execution_count": 14,
   "metadata": {},
   "outputs": [],
   "source": [
    "import tensorflow_model_optimization as tfmot\n",
    "from tensorflow.keras.models import Model\n",
    "import tensorflow.keras as keras\n",
    "from tensorflow.keras.layers import Input"
   ]
  },
  {
   "cell_type": "code",
   "execution_count": 69,
   "metadata": {},
   "outputs": [],
   "source": [
    "sparcity = 0.50\n",
    "prune_low_magnitude = tfmot.sparsity.keras.prune_low_magnitude\n",
    "sprasity_sched = tfmot.sparsity.keras.ConstantSparsity(\n",
    "    sparcity, 0, end_step=-1, frequency=10000000)"
   ]
  },
  {
   "cell_type": "code",
   "execution_count": 70,
   "metadata": {},
   "outputs": [
    {
     "name": "stdout",
     "output_type": "stream",
     "text": [
      "['hidden_1', 'batch_normalization_2', 'p_re_lu_2', 'hidden_2', 'batch_normalization_3', 'p_re_lu_3', 'Salida', 'activation_1']\n"
     ]
    }
   ],
   "source": [
    "print([layer.name for layer in model.layers])"
   ]
  },
  {
   "cell_type": "code",
   "execution_count": 71,
   "metadata": {},
   "outputs": [
    {
     "data": {
      "text/plain": [
       "[0.60569828748703, 0.9035000205039978]"
      ]
     },
     "execution_count": 71,
     "metadata": {},
     "output_type": "execute_result"
    }
   ],
   "source": [
    "model.load_weights('mlp.mnist_no_kfold.hdf5')\n",
    "layer_to_pune = ['hidden_1', 'hidden_2', 'Salida']\n",
    "prunned_model_layers = []\n",
    "for layer in model.layers:\n",
    "    if layer.name in layer_to_pune:\n",
    "        prunned_model_layers.append(prune_low_magnitude(layer, sprasity_sched))\n",
    "    else:\n",
    "        prunned_model_layers.append(layer)\n",
    "pruned_model_trained = keras.Sequential(prunned_model_layers)\n",
    "pruned_model_trained.compile(loss = 'sparse_categorical_crossentropy', optimizer=optimizers.Adam(lr=1e-10), metrics=['accuracy'])\n",
    "pruned_model_trained.evaluate(X_test, y_test, verbose=0)"
   ]
  },
  {
   "cell_type": "code",
   "execution_count": 72,
   "metadata": {},
   "outputs": [],
   "source": [
    "callbacks = [\n",
    "  tfmot.sparsity.keras.UpdatePruningStep(),\n",
    "    #CyclicLR(1e-9, 0.001, 2*iters_per_epoch, mode='triangular'),\n",
    "    ModelCheckpoint(filepath=f'mlp.mnist_no_kfold_sparse.hdf5', verbose=1, save_best_only=True, monitor='val_accuracy', mode='max'),\n",
    "#    tfmot.sparsity.keras.PruningSummaries(log_dir='logs'),\n",
    "]"
   ]
  },
  {
   "cell_type": "code",
   "execution_count": 73,
   "metadata": {},
   "outputs": [
    {
     "name": "stdout",
     "output_type": "stream",
     "text": [
      "\n",
      "Epoch 00001: val_accuracy improved from -inf to 0.90589, saving model to mlp.mnist_no_kfold_sparse.hdf5\n",
      "200/200 - 1s - loss: 0.0018 - accuracy: 1.0000 - val_loss: 0.4977 - val_accuracy: 0.9059\n"
     ]
    },
    {
     "data": {
      "text/plain": [
       "<tensorflow.python.keras.callbacks.History at 0x7f5bbc30d160>"
      ]
     },
     "execution_count": 73,
     "metadata": {},
     "output_type": "execute_result"
    }
   ],
   "source": [
    "pruned_model_trained.fit(X_train, \n",
    "               y_train,\n",
    "               epochs=1, batch_size=batch_size, \n",
    "              validation_data = (X_val, y_val),\n",
    "               verbose=2, \n",
    "                    shuffle = True,\n",
    "                           callbacks=callbacks\n",
    "              )"
   ]
  },
  {
   "cell_type": "code",
   "execution_count": 74,
   "metadata": {},
   "outputs": [
    {
     "name": "stdout",
     "output_type": "stream",
     "text": [
      "['prune_low_magnitude_hidden_1', 'batch_normalization_2', 'p_re_lu_2', 'prune_low_magnitude_hidden_2', 'batch_normalization_3', 'p_re_lu_3', 'prune_low_magnitude_Salida', 'activation_1']\n"
     ]
    }
   ],
   "source": [
    "print([layer.name for layer in pruned_model_trained.layers])"
   ]
  },
  {
   "cell_type": "code",
   "execution_count": 75,
   "metadata": {},
   "outputs": [],
   "source": [
    "mask = pruned_model_trained.get_layer('prune_low_magnitude_hidden_1').pruning_vars[0][1]"
   ]
  },
  {
   "cell_type": "code",
   "execution_count": 76,
   "metadata": {},
   "outputs": [
    {
     "name": "stdout",
     "output_type": "stream",
     "text": [
      "True\n"
     ]
    }
   ],
   "source": [
    "model.load_weights('mlp.mnist_no_kfold.hdf5')\n",
    "weights_abs = np.abs(model.get_layer('hidden_1').get_weights()[0])\n",
    "print(np.min(weights_abs[mask==1]) > np.max(weights_abs[mask==0]))"
   ]
  },
  {
   "cell_type": "code",
   "execution_count": 77,
   "metadata": {},
   "outputs": [],
   "source": [
    "from tensorflow_model_optimization.python.core.sparsity.keras import pruning_wrapper"
   ]
  },
  {
   "cell_type": "code",
   "execution_count": 78,
   "metadata": {},
   "outputs": [
    {
     "name": "stdout",
     "output_type": "stream",
     "text": [
      "0\n",
      "3\n",
      "6\n"
     ]
    }
   ],
   "source": [
    "model.load_weights('initial_weights.hdf5')\n",
    "for i, layer in enumerate(pruned_model_trained.layers):\n",
    "    if isinstance(layer, pruning_wrapper.PruneLowMagnitude):\n",
    "        print(i)\n",
    "        l_weights = model.layers[i].get_weights()\n",
    "        l_weights[0] = l_weights[0]*layer.pruning_vars[0][1].numpy()\n",
    "        model.layers[i].set_weights(l_weights)"
   ]
  },
  {
   "cell_type": "code",
   "execution_count": 79,
   "metadata": {},
   "outputs": [
    {
     "data": {
      "text/plain": [
       "0.5"
      ]
     },
     "execution_count": 79,
     "metadata": {},
     "output_type": "execute_result"
    }
   ],
   "source": [
    "l_index = 6\n",
    "(model.layers[l_index].get_weights()[0] == 0).sum()/np.product(model.layers[l_index].get_weights()[0].shape)"
   ]
  },
  {
   "cell_type": "code",
   "execution_count": 80,
   "metadata": {},
   "outputs": [
    {
     "data": {
      "text/plain": [
       "[1.3031542301177979, 0.6588000059127808]"
      ]
     },
     "execution_count": 80,
     "metadata": {},
     "output_type": "execute_result"
    }
   ],
   "source": [
    "prunned_model_layers = []\n",
    "for layer in model.layers:\n",
    "    if layer.name in layer_to_pune:\n",
    "        prunned_model_layers.append(prune_low_magnitude(layer, sprasity_sched))\n",
    "    else:\n",
    "        prunned_model_layers.append(layer)\n",
    "pruned_model = keras.Sequential(prunned_model_layers)\n",
    "pruned_model.compile(loss = 'sparse_categorical_crossentropy', optimizer=optimizers.Adam(lr=lr), metrics=['accuracy'])\n",
    "pruned_model.evaluate(X_test, y_test, verbose=0)"
   ]
  },
  {
   "cell_type": "code",
   "execution_count": 81,
   "metadata": {},
   "outputs": [
    {
     "name": "stdout",
     "output_type": "stream",
     "text": [
      "Model: \"sequential_14\"\n",
      "_________________________________________________________________\n",
      "Layer (type)                 Output Shape              Param #   \n",
      "=================================================================\n",
      "prune_low_magnitude_hidden_1 (None, 1568)              2460194   \n",
      "_________________________________________________________________\n",
      "batch_normalization_2 (Batch (None, 1568)              6272      \n",
      "_________________________________________________________________\n",
      "p_re_lu_2 (PReLU)            (None, 1568)              1568      \n",
      "_________________________________________________________________\n",
      "prune_low_magnitude_hidden_2 (None, 784)               2459410   \n",
      "_________________________________________________________________\n",
      "batch_normalization_3 (Batch (None, 784)               3136      \n",
      "_________________________________________________________________\n",
      "p_re_lu_3 (PReLU)            (None, 784)               784       \n",
      "_________________________________________________________________\n",
      "prune_low_magnitude_Salida ( (None, 10)                15692     \n",
      "_________________________________________________________________\n",
      "activation_1 (Activation)    (None, 10)                0         \n",
      "=================================================================\n",
      "Total params: 4,947,056\n",
      "Trainable params: 2,475,882\n",
      "Non-trainable params: 2,471,174\n",
      "_________________________________________________________________\n"
     ]
    }
   ],
   "source": [
    "pruned_model.summary()"
   ]
  },
  {
   "cell_type": "code",
   "execution_count": 82,
   "metadata": {},
   "outputs": [
    {
     "data": {
      "text/plain": [
       "0.5"
      ]
     },
     "execution_count": 82,
     "metadata": {},
     "output_type": "execute_result"
    }
   ],
   "source": [
    "(pruned_model.layers[l_index].pruning_vars[0][1].numpy() == pruned_model_trained.layers[l_index].pruning_vars[0][1].numpy()).sum()/np.product(model.layers[l_index].get_weights()[0].shape)"
   ]
  },
  {
   "cell_type": "code",
   "execution_count": 84,
   "metadata": {},
   "outputs": [],
   "source": [
    "callbacks = [\n",
    "  tfmot.sparsity.keras.UpdatePruningStep(),\n",
    "    ReduceLROnPlateau(monitor='val_accuracy', mode='max', factor=np.sqrt(0.1), patience=10, verbose=1),\n",
    "    ModelCheckpoint(filepath=f'mlp.mnist_no_kfold_sparse.hdf5', verbose=1, save_best_only=True, monitor='val_accuracy', mode='auto'),\n",
    "   # tfmot.sparsity.keras.PruningSummaries(log_dir='logs'),\n",
    "]"
   ]
  },
  {
   "cell_type": "code",
   "execution_count": 85,
   "metadata": {},
   "outputs": [
    {
     "name": "stdout",
     "output_type": "stream",
     "text": [
      "\n",
      "Epoch 00001: val_accuracy improved from -inf to 0.85522, saving model to mlp.mnist_no_kfold_sparse.hdf5\n",
      "\n",
      "Epoch 00002: val_accuracy improved from 0.85522 to 0.87878, saving model to mlp.mnist_no_kfold_sparse.hdf5\n",
      "\n",
      "Epoch 00003: val_accuracy did not improve from 0.87878\n",
      "\n",
      "Epoch 00004: val_accuracy did not improve from 0.87878\n",
      "\n",
      "Epoch 00005: val_accuracy did not improve from 0.87878\n",
      "\n",
      "Epoch 00006: val_accuracy improved from 0.87878 to 0.88267, saving model to mlp.mnist_no_kfold_sparse.hdf5\n",
      "\n",
      "Epoch 00007: val_accuracy did not improve from 0.88267\n",
      "\n",
      "Epoch 00008: val_accuracy did not improve from 0.88267\n",
      "\n",
      "Epoch 00009: val_accuracy did not improve from 0.88267\n",
      "\n",
      "Epoch 00010: val_accuracy did not improve from 0.88267\n",
      "\n",
      "Epoch 00011: val_accuracy improved from 0.88267 to 0.88756, saving model to mlp.mnist_no_kfold_sparse.hdf5\n",
      "\n",
      "Epoch 00012: val_accuracy did not improve from 0.88756\n",
      "\n",
      "Epoch 00013: val_accuracy did not improve from 0.88756\n",
      "\n",
      "Epoch 00014: val_accuracy did not improve from 0.88756\n",
      "\n",
      "Epoch 00015: val_accuracy improved from 0.88756 to 0.88856, saving model to mlp.mnist_no_kfold_sparse.hdf5\n",
      "\n",
      "Epoch 00016: val_accuracy did not improve from 0.88856\n",
      "\n",
      "Epoch 00017: val_accuracy improved from 0.88856 to 0.89444, saving model to mlp.mnist_no_kfold_sparse.hdf5\n",
      "\n",
      "Epoch 00018: val_accuracy did not improve from 0.89444\n",
      "\n",
      "Epoch 00019: val_accuracy did not improve from 0.89444\n",
      "\n",
      "Epoch 00020: val_accuracy did not improve from 0.89444\n",
      "\n",
      "Epoch 00021: val_accuracy did not improve from 0.89444\n",
      "\n",
      "Epoch 00022: val_accuracy did not improve from 0.89444\n",
      "\n",
      "Epoch 00023: val_accuracy did not improve from 0.89444\n",
      "\n",
      "Epoch 00024: val_accuracy did not improve from 0.89444\n",
      "\n",
      "Epoch 00025: val_accuracy did not improve from 0.89444\n",
      "\n",
      "Epoch 00026: val_accuracy did not improve from 0.89444\n",
      "\n",
      "Epoch 00027: ReduceLROnPlateau reducing learning rate to 0.00031622778103685084.\n",
      "\n",
      "Epoch 00027: val_accuracy did not improve from 0.89444\n",
      "\n",
      "Epoch 00028: val_accuracy improved from 0.89444 to 0.90378, saving model to mlp.mnist_no_kfold_sparse.hdf5\n",
      "\n",
      "Epoch 00029: val_accuracy improved from 0.90378 to 0.90389, saving model to mlp.mnist_no_kfold_sparse.hdf5\n",
      "\n",
      "Epoch 00030: val_accuracy improved from 0.90389 to 0.90456, saving model to mlp.mnist_no_kfold_sparse.hdf5\n",
      "\n",
      "Epoch 00031: val_accuracy improved from 0.90456 to 0.90556, saving model to mlp.mnist_no_kfold_sparse.hdf5\n",
      "\n",
      "Epoch 00032: val_accuracy did not improve from 0.90556\n",
      "\n",
      "Epoch 00033: val_accuracy did not improve from 0.90556\n",
      "\n",
      "Epoch 00034: val_accuracy did not improve from 0.90556\n",
      "\n",
      "Epoch 00035: val_accuracy did not improve from 0.90556\n",
      "\n",
      "Epoch 00036: val_accuracy did not improve from 0.90556\n",
      "\n",
      "Epoch 00037: val_accuracy did not improve from 0.90556\n",
      "\n",
      "Epoch 00038: val_accuracy did not improve from 0.90556\n",
      "\n",
      "Epoch 00039: val_accuracy did not improve from 0.90556\n",
      "\n",
      "Epoch 00040: val_accuracy improved from 0.90556 to 0.90567, saving model to mlp.mnist_no_kfold_sparse.hdf5\n",
      "\n",
      "Epoch 00041: val_accuracy did not improve from 0.90567\n",
      "\n",
      "Epoch 00042: val_accuracy improved from 0.90567 to 0.90578, saving model to mlp.mnist_no_kfold_sparse.hdf5\n",
      "\n",
      "Epoch 00043: val_accuracy did not improve from 0.90578\n",
      "\n",
      "Epoch 00044: val_accuracy did not improve from 0.90578\n",
      "\n",
      "Epoch 00045: val_accuracy did not improve from 0.90578\n",
      "\n",
      "Epoch 00046: val_accuracy improved from 0.90578 to 0.90667, saving model to mlp.mnist_no_kfold_sparse.hdf5\n",
      "\n",
      "Epoch 00047: val_accuracy improved from 0.90667 to 0.90689, saving model to mlp.mnist_no_kfold_sparse.hdf5\n",
      "\n",
      "Epoch 00048: val_accuracy did not improve from 0.90689\n",
      "\n",
      "Epoch 00049: val_accuracy did not improve from 0.90689\n",
      "\n",
      "Epoch 00050: val_accuracy improved from 0.90689 to 0.90700, saving model to mlp.mnist_no_kfold_sparse.hdf5\n",
      "\n",
      "Epoch 00051: val_accuracy did not improve from 0.90700\n",
      "\n",
      "Epoch 00052: val_accuracy did not improve from 0.90700\n",
      "\n",
      "Epoch 00053: val_accuracy did not improve from 0.90700\n",
      "\n",
      "Epoch 00054: val_accuracy did not improve from 0.90700\n",
      "\n",
      "Epoch 00055: val_accuracy did not improve from 0.90700\n",
      "\n",
      "Epoch 00056: val_accuracy did not improve from 0.90700\n",
      "\n",
      "Epoch 00057: val_accuracy did not improve from 0.90700\n",
      "\n",
      "Epoch 00058: val_accuracy did not improve from 0.90700\n",
      "\n",
      "Epoch 00059: val_accuracy did not improve from 0.90700\n",
      "\n",
      "Epoch 00060: ReduceLROnPlateau reducing learning rate to 0.00010000000639606199.\n",
      "\n",
      "Epoch 00060: val_accuracy did not improve from 0.90700\n",
      "\n",
      "Epoch 00061: val_accuracy did not improve from 0.90700\n",
      "\n",
      "Epoch 00062: val_accuracy did not improve from 0.90700\n",
      "\n",
      "Epoch 00063: val_accuracy did not improve from 0.90700\n",
      "\n",
      "Epoch 00064: val_accuracy did not improve from 0.90700\n",
      "\n",
      "Epoch 00065: val_accuracy did not improve from 0.90700\n",
      "\n",
      "Epoch 00066: val_accuracy did not improve from 0.90700\n",
      "\n",
      "Epoch 00067: val_accuracy did not improve from 0.90700\n",
      "\n",
      "Epoch 00068: val_accuracy did not improve from 0.90700\n",
      "\n",
      "Epoch 00069: val_accuracy did not improve from 0.90700\n",
      "\n",
      "Epoch 00070: ReduceLROnPlateau reducing learning rate to 3.1622778103685084e-05.\n",
      "\n",
      "Epoch 00070: val_accuracy did not improve from 0.90700\n",
      "\n",
      "Epoch 00071: val_accuracy did not improve from 0.90700\n",
      "\n",
      "Epoch 00072: val_accuracy did not improve from 0.90700\n",
      "\n",
      "Epoch 00073: val_accuracy did not improve from 0.90700\n",
      "\n",
      "Epoch 00074: val_accuracy did not improve from 0.90700\n",
      "\n",
      "Epoch 00075: val_accuracy did not improve from 0.90700\n",
      "\n",
      "Epoch 00076: val_accuracy did not improve from 0.90700\n",
      "\n",
      "Epoch 00077: val_accuracy did not improve from 0.90700\n",
      "\n",
      "Epoch 00078: val_accuracy did not improve from 0.90700\n",
      "\n",
      "Epoch 00079: val_accuracy did not improve from 0.90700\n",
      "\n",
      "Epoch 00080: ReduceLROnPlateau reducing learning rate to 1.0000000409520217e-05.\n",
      "\n",
      "Epoch 00080: val_accuracy did not improve from 0.90700\n",
      "\n",
      "Epoch 00081: val_accuracy did not improve from 0.90700\n",
      "\n",
      "Epoch 00082: val_accuracy did not improve from 0.90700\n",
      "\n",
      "Epoch 00083: val_accuracy did not improve from 0.90700\n",
      "\n",
      "Epoch 00084: val_accuracy did not improve from 0.90700\n",
      "\n",
      "Epoch 00085: val_accuracy did not improve from 0.90700\n",
      "\n",
      "Epoch 00086: val_accuracy did not improve from 0.90700\n",
      "\n",
      "Epoch 00087: val_accuracy did not improve from 0.90700\n",
      "\n",
      "Epoch 00088: val_accuracy did not improve from 0.90700\n",
      "\n",
      "Epoch 00089: val_accuracy did not improve from 0.90700\n",
      "\n",
      "Epoch 00090: ReduceLROnPlateau reducing learning rate to 3.1622778678900043e-06.\n",
      "\n",
      "Epoch 00090: val_accuracy did not improve from 0.90700\n",
      "\n",
      "Epoch 00091: val_accuracy did not improve from 0.90700\n",
      "\n",
      "Epoch 00092: val_accuracy did not improve from 0.90700\n",
      "\n",
      "Epoch 00093: val_accuracy did not improve from 0.90700\n",
      "\n",
      "Epoch 00094: val_accuracy did not improve from 0.90700\n",
      "\n",
      "Epoch 00095: val_accuracy did not improve from 0.90700\n",
      "\n",
      "Epoch 00096: val_accuracy did not improve from 0.90700\n"
     ]
    }
   ],
   "source": [
    "history = pruned_model.fit(X_train, \n",
    "               y_train,\n",
    "               epochs=96, batch_size=batch_size, \n",
    "              validation_data = (X_val, y_val),\n",
    "               verbose=0, \n",
    "                    shuffle = True,\n",
    "                           callbacks=callbacks\n",
    "              )"
   ]
  },
  {
   "cell_type": "code",
   "execution_count": 86,
   "metadata": {},
   "outputs": [
    {
     "data": {
      "text/plain": [
       "[0.6913381814956665, 0.9054999947547913]"
      ]
     },
     "execution_count": 86,
     "metadata": {},
     "output_type": "execute_result"
    }
   ],
   "source": [
    "pruned_model_trained.evaluate(X_test, y_test, verbose=0)"
   ]
  },
  {
   "cell_type": "code",
   "execution_count": 265,
   "metadata": {},
   "outputs": [
    {
     "data": {
      "text/plain": [
       "1.0"
      ]
     },
     "execution_count": 265,
     "metadata": {},
     "output_type": "execute_result"
    }
   ],
   "source": [
    "(pruned_model.layers[1].pruning_vars[0][1].numpy() == pruned_model_trained.layers[1].pruning_vars[0][1].numpy()).sum()/np.product(model.layers[1].get_weights()[0].shape)"
   ]
  },
  {
   "cell_type": "code",
   "execution_count": 266,
   "metadata": {},
   "outputs": [
    {
     "data": {
      "text/plain": [
       "[0.5937738418579102, 0.9045555591583252]"
      ]
     },
     "execution_count": 266,
     "metadata": {},
     "output_type": "execute_result"
    }
   ],
   "source": [
    "pruned_model.load_weights('mlp.mnist_no_kfold_sparse.hdf5')\n",
    "pruned_model.evaluate(X_test, y_cat_test, verbose=0)"
   ]
  },
  {
   "cell_type": "code",
   "execution_count": 267,
   "metadata": {},
   "outputs": [
    {
     "data": {
      "text/plain": [
       "[0.6598390340805054, 0.8964999914169312]"
      ]
     },
     "execution_count": 267,
     "metadata": {},
     "output_type": "execute_result"
    }
   ],
   "source": [
    "pruned_model.evaluate(x_test_ok, y_test_ok_cat, verbose=0)"
   ]
  },
  {
   "cell_type": "code",
   "execution_count": 230,
   "metadata": {},
   "outputs": [],
   "source": [
    "h1 = pruned_model.get_layer('prune_low_magnitude_hidden_1')\n",
    "h2 = pruned_model.get_layer('prune_low_magnitude_hidden_2')"
   ]
  },
  {
   "cell_type": "code",
   "execution_count": 231,
   "metadata": {},
   "outputs": [
    {
     "data": {
      "text/plain": [
       "0.5"
      ]
     },
     "execution_count": 231,
     "metadata": {},
     "output_type": "execute_result"
    }
   ],
   "source": [
    "(np.abs(h1.get_weights()[0].reshape(-1))>0).sum()/len(h1.get_weights()[0].reshape(-1))"
   ]
  },
  {
   "cell_type": "code",
   "execution_count": 232,
   "metadata": {},
   "outputs": [
    {
     "data": {
      "text/plain": [
       "0.5"
      ]
     },
     "execution_count": 232,
     "metadata": {},
     "output_type": "execute_result"
    }
   ],
   "source": [
    "(np.abs(h2.get_weights()[0].reshape(-1))>0).sum()/len(h2.get_weights()[0].reshape(-1))"
   ]
  },
  {
   "cell_type": "code",
   "execution_count": 233,
   "metadata": {},
   "outputs": [],
   "source": [
    "model.layers[1].set_weights(h1.get_weights())\n",
    "model.layers[4].set_weights(h2.get_weights())"
   ]
  },
  {
   "cell_type": "code",
   "execution_count": 234,
   "metadata": {},
   "outputs": [
    {
     "data": {
      "text/plain": [
       "[0.6078376770019531, 0.9085555672645569]"
      ]
     },
     "execution_count": 234,
     "metadata": {},
     "output_type": "execute_result"
    }
   ],
   "source": [
    "model.evaluate(X_test, y_cat_test, verbose=0)"
   ]
  },
  {
   "cell_type": "code",
   "execution_count": 222,
   "metadata": {},
   "outputs": [
    {
     "data": {
      "text/plain": [
       "0.75"
      ]
     },
     "execution_count": 222,
     "metadata": {},
     "output_type": "execute_result"
    }
   ],
   "source": [
    "(model.layers[1].get_weights()[0] == 0).sum()/ len(model.layers[1].get_weights()[0].reshape(-1))"
   ]
  },
  {
   "cell_type": "code",
   "execution_count": null,
   "metadata": {},
   "outputs": [],
   "source": [
    "preds_val = np.zeros_like(y_cat)"
   ]
  },
  {
   "cell_type": "code",
   "execution_count": null,
   "metadata": {},
   "outputs": [],
   "source": [
    "if n_splits > 1:\n",
    "    test_preds = 0\n",
    "    skf = StratifiedKFold(n_splits=n_splits, shuffle=True, random_state=random_seed)\n",
    "    for i, (train_index, test_index) in enumerate(skf.split(x, y)):\n",
    "        model.load_weights(f'mlp.mnist_{i}.hdf5') \n",
    "        loss, acc = model.evaluate(x[test_index], y_cat[test_index])\n",
    "        preds_val[test_index] = model.predict(x[test_index])\n",
    "        test_preds = test_preds + model.predict(x_test)\n",
    "        print(acc)\n",
    "else:\n",
    "    test_preds = model.predict(x_test)"
   ]
  },
  {
   "cell_type": "code",
   "execution_count": null,
   "metadata": {},
   "outputs": [],
   "source": [
    "# Valid Acc\n",
    "(np.argmax(preds_val, axis=1) == y).sum()/len(y)"
   ]
  },
  {
   "cell_type": "code",
   "execution_count": null,
   "metadata": {
    "_uuid": "d4293984b6b8a729891c4e92ba5b9b6ee6a04755"
   },
   "outputs": [],
   "source": [
    "test_labels = np.argmax(test_preds, axis = 1)"
   ]
  },
  {
   "cell_type": "code",
   "execution_count": null,
   "metadata": {
    "_uuid": "82d50fa5920b9ffa32fe6a2256a3c9d0d889ebd4"
   },
   "outputs": [],
   "source": [
    "import pandas\n",
    "df = pandas.DataFrame(data={\"Category\": test_labels}).astype(int)\n",
    "df.to_csv(\"./submission.csv\", sep=',',index=True,  index_label='Id')"
   ]
  },
  {
   "cell_type": "code",
   "execution_count": null,
   "metadata": {
    "_uuid": "6a64c62e4985ff01c483d5e3716f1cf29eeafde8"
   },
   "outputs": [],
   "source": [
    "df.head()"
   ]
  }
 ],
 "metadata": {
  "kernelspec": {
   "display_name": "Python 3",
   "language": "python",
   "name": "python3"
  },
  "language_info": {
   "codemirror_mode": {
    "name": "ipython",
    "version": 3
   },
   "file_extension": ".py",
   "mimetype": "text/x-python",
   "name": "python",
   "nbconvert_exporter": "python",
   "pygments_lexer": "ipython3",
   "version": "3.6.10"
  }
 },
 "nbformat": 4,
 "nbformat_minor": 4
}
