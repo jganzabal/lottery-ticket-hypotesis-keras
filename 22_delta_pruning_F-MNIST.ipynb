{
 "cells": [
  {
   "cell_type": "code",
   "execution_count": 1,
   "metadata": {},
   "outputs": [],
   "source": [
    "%load_ext autoreload\n",
    "%autoreload 2"
   ]
  },
  {
   "cell_type": "code",
   "execution_count": 2,
   "metadata": {},
   "outputs": [],
   "source": [
    "from sklearn.model_selection import train_test_split\n",
    "from matplotlib import pyplot as plt\n",
    "import numpy as np\n",
    "from matplotlib import cm\n",
    "from matplotlib import pyplot as plt\n",
    "from tensorflow.keras.datasets import fashion_mnist, mnist"
   ]
  },
  {
   "cell_type": "code",
   "execution_count": 3,
   "metadata": {},
   "outputs": [],
   "source": [
    "my_dataset = fashion_mnist\n",
    "(train_images, train_labels), (test_images, test_labels) = my_dataset.load_data()\n",
    "X = train_images.reshape(-1, 784)/255\n",
    "y = train_labels.reshape(-1, 1)\n",
    "X_test = test_images.reshape(-1, 784)/255\n",
    "y_test = test_labels.reshape(-1, 1)\n",
    "X_train, X_val, y_train, y_val = train_test_split(X, y, test_size=0.15, random_state=42)"
   ]
  },
  {
   "cell_type": "code",
   "execution_count": 4,
   "metadata": {},
   "outputs": [],
   "source": [
    "from tensorflow.keras import optimizers\n",
    "from tensorflow.keras.layers import Input, Dense\n",
    "from tensorflow.keras.models import Model\n",
    "from tensorflow.keras import initializers\n",
    "from tensorflow.keras.callbacks import ModelCheckpoint"
   ]
  },
  {
   "cell_type": "code",
   "execution_count": 5,
   "metadata": {},
   "outputs": [
    {
     "name": "stdout",
     "output_type": "stream",
     "text": [
      "Model: \"model\"\n",
      "_________________________________________________________________\n",
      "Layer (type)                 Output Shape              Param #   \n",
      "=================================================================\n",
      "input_1 (InputLayer)         [(None, 784)]             0         \n",
      "_________________________________________________________________\n",
      "hidden_1 (Dense)             (None, 784)               615440    \n",
      "_________________________________________________________________\n",
      "hidden_2 (Dense)             (None, 784)               615440    \n",
      "_________________________________________________________________\n",
      "Salida (Dense)               (None, 10)                7850      \n",
      "=================================================================\n",
      "Total params: 1,238,730\n",
      "Trainable params: 1,238,730\n",
      "Non-trainable params: 0\n",
      "_________________________________________________________________\n"
     ]
    }
   ],
   "source": [
    "def compile_model(model, lr=0.001):\n",
    "    optim = optimizers.Adam(lr=lr)\n",
    "    model.compile(loss = 'sparse_categorical_crossentropy', optimizer=optim, metrics=['accuracy'])\n",
    "    \n",
    "def get_model(initial_weights=None, input_dim=X.shape[1], compile_model_flag=True, lr=0.001, activation='tanh', kernel_initializer=initializers.glorot_uniform(), \n",
    "              reduce = 1,  output_size = len(np.unique(y))):\n",
    "    # Creo el modelo\n",
    "    inp = Input(shape=(input_dim,))\n",
    "    #bias_initializer = initializers.RandomUniform(-0.1, 0.1)\n",
    "    bias_initializer = initializers.glorot_uniform()\n",
    "    #bias_initializer = initializers.zeros()\n",
    "    first_layer_out = Dense(784//reduce, activation=activation, name='hidden_1', kernel_initializer=kernel_initializer, bias_initializer=bias_initializer, input_shape=(input_dim,))(inp)\n",
    "    second_layer_out = Dense(784//reduce, activation=activation, name='hidden_2', kernel_initializer=kernel_initializer, bias_initializer=bias_initializer)(first_layer_out)\n",
    "    output = Dense(output_size, name='Salida', kernel_initializer=kernel_initializer, bias_initializer=bias_initializer, activation='softmax')(second_layer_out)\n",
    "    model = Model(inp, output)\n",
    "    model_multiple_out = Model(inp, [first_layer_out, second_layer_out, output])\n",
    "    if compile_model_flag:\n",
    "        compile_model(model, lr=lr)\n",
    "    if initial_weights is not None:\n",
    "        model.save_weights(initial_weights)\n",
    "    return model, model_multiple_out\n",
    "\n",
    "\n",
    "model, model_multiple_out = get_model()\n",
    "model.summary()"
   ]
  },
  {
   "cell_type": "code",
   "execution_count": 6,
   "metadata": {},
   "outputs": [
    {
     "name": "stdout",
     "output_type": "stream",
     "text": [
      "Epoch 1/5\n",
      "1594/1594 [==============================] - 2s 1ms/step - loss: 0.5209 - accuracy: 0.8138 - val_loss: 0.4755 - val_accuracy: 0.8185\n",
      "Epoch 2/5\n",
      "1594/1594 [==============================] - 2s 1ms/step - loss: 0.4091 - accuracy: 0.8515 - val_loss: 0.4186 - val_accuracy: 0.8469\n",
      "Epoch 3/5\n",
      "1594/1594 [==============================] - 2s 1ms/step - loss: 0.3736 - accuracy: 0.8633 - val_loss: 0.4590 - val_accuracy: 0.8420\n",
      "Epoch 4/5\n",
      "1594/1594 [==============================] - 2s 1ms/step - loss: 0.3521 - accuracy: 0.8710 - val_loss: 0.4097 - val_accuracy: 0.8515\n",
      "Epoch 5/5\n",
      "1594/1594 [==============================] - 2s 1ms/step - loss: 0.3422 - accuracy: 0.8750 - val_loss: 0.4070 - val_accuracy: 0.8508\n"
     ]
    }
   ],
   "source": [
    "initial_weights = 'mlp.fminist.initial.hdf5'\n",
    "best_weights = 'mlp.fminist.best.hdf5'\n",
    "model, model_multiple_out = get_model()\n",
    "model.save_weights(initial_weights)\n",
    "epochs = 5\n",
    "model.fit(X_train, y_train, validation_data=(X_test, y_test), epochs=epochs, callbacks=[\n",
    "    ModelCheckpoint(filepath=best_weights,  verbose=0, save_best_only=True, monitor='val_loss', mode='auto')\n",
    "])\n",
    "model.load_weights(best_weights)"
   ]
  },
  {
   "cell_type": "code",
   "execution_count": 7,
   "metadata": {},
   "outputs": [
    {
     "name": "stdout",
     "output_type": "stream",
     "text": [
      "313/313 [==============================] - 0s 741us/step - loss: 0.4070 - accuracy: 0.8508\n"
     ]
    },
    {
     "data": {
      "text/plain": [
       "[0.4069996476173401, 0.8507999777793884]"
      ]
     },
     "execution_count": 7,
     "metadata": {},
     "output_type": "execute_result"
    }
   ],
   "source": [
    "model.evaluate(X_test, y_test)"
   ]
  },
  {
   "cell_type": "code",
   "execution_count": 8,
   "metadata": {},
   "outputs": [],
   "source": [
    "from LTH_helper import prune_and_initilize, plot_MC_boundaries_keras, prune_delta_weights, get_model_sparcity"
   ]
  },
  {
   "cell_type": "code",
   "execution_count": 9,
   "metadata": {},
   "outputs": [
    {
     "name": "stdout",
     "output_type": "stream",
     "text": [
      "WARNING:tensorflow:From /home/usuario/anaconda3/envs/tensorflow2/lib/python3.6/site-packages/tensorflow_model_optimization/python/core/sparsity/keras/pruning_wrapper.py:199: Layer.add_variable (from tensorflow.python.keras.engine.base_layer) is deprecated and will be removed in a future version.\n",
      "Instructions for updating:\n",
      "Please use `layer.add_weight` method instead.\n",
      "0 0.0001 0.10000000149011612\n",
      "1 0.020504081632653062 0.10000000149011612\n",
      "2 0.04090816326530613 0.10000000149011612\n",
      "3 0.061312244897959195 0.10010000318288803\n",
      "4 0.08171632653061225 0.13449999690055847\n",
      "5 0.10212040816326531 0.20569999516010284\n",
      "6 0.12252448979591839 0.23070000112056732\n",
      "7 0.14292857142857143 0.26840001344680786\n",
      "8 0.1633326530612245 0.3465000092983246\n",
      "9 0.18373673469387755 0.34540000557899475\n",
      "10 0.2041408163265306 0.30730000138282776\n",
      "11 0.22454489795918367 0.3325999975204468\n",
      "12 0.24494897959183676 0.37560001015663147\n",
      "13 0.2653530612244898 0.3917999863624573\n",
      "14 0.2857571428571429 0.4343999922275543\n",
      "15 0.30616122448979594 0.5083000063896179\n",
      "16 0.326565306122449 0.5080999732017517\n",
      "17 0.34696938775510205 0.5741999745368958\n",
      "18 0.3673734693877551 0.5598999857902527\n",
      "19 0.3877775510204082 0.6151999831199646\n",
      "20 0.40818163265306123 0.6474999785423279\n",
      "21 0.4285857142857143 0.6615999937057495\n",
      "22 0.44898979591836735 0.6575999855995178\n",
      "23 0.4693938775510204 0.6700000166893005\n",
      "24 0.4897979591836735 0.6468999981880188\n",
      "25 0.5102020408163266 0.6579999923706055\n",
      "26 0.5306061224489796 0.6621999740600586\n",
      "27 0.5510102040816327 0.6726999878883362\n",
      "28 0.5714142857142858 0.6952000260353088\n",
      "29 0.5918183673469388 0.6988999843597412\n",
      "30 0.6122224489795919 0.6930999755859375\n",
      "31 0.6326265306122449 0.696399986743927\n",
      "32 0.653030612244898 0.6916000247001648\n",
      "33 0.6734346938775511 0.6873000264167786\n",
      "34 0.6938387755102041 0.6632000207901001\n",
      "35 0.7142428571428572 0.6736000180244446\n",
      "36 0.7346469387755102 0.6773999929428101\n",
      "37 0.7550510204081633 0.6779000163078308\n",
      "38 0.7754551020408164 0.6736999750137329\n",
      "39 0.7958591836734694 0.6360999941825867\n",
      "40 0.8162632653061225 0.6212999820709229\n",
      "41 0.8366673469387755 0.5938000082969666\n",
      "42 0.8570714285714286 0.6029999852180481\n",
      "43 0.8774755102040817 0.5636000037193298\n",
      "44 0.8978795918367347 0.5157999992370605\n",
      "45 0.9182836734693878 0.44519999623298645\n",
      "46 0.9386877551020408 0.3662000000476837\n",
      "47 0.9590918367346939 0.2750000059604645\n",
      "48 0.9794959183673471 0.1907999962568283\n",
      "49 0.9999 0.10130000114440918\n"
     ]
    }
   ],
   "source": [
    "pms = np.linspace(0.0001, 0.9999, 50)\n",
    "accs = []\n",
    "model.load_weights(best_weights)\n",
    "for i, pm in enumerate(pms):\n",
    "    pruned_model = prune_and_initilize(model, pm, initial_weights)\n",
    "    acc = pruned_model.evaluate(X_test, y_test, verbose=0)[1]\n",
    "    accs.append(acc)\n",
    "    print(i, pm, acc)"
   ]
  },
  {
   "cell_type": "code",
   "execution_count": 10,
   "metadata": {},
   "outputs": [
    {
     "data": {
      "text/plain": [
       "[<matplotlib.lines.Line2D at 0x7f8bcd1a1860>]"
      ]
     },
     "execution_count": 10,
     "metadata": {},
     "output_type": "execute_result"
    },
    {
     "data": {
      "image/png": "[encoded data removed]",
      "text/plain": [
       "<Figure size 432x288 with 1 Axes>"
      ]
     },
     "metadata": {
      "needs_background": "light"
     },
     "output_type": "display_data"
    }
   ],
   "source": [
    "plt.plot(pms, accs)"
   ]
  },
  {
   "cell_type": "code",
   "execution_count": 11,
   "metadata": {},
   "outputs": [
    {
     "data": {
      "text/plain": [
       "0.10109999775886536"
      ]
     },
     "execution_count": 11,
     "metadata": {},
     "output_type": "execute_result"
    }
   ],
   "source": [
    "model.load_weights(initial_weights)\n",
    "model.evaluate(X_test, y_test, verbose=0)[1]"
   ]
  },
  {
   "cell_type": "code",
   "execution_count": 12,
   "metadata": {},
   "outputs": [
    {
     "name": "stdout",
     "output_type": "stream",
     "text": [
      "0.5918183673469388 0.6988999843597412\n",
      "313/313 [==============================] - 0s 820us/step - loss: 1.1522 - accuracy: 0.6989\n",
      "0.6988999843597412\n"
     ]
    }
   ],
   "source": [
    "best = np.argmax(accs)\n",
    "print(pms[best], accs[best])\n",
    "model.load_weights(best_weights)\n",
    "pruned_model = prune_and_initilize(model, pms[best], initial_weights)\n",
    "acc = pruned_model.evaluate(X_test, y_test)[1]\n",
    "print(acc)"
   ]
  },
  {
   "cell_type": "code",
   "execution_count": 14,
   "metadata": {},
   "outputs": [
    {
     "name": "stdout",
     "output_type": "stream",
     "text": [
      "313/313 [==============================] - 0s 825us/step - loss: 1.7584 - accuracy: 0.3117\n",
      "0.3116999864578247\n"
     ]
    }
   ],
   "source": [
    "pruned_model = prune_and_initilize(model, 0.2, initial_weights)\n",
    "acc = pruned_model.evaluate(X_test, y_test)[1]\n",
    "print(acc)"
   ]
  },
  {
   "cell_type": "code",
   "execution_count": 15,
   "metadata": {},
   "outputs": [
    {
     "name": "stdout",
     "output_type": "stream",
     "text": [
      "313/313 [==============================] - 0s 803us/step - loss: 1.4652 - accuracy: 0.6247\n",
      "0.6247000098228455\n"
     ]
    }
   ],
   "source": [
    "pruned_model = prune_and_initilize(model, 0.8, initial_weights)\n",
    "acc = pruned_model.evaluate(X_test, y_test)[1]\n",
    "print(acc)"
   ]
  },
  {
   "cell_type": "markdown",
   "metadata": {},
   "source": [
    "# Delta weights"
   ]
  },
  {
   "cell_type": "code",
   "execution_count": 57,
   "metadata": {},
   "outputs": [
    {
     "name": "stdout",
     "output_type": "stream",
     "text": [
      "1594/1594 [==============================] - 1s 937us/step - loss: 1.1189 - accuracy: 0.6596\n"
     ]
    }
   ],
   "source": [
    "model, _ = get_model()\n",
    "model.compile(loss = 'sparse_categorical_crossentropy', optimizer=optimizers.SGD(lr=0.001), metrics=['accuracy'])\n",
    "model_delta_untrained, model_delta_trained, model_untrained = prune_delta_weights(model, X_train, y_train, epochs=1)\n",
    "\n",
    "model_delta_untrained.compile(loss = 'sparse_categorical_crossentropy', optimizer=optimizers.SGD(lr=0.5), metrics=['accuracy'])\n",
    "model_untrained.compile(loss = 'sparse_categorical_crossentropy', optimizer=optimizers.SGD(lr=0.5), metrics=['accuracy'])\n",
    "model_delta_trained.compile(loss = 'sparse_categorical_crossentropy', optimizer=optimizers.SGD(lr=0.5), metrics=['accuracy'])"
   ]
  },
  {
   "cell_type": "code",
   "execution_count": 58,
   "metadata": {},
   "outputs": [
    {
     "name": "stdout",
     "output_type": "stream",
     "text": [
      "Trained model\n",
      "313/313 [==============================] - 0s 785us/step - loss: 0.8067 - accuracy: 0.7354\n",
      "Delta untrained model\n",
      "313/313 [==============================] - 0s 782us/step - loss: 1.2969 - accuracy: 0.5727\n",
      "Delta trained model\n",
      "313/313 [==============================] - 0s 805us/step - loss: 1.4514 - accuracy: 0.5580\n",
      "untrained model\n",
      "313/313 [==============================] - 0s 803us/step - loss: 2.4537 - accuracy: 0.0780\n"
     ]
    },
    {
     "data": {
      "text/plain": [
       "[2.4537034034729004, 0.07800000160932541]"
      ]
     },
     "execution_count": 58,
     "metadata": {},
     "output_type": "execute_result"
    }
   ],
   "source": [
    "print(\"Trained model\")\n",
    "model.evaluate(X_test, y_test)\n",
    "print(\"Delta untrained model\")\n",
    "model_delta_untrained.evaluate(X_test, y_test)\n",
    "print(\"Delta trained model\")\n",
    "model_delta_trained.evaluate(X_test, y_test)\n",
    "print(\"untrained model\")\n",
    "model_untrained.evaluate(X_test, y_test)"
   ]
  },
  {
   "cell_type": "code",
   "execution_count": 44,
   "metadata": {},
   "outputs": [
    {
     "name": "stdout",
     "output_type": "stream",
     "text": [
      "input_69: \n",
      "\n",
      "hidden_1: \n",
      "0.48884416649312784 614656\n",
      "0.3826530612244898 784\n",
      "\n",
      "hidden_2: \n",
      "0.4842139342982091 614656\n",
      "0.42857142857142855 784\n",
      "\n",
      "Salida: \n",
      "0.34030612244897956 7840\n",
      "0.7 10\n",
      "\n",
      "Network sparcity:\n",
      "0.4855028940931438\n"
     ]
    }
   ],
   "source": [
    "get_model_sparcity(model_delta_untrained)"
   ]
  },
  {
   "cell_type": "code",
   "execution_count": 45,
   "metadata": {},
   "outputs": [],
   "source": [
    "model_untrained.save_weights('untrained.hdf5')\n",
    "pruned_model_50 = prune_and_initilize(model, 1 - 0.4923, 'untrained.hdf5')"
   ]
  },
  {
   "cell_type": "code",
   "execution_count": 46,
   "metadata": {},
   "outputs": [
    {
     "name": "stdout",
     "output_type": "stream",
     "text": [
      "313/313 [==============================] - 0s 818us/step - loss: 1.0629 - accuracy: 0.7746\n"
     ]
    },
    {
     "data": {
      "text/plain": [
       "[1.062920093536377, 0.7746000289916992]"
      ]
     },
     "execution_count": 46,
     "metadata": {},
     "output_type": "execute_result"
    }
   ],
   "source": [
    "pruned_model_50.evaluate(X_test, y_test)"
   ]
  },
  {
   "cell_type": "code",
   "execution_count": 91,
   "metadata": {},
   "outputs": [
    {
     "name": "stdout",
     "output_type": "stream",
     "text": [
      "prune_low_magnitude_hidden_1: \n",
      "0.5197704081632653 1568\n",
      "0.0 784\n",
      "\n",
      "prune_low_magnitude_hidden_2: \n",
      "0.5199981778425656 614656\n",
      "0.0 784\n",
      "\n",
      "prune_low_magnitude_Salida: \n",
      "0.5199829931972789 7056\n",
      "0.0 9\n",
      "\n",
      "Network sparcity:\n",
      "0.5186850751451932\n"
     ]
    }
   ],
   "source": [
    "get_model_sparcity(pruned_model_48)"
   ]
  },
  {
   "cell_type": "code",
   "execution_count": 82,
   "metadata": {},
   "outputs": [
    {
     "name": "stdout",
     "output_type": "stream",
     "text": [
      "input_77: \n",
      "\n",
      "hidden_1: \n",
      "0.26658163265306123 1568\n",
      "0.41836734693877553 784\n",
      "\n",
      "hidden_2: \n",
      "0.48743199448146607 614656\n",
      "0.41964285714285715 784\n",
      "\n",
      "Salida: \n",
      "0.3901643990929705 7056\n",
      "0.5555555555555556 9\n",
      "\n",
      "Network sparcity:\n",
      "0.4856087072722239\n"
     ]
    }
   ],
   "source": [
    "get_model_sparcity(model_delta_untrained)"
   ]
  },
  {
   "cell_type": "code",
   "execution_count": 83,
   "metadata": {},
   "outputs": [
    {
     "name": "stdout",
     "output_type": "stream",
     "text": [
      "input_77: \n",
      "\n",
      "hidden_1: \n",
      "0.26658163265306123 1568\n",
      "0.41836734693877553 784\n",
      "\n",
      "hidden_2: \n",
      "0.48743199448146607 614656\n",
      "0.41964285714285715 784\n",
      "\n",
      "Salida: \n",
      "0.3901643990929705 7056\n",
      "0.5555555555555556 9\n",
      "\n",
      "Network sparcity:\n",
      "0.4856087072722239\n"
     ]
    }
   ],
   "source": [
    "get_model_sparcity(model_delta_trained)"
   ]
  },
  {
   "cell_type": "code",
   "execution_count": null,
   "metadata": {},
   "outputs": [],
   "source": []
  }
 ],
 "metadata": {
  "kernelspec": {
   "display_name": "Python [conda env:tensorflow2] *",
   "language": "python",
   "name": "conda-env-tensorflow2-py"
  },
  "language_info": {
   "codemirror_mode": {
    "name": "ipython",
    "version": 3
   },
   "file_extension": ".py",
   "mimetype": "text/x-python",
   "name": "python",
   "nbconvert_exporter": "python",
   "pygments_lexer": "ipython3",
   "version": "3.6.10"
  }
 },
 "nbformat": 4,
 "nbformat_minor": 4
}
