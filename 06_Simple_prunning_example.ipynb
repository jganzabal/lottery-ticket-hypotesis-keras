{
 "cells": [
  {
   "cell_type": "code",
   "execution_count": 1,
   "metadata": {},
   "outputs": [],
   "source": [
    "from tensorflow_model_optimization.sparsity.keras import prune_low_magnitude\n",
    "from tensorflow_model_optimization.sparsity.keras import ConstantSparsity, PolynomialDecay\n",
    "from tensorflow_model_optimization.sparsity.keras import UpdatePruningStep\n",
    "\n",
    "from tensorflow.keras.models import Sequential\n",
    "from tensorflow.keras.layers import Dense, Activation\n",
    "from tensorflow.keras import optimizers\n",
    "from tensorflow.keras.callbacks import ReduceLROnPlateau, ModelCheckpoint\n",
    "import numpy as np\n",
    "import pandas as pd\n",
    "from sklearn.model_selection import train_test_split\n",
    "from LTH_helper import LTH\n",
    "import tensorflow as tf\n",
    "from matplotlib import pyplot as plt\n",
    "from tensorflow.keras import initializers"
   ]
  },
  {
   "cell_type": "code",
   "execution_count": 23,
   "metadata": {},
   "outputs": [],
   "source": [
    "def compile_model(model, lr=0.001):\n",
    "    optim = optimizers.Adam(lr=lr)\n",
    "    model.compile(loss = 'sparse_categorical_crossentropy', optimizer=optim, metrics=['accuracy'])\n",
    "    \n",
    "def get_callbacks(filename):\n",
    "    return [\n",
    "        ReduceLROnPlateau(monitor='val_accuracy', mode='max', factor=np.sqrt(0.1), patience=10, verbose=1, min_lr=1e-4),\n",
    "        ModelCheckpoint(filepath=filename,  verbose=1, save_best_only=True, monitor='val_accuracy', mode='max')\n",
    "    ]\n",
    "\n",
    "def get_prunned_callbacks(filename):\n",
    "    return get_callbacks(filename) + [UpdatePruningStep()]"
   ]
  },
  {
   "cell_type": "code",
   "execution_count": 74,
   "metadata": {},
   "outputs": [],
   "source": [
    "sprasity_sched = ConstantSparsity(\n",
    "            0.99, \n",
    "            10*(len(X_train)//batch_size), # desde que step arranca a calcular la mascara\n",
    "            end_step=-1, # Hasta cuando recalcula la mascara\n",
    "            frequency=(len(X_train)//batch_size) # Cada cuantos steps recalcula la mascara\n",
    "        )\n",
    "\n",
    "model = Sequential()\n",
    "model.add(prune_low_magnitude(Dense(784*2, activation='relu', name='hidden_1', input_dim=784), sprasity_sched))\n",
    "model.add(prune_low_magnitude(Dense(784, activation='relu', name='hidden_2'), sprasity_sched))\n",
    "model.add(prune_low_magnitude(Dense(10, activation='softmax', name='Salida'), sprasity_sched))"
   ]
  },
  {
   "cell_type": "code",
   "execution_count": 75,
   "metadata": {},
   "outputs": [],
   "source": [
    "(train_images, train_labels), (test_images, test_labels) = fashion_mnist.load_data()\n",
    "X = train_images.reshape(-1, 784)/255\n",
    "y = train_labels.reshape(-1, 1)\n",
    "X_test = test_images.reshape(-1, 784)/255\n",
    "y_test = test_labels.reshape(-1, 1)\n",
    "X_train, X_val, y_train, y_val = train_test_split(X, y, test_size=0.15, random_state=42)"
   ]
  },
  {
   "cell_type": "code",
   "execution_count": 76,
   "metadata": {},
   "outputs": [
    {
     "name": "stdout",
     "output_type": "stream",
     "text": [
      "Epoch 1/20\n",
      "\n",
      "Epoch 00001: val_accuracy improved from -inf to 0.85489, saving model to mlp.mnist.sparse_train_testing.hdf5\n",
      "200/200 - 1s - loss: 0.5055 - accuracy: 0.8184 - val_loss: 0.3935 - val_accuracy: 0.8549 - lr: 0.0010\n",
      "Epoch 2/20\n",
      "\n",
      "Epoch 00002: val_accuracy improved from 0.85489 to 0.86744, saving model to mlp.mnist.sparse_train_testing.hdf5\n",
      "200/200 - 1s - loss: 0.3551 - accuracy: 0.8710 - val_loss: 0.3709 - val_accuracy: 0.8674 - lr: 0.0010\n",
      "Epoch 3/20\n",
      "\n",
      "Epoch 00003: val_accuracy did not improve from 0.86744\n",
      "200/200 - 1s - loss: 0.3159 - accuracy: 0.8833 - val_loss: 0.3653 - val_accuracy: 0.8636 - lr: 0.0010\n",
      "Epoch 4/20\n",
      "\n",
      "Epoch 00004: val_accuracy improved from 0.86744 to 0.87933, saving model to mlp.mnist.sparse_train_testing.hdf5\n",
      "200/200 - 1s - loss: 0.2938 - accuracy: 0.8903 - val_loss: 0.3374 - val_accuracy: 0.8793 - lr: 0.0010\n",
      "Epoch 5/20\n",
      "\n",
      "Epoch 00005: val_accuracy improved from 0.87933 to 0.88289, saving model to mlp.mnist.sparse_train_testing.hdf5\n",
      "200/200 - 1s - loss: 0.2735 - accuracy: 0.8978 - val_loss: 0.3200 - val_accuracy: 0.8829 - lr: 0.0010\n",
      "Epoch 6/20\n",
      "\n",
      "Epoch 00006: val_accuracy did not improve from 0.88289\n",
      "200/200 - 1s - loss: 0.2590 - accuracy: 0.9035 - val_loss: 0.3456 - val_accuracy: 0.8786 - lr: 0.0010\n",
      "Epoch 7/20\n",
      "\n",
      "Epoch 00007: val_accuracy improved from 0.88289 to 0.89089, saving model to mlp.mnist.sparse_train_testing.hdf5\n",
      "200/200 - 1s - loss: 0.2448 - accuracy: 0.9073 - val_loss: 0.3050 - val_accuracy: 0.8909 - lr: 0.0010\n",
      "Epoch 8/20\n",
      "\n",
      "Epoch 00008: val_accuracy did not improve from 0.89089\n",
      "200/200 - 1s - loss: 0.2328 - accuracy: 0.9129 - val_loss: 0.3116 - val_accuracy: 0.8888 - lr: 0.0010\n",
      "Epoch 9/20\n",
      "\n",
      "Epoch 00009: val_accuracy did not improve from 0.89089\n",
      "200/200 - 1s - loss: 0.2196 - accuracy: 0.9162 - val_loss: 0.3117 - val_accuracy: 0.8896 - lr: 0.0010\n",
      "Epoch 10/20\n",
      "\n",
      "Epoch 00010: val_accuracy did not improve from 0.89089\n",
      "200/200 - 1s - loss: 0.3075 - accuracy: 0.8805 - val_loss: 2.1897 - val_accuracy: 0.1051 - lr: 0.0010\n",
      "Epoch 11/20\n",
      "\n",
      "Epoch 00011: val_accuracy did not improve from 0.89089\n",
      "200/200 - 1s - loss: 1.2220 - accuracy: 0.5927 - val_loss: 0.7947 - val_accuracy: 0.7734 - lr: 0.0010\n",
      "Epoch 12/20\n",
      "\n",
      "Epoch 00012: val_accuracy did not improve from 0.89089\n",
      "200/200 - 1s - loss: 0.6778 - accuracy: 0.8114 - val_loss: 0.6027 - val_accuracy: 0.8217 - lr: 0.0010\n",
      "Epoch 13/20\n",
      "\n",
      "Epoch 00013: val_accuracy did not improve from 0.89089\n",
      "200/200 - 1s - loss: 0.5329 - accuracy: 0.8392 - val_loss: 0.5067 - val_accuracy: 0.8394 - lr: 0.0010\n",
      "Epoch 14/20\n",
      "\n",
      "Epoch 00014: val_accuracy did not improve from 0.89089\n",
      "200/200 - 1s - loss: 0.4648 - accuracy: 0.8519 - val_loss: 0.4653 - val_accuracy: 0.8467 - lr: 0.0010\n",
      "Epoch 15/20\n",
      "\n",
      "Epoch 00015: val_accuracy did not improve from 0.89089\n",
      "200/200 - 1s - loss: 0.4292 - accuracy: 0.8590 - val_loss: 0.4430 - val_accuracy: 0.8523 - lr: 0.0010\n",
      "Epoch 16/20\n",
      "\n",
      "Epoch 00016: val_accuracy did not improve from 0.89089\n",
      "200/200 - 1s - loss: 0.4057 - accuracy: 0.8637 - val_loss: 0.4264 - val_accuracy: 0.8546 - lr: 0.0010\n",
      "Epoch 17/20\n",
      "\n",
      "Epoch 00017: ReduceLROnPlateau reducing learning rate to 0.00031622778103685084.\n",
      "\n",
      "Epoch 00017: val_accuracy did not improve from 0.89089\n",
      "200/200 - 1s - loss: 0.3873 - accuracy: 0.8678 - val_loss: 0.4110 - val_accuracy: 0.8613 - lr: 0.0010\n",
      "Epoch 18/20\n",
      "\n",
      "Epoch 00018: val_accuracy did not improve from 0.89089\n",
      "200/200 - 1s - loss: 0.3742 - accuracy: 0.8716 - val_loss: 0.4065 - val_accuracy: 0.8612 - lr: 3.1623e-04\n",
      "Epoch 19/20\n",
      "\n",
      "Epoch 00019: val_accuracy did not improve from 0.89089\n",
      "200/200 - 1s - loss: 0.3694 - accuracy: 0.8730 - val_loss: 0.4029 - val_accuracy: 0.8611 - lr: 3.1623e-04\n",
      "Epoch 20/20\n",
      "\n",
      "Epoch 00020: val_accuracy did not improve from 0.89089\n",
      "200/200 - 1s - loss: 0.3652 - accuracy: 0.8738 - val_loss: 0.4006 - val_accuracy: 0.8618 - lr: 3.1623e-04\n"
     ]
    }
   ],
   "source": [
    "epochs = 20\n",
    "batch_size = 256\n",
    "compile_model(model)\n",
    "history = model.fit(X_train, \n",
    "               y_train,\n",
    "               epochs=epochs, batch_size=batch_size, \n",
    "              validation_data = (X_val, y_val),\n",
    "               verbose=2, \n",
    "                    shuffle = True,\n",
    "                           callbacks=get_prunned_callbacks('mlp.mnist.sparse_train_testing.hdf5')\n",
    "              )"
   ]
  },
  {
   "cell_type": "code",
   "execution_count": 77,
   "metadata": {},
   "outputs": [
    {
     "data": {
      "text/plain": [
       "0.9900000976155768"
      ]
     },
     "execution_count": 77,
     "metadata": {},
     "output_type": "execute_result"
    }
   ],
   "source": [
    "layer = 0\n",
    "(model.layers[layer].pruning_vars[0][0] == 0).numpy().sum()/np.product(model.layers[layer].pruning_vars[0][0].numpy().shape)"
   ]
  },
  {
   "cell_type": "code",
   "execution_count": null,
   "metadata": {},
   "outputs": [],
   "source": []
  }
 ],
 "metadata": {
  "kernelspec": {
   "display_name": "Python [conda env:tensorflow2] *",
   "language": "python",
   "name": "conda-env-tensorflow2-py"
  },
  "language_info": {
   "codemirror_mode": {
    "name": "ipython",
    "version": 3
   },
   "file_extension": ".py",
   "mimetype": "text/x-python",
   "name": "python",
   "nbconvert_exporter": "python",
   "pygments_lexer": "ipython3",
   "version": "3.6.10"
  }
 },
 "nbformat": 4,
 "nbformat_minor": 4
}
