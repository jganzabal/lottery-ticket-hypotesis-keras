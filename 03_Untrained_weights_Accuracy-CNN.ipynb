{
 "cells": [
  {
   "cell_type": "code",
   "execution_count": 1,
   "metadata": {},
   "outputs": [],
   "source": [
    "%load_ext autoreload\n",
    "%autoreload 2"
   ]
  },
  {
   "cell_type": "code",
   "execution_count": 2,
   "metadata": {},
   "outputs": [],
   "source": [
    "from tensorflow.keras.models import Sequential, clone_model\n",
    "from tensorflow.keras.layers import Dense, Activation, Conv2D, MaxPool2D, Flatten, GlobalAveragePooling2D\n",
    "from tensorflow.keras import optimizers\n",
    "from tensorflow.keras.callbacks import ReduceLROnPlateau, ModelCheckpoint\n",
    "import numpy as np\n",
    "import pandas as pd\n",
    "from sklearn.model_selection import train_test_split\n",
    "from LTH_helper import prune_and_initilize, get_prunned_model, initialize_sparse_model\n",
    "import tensorflow as tf\n",
    "from matplotlib import pyplot as plt\n",
    "from tensorflow.keras import initializers\n",
    "from tensorflow.keras.datasets import fashion_mnist, mnist, cifar10, cifar100\n",
    "from tensorflow_model_optimization.sparsity.keras import strip_pruning\n",
    "from tensorflow.keras.constraints import max_norm\n",
    "from tensorflow.keras import backend as K"
   ]
  },
  {
   "cell_type": "code",
   "execution_count": 3,
   "metadata": {},
   "outputs": [],
   "source": [
    "my_dataset = cifar10"
   ]
  },
  {
   "cell_type": "code",
   "execution_count": 4,
   "metadata": {},
   "outputs": [],
   "source": [
    "(train_images, train_labels), (test_images, test_labels) = my_dataset.load_data()\n",
    "X = train_images/255\n",
    "y = train_labels.reshape(-1, 1)\n",
    "if len(X.shape) == 3:\n",
    "    X = X.reshape(*X.shape, 1)\n",
    "X_test = test_images/255\n",
    "y_test = test_labels.reshape(-1, 1)\n",
    "if len(X_test.shape) == 3:\n",
    "    X_test = X_test.reshape(*X_test.shape, 1)\n",
    "X_train, X_val, y_train, y_val = train_test_split(X, y, test_size=0.15, random_state=42)\n",
    "output_size = np.max(y) + 1\n",
    "input_shape = X_train.shape[1:]"
   ]
  },
  {
   "cell_type": "code",
   "execution_count": 5,
   "metadata": {},
   "outputs": [
    {
     "data": {
      "text/plain": [
       "((42500, 32, 32, 3), (7500, 32, 32, 3), (10000, 32, 32, 3), 10, (32, 32, 3))"
      ]
     },
     "execution_count": 5,
     "metadata": {},
     "output_type": "execute_result"
    }
   ],
   "source": [
    "X_train.shape, X_val.shape, X_test.shape, output_size, input_shape"
   ]
  },
  {
   "cell_type": "code",
   "execution_count": 14,
   "metadata": {},
   "outputs": [
    {
     "name": "stdout",
     "output_type": "stream",
     "text": [
      "Model: \"sequential_104\"\n",
      "_________________________________________________________________\n",
      "Layer (type)                 Output Shape              Param #   \n",
      "=================================================================\n",
      "conv2d_22 (Conv2D)           (None, 30, 30, 32)        896       \n",
      "_________________________________________________________________\n",
      "conv2d_23 (Conv2D)           (None, 28, 28, 64)        18496     \n",
      "_________________________________________________________________\n",
      "max_pooling2d_4 (MaxPooling2 (None, 14, 14, 64)        0         \n",
      "_________________________________________________________________\n",
      "conv2d_24 (Conv2D)           (None, 12, 12, 128)       73856     \n",
      "_________________________________________________________________\n",
      "conv2d_25 (Conv2D)           (None, 10, 10, 64)        73792     \n",
      "_________________________________________________________________\n",
      "conv2d_26 (Conv2D)           (None, 8, 8, 32)          18464     \n",
      "_________________________________________________________________\n",
      "flatten_4 (Flatten)          (None, 2048)              0         \n",
      "_________________________________________________________________\n",
      "Salida (Dense)               (None, 10)                20490     \n",
      "=================================================================\n",
      "Total params: 205,994\n",
      "Trainable params: 205,994\n",
      "Non-trainable params: 0\n",
      "_________________________________________________________________\n"
     ]
    }
   ],
   "source": [
    "def compile_model(model, lr=0.001):\n",
    "    optim = optimizers.Adam(lr=lr)\n",
    "    model.compile(loss = 'sparse_categorical_crossentropy', optimizer=optim, metrics=['accuracy'])\n",
    "\n",
    "def get_model(compile_model_flag=True, lr=0.001, activation='tanh', output_size = output_size, input_shape=input_shape):    \n",
    "#     initializer = initializers.RandomNormal(mean=0, stddev=0.1)\n",
    "#     initializer = initializers.glorot_uniform()\n",
    "    initializer = initializers.VarianceScaling(1.0, mode='fan_avg')\n",
    "    # Creo el modelo\n",
    "    \n",
    "    model = Sequential()\n",
    "    model.add(Conv2D(32, 3, input_shape=input_shape, activation=activation, kernel_initializer=initializer))\n",
    "    # model.add(MaxPool2D(2))\n",
    "    model.add(Conv2D(64, 3, activation=activation, kernel_initializer=initializer))\n",
    "    model.add(MaxPool2D(2))\n",
    "    model.add(Conv2D(128, 3, activation=activation, kernel_initializer=initializer))\n",
    "    # model.add(Conv2D(256, 3, activation=activation, kernel_initializer=initializer))\n",
    "    #model.add(Conv2D(128, 3, activation=activation, kernel_initializer=initializer))\n",
    "    model.add(Conv2D(64, 3, activation=activation, kernel_initializer=initializer))\n",
    "    model.add(Conv2D(32, 3, activation=activation, kernel_initializer=initializer))\n",
    "    model.add(Flatten())\n",
    "    model.add(Dense(output_size, activation='softmax', name='Salida', kernel_initializer=initializer))\n",
    "    if compile_model_flag:\n",
    "        compile_model(model, lr=lr)\n",
    "    return model\n",
    "model = get_model()\n",
    "# model.save_weights('random-init.hdf5')\n",
    "model.summary()"
   ]
  },
  {
   "cell_type": "code",
   "execution_count": 15,
   "metadata": {},
   "outputs": [],
   "source": [
    "def get_callbacks(filename):\n",
    "    return [\n",
    "        ReduceLROnPlateau(monitor='val_loss', mode='auto', factor=np.sqrt(0.1), patience=10, verbose=0, min_lr=1e-4),\n",
    "        ModelCheckpoint(filepath=filename,  verbose=0, save_best_only=True, monitor='val_loss', mode='auto')\n",
    "    ]"
   ]
  },
  {
   "cell_type": "code",
   "execution_count": 16,
   "metadata": {},
   "outputs": [],
   "source": [
    "def train_model(model, epochs = 10, batch_size = 1024):\n",
    "    \n",
    "    # Save initial weights\n",
    "    if type(activation) == str:\n",
    "        initial_filename = f'mlp.mnist.initial_weights_{activation}.hdf5'\n",
    "        best_filename = f'mlp.mnist.trained_weights_{activation}.hdf5'\n",
    "    else:\n",
    "        initial_filename = f'mlp.mnist.initial_weights_{activation.__name__}.hdf5'\n",
    "        best_filename = f'mlp.mnist.trained_weights_{activation.__name__}.hdf5'\n",
    "    model.save_weights(initial_filename)\n",
    "    history = model.fit(X_train, \n",
    "               y_train,\n",
    "               epochs=epochs, batch_size=batch_size, \n",
    "               validation_data = (X_val, y_val),\n",
    "               verbose=2, \n",
    "               callbacks=get_callbacks(best_filename)\n",
    "              )\n",
    "    model.load_weights(best_filename)\n",
    "    act = model.get_config()['layers'][0]['config']['activation']\n",
    "    print(f'{act}: {model.evaluate(X_test, y_test, verbose=0)}')\n",
    "    del model\n",
    "    return history"
   ]
  },
  {
   "cell_type": "code",
   "execution_count": 23,
   "metadata": {},
   "outputs": [
    {
     "name": "stdout",
     "output_type": "stream",
     "text": [
      "42/42 - 2s - loss: 1.8727 - accuracy: 0.3249 - val_loss: 1.6408 - val_accuracy: 0.4015 - lr: 0.0010\n",
      "tanh: [1.63919997215271, 0.40720000863075256]\n"
     ]
    },
    {
     "data": {
      "image/png": "[encoded data removed]",
      "text/plain": [
       "<Figure size 432x288 with 1 Axes>"
      ]
     },
     "metadata": {
      "needs_background": "light"
     },
     "output_type": "display_data"
    },
    {
     "data": {
      "text/plain": [
       "[<matplotlib.lines.Line2D at 0x7f8a6809b160>]"
      ]
     },
     "execution_count": 23,
     "metadata": {},
     "output_type": "execute_result"
    },
    {
     "data": {
      "image/png": "[encoded data removed]",
      "text/plain": [
       "<Figure size 432x288 with 1 Axes>"
      ]
     },
     "metadata": {
      "needs_background": "light"
     },
     "output_type": "display_data"
    }
   ],
   "source": [
    "# activations = ['relu', 'sigmoid', 'tanh', 'softplus', 'softsign', 'selu', 'elu']\n",
    "activation = 'tanh'\n",
    "model = get_model(activation=activation)\n",
    "history = train_model(model, epochs = 1)\n",
    "plt.plot(history.history['loss'])\n",
    "plt.plot(history.history['val_loss'])\n",
    "plt.show()\n",
    "plt.plot(history.history['accuracy'])\n",
    "plt.plot(history.history['val_accuracy'])"
   ]
  },
  {
   "cell_type": "code",
   "execution_count": 24,
   "metadata": {},
   "outputs": [],
   "source": [
    "def get_untrained_curve(activation):\n",
    "    pms = np.linspace(0.001, 0.999, 50)\n",
    "    accs_nt = []\n",
    "    best_acc = 0\n",
    "    if type(activation) == str:\n",
    "        initial_filename = f'mlp.mnist.initial_weights_{activation}.hdf5'\n",
    "        best_filename = f'mlp.mnist.trained_weights_{activation}.hdf5'\n",
    "    else:\n",
    "        initial_filename = f'mlp.mnist.initial_weights_{activation.__name__}.hdf5'\n",
    "        best_filename = f'mlp.mnist.trained_weights_{activation.__name__}.hdf5'\n",
    "        \n",
    "    best_model = get_model(activation=activation)    \n",
    "    best_model.load_weights(best_filename)\n",
    "    for pm in pms:\n",
    "        # print(model_pruned_layers.get_config()['layers'][0]['config']['layer']['config']['activation'])\n",
    "        model_pruned_layers_not_trained = prune_and_initilize(best_model, pm, initial_filename)\n",
    "        # print(model_pruned_layers_not_trained.get_config()['layers'][0]['config']['layer']['config']['activation'])\n",
    "        actual_acc = model_pruned_layers_not_trained.evaluate(X_test, y_test, verbose=0)[1]\n",
    "        print(actual_acc, pm)\n",
    "        if actual_acc>best_acc:\n",
    "            best_acc = actual_acc\n",
    "            best_pm = pm\n",
    "            model_pruned_layers_not_trained_best = strip_pruning(model_pruned_layers_not_trained)\n",
    "        accs_nt.append(actual_acc)\n",
    "    np.save(f'acc_not_train_prunned_{activation}_relu_20_epochs_normal_glorot_50.npy', [pms, accs_nt])\n",
    "    model_pruned_layers_not_trained_best.save_weights(f'best_untrained_acc_{activation}_{int(best_pm*1000)/10}_{int(best_acc*1000)/10}.hdf5')\n",
    "    return pms, accs_nt, best_pm, best_acc"
   ]
  },
  {
   "cell_type": "code",
   "execution_count": 25,
   "metadata": {},
   "outputs": [
    {
     "name": "stdout",
     "output_type": "stream",
     "text": [
      "0.10000000149011612 0.001\n",
      "0.12129999697208405 0.02136734693877551\n",
      "0.11320000141859055 0.04173469387755102\n",
      "0.10679999738931656 0.06210204081632653\n",
      "0.11190000176429749 0.08246938775510204\n",
      "0.12189999967813492 0.10283673469387755\n",
      "0.15809999406337738 0.12320408163265306\n",
      "0.14800000190734863 0.14357142857142857\n",
      "0.18780000507831573 0.16393877551020408\n",
      "0.1551000028848648 0.1843061224489796\n",
      "0.17110000550746918 0.2046734693877551\n",
      "0.18170000612735748 0.2250408163265306\n",
      "0.2872999906539917 0.24540816326530612\n",
      "0.28540000319480896 0.26577551020408163\n",
      "0.2590000033378601 0.28614285714285714\n",
      "0.32420000433921814 0.30651020408163265\n",
      "0.2597000002861023 0.32687755102040816\n",
      "0.3107999861240387 0.3472448979591837\n",
      "0.31790000200271606 0.3676122448979592\n",
      "0.2757999897003174 0.3879795918367347\n",
      "0.29429998993873596 0.4083469387755102\n",
      "0.2678000032901764 0.4287142857142857\n",
      "0.32760000228881836 0.4490816326530612\n",
      "0.328000009059906 0.46944897959183673\n",
      "0.3312000036239624 0.48981632653061224\n",
      "0.30300000309944153 0.5101836734693878\n",
      "0.2888999879360199 0.5305510204081633\n",
      "0.26019999384880066 0.5509183673469388\n",
      "0.26159998774528503 0.5712857142857143\n",
      "0.24160000681877136 0.5916530612244898\n",
      "0.23919999599456787 0.6120204081632653\n",
      "0.24089999496936798 0.6323877551020408\n",
      "0.24609999358654022 0.6527551020408163\n",
      "0.24040000140666962 0.6731224489795918\n",
      "0.2207999974489212 0.6934897959183673\n",
      "0.2296999990940094 0.7138571428571429\n",
      "0.21539999544620514 0.7342244897959184\n",
      "0.21699999272823334 0.7545918367346939\n",
      "0.20990000665187836 0.7749591836734694\n",
      "0.20579999685287476 0.7953265306122449\n",
      "0.19660000503063202 0.8156938775510204\n",
      "0.18479999899864197 0.8360612244897959\n",
      "0.16110000014305115 0.8564285714285714\n",
      "0.14309999346733093 0.8767959183673469\n",
      "0.11800000071525574 0.8971632653061224\n",
      "0.10890000313520432 0.917530612244898\n",
      "0.10080000013113022 0.9378979591836735\n",
      "0.09860000014305115 0.958265306122449\n",
      "0.09960000216960907 0.9786326530612245\n",
      "0.10010000318288803 0.999\n",
      "tanh: 0.48981632653061224, 0.3312000036239624\n"
     ]
    },
    {
     "data": {
      "image/png": "[encoded data removed]",
      "text/plain": [
       "<Figure size 432x288 with 1 Axes>"
      ]
     },
     "metadata": {
      "needs_background": "light"
     },
     "output_type": "display_data"
    }
   ],
   "source": [
    "pms, accs_nt, best_pm, best_acc = get_untrained_curve(activation)\n",
    "plt.plot(pms, accs_nt, label=f'{activation}')\n",
    "plt.legend()\n",
    "print(f'{activation}: {best_pm}, {best_acc}')"
   ]
  },
  {
   "cell_type": "code",
   "execution_count": null,
   "metadata": {},
   "outputs": [],
   "source": []
  }
 ],
 "metadata": {
  "kernelspec": {
   "display_name": "Python [conda env:tensorflow2] *",
   "language": "python",
   "name": "conda-env-tensorflow2-py"
  },
  "language_info": {
   "codemirror_mode": {
    "name": "ipython",
    "version": 3
   },
   "file_extension": ".py",
   "mimetype": "text/x-python",
   "name": "python",
   "nbconvert_exporter": "python",
   "pygments_lexer": "ipython3",
   "version": "3.6.10"
  }
 },
 "nbformat": 4,
 "nbformat_minor": 4
}
