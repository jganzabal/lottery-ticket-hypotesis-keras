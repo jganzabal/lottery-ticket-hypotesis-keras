{
 "cells": [
  {
   "cell_type": "code",
   "execution_count": 1,
   "metadata": {},
   "outputs": [],
   "source": [
    "%load_ext autoreload\n",
    "%autoreload 2"
   ]
  },
  {
   "cell_type": "code",
   "execution_count": 2,
   "metadata": {},
   "outputs": [],
   "source": [
    "from tensorflow.keras.models import Sequential, clone_model\n",
    "from tensorflow.keras.layers import Dense, Activation, Conv2D, MaxPool2D, Flatten, GlobalAveragePooling2D\n",
    "from tensorflow.keras import optimizers\n",
    "from tensorflow.keras.callbacks import ReduceLROnPlateau, ModelCheckpoint\n",
    "import numpy as np\n",
    "import pandas as pd\n",
    "from sklearn.model_selection import train_test_split\n",
    "from LTH_helper import prune_and_initilize, get_prunned_model, initialize_sparse_model\n",
    "import tensorflow as tf\n",
    "from matplotlib import pyplot as plt\n",
    "from tensorflow.keras import initializers\n",
    "from tensorflow.keras.datasets import fashion_mnist, mnist\n",
    "from tensorflow_model_optimization.sparsity.keras import strip_pruning\n",
    "from tensorflow.keras.constraints import max_norm\n",
    "from tensorflow.keras import backend as K\n"
   ]
  },
  {
   "cell_type": "code",
   "execution_count": 3,
   "metadata": {},
   "outputs": [],
   "source": [
    "my_dataset = fashion_mnist"
   ]
  },
  {
   "cell_type": "code",
   "execution_count": 4,
   "metadata": {},
   "outputs": [],
   "source": [
    "(train_images, train_labels), (test_images, test_labels) = my_dataset.load_data()\n",
    "X = train_images.reshape(-1, 28, 28, 1)/255\n",
    "y = train_labels.reshape(-1, 1)\n",
    "X_test = test_images.reshape(-1, 28, 28, 1)/255\n",
    "y_test = test_labels.reshape(-1, 1)\n",
    "X_train, X_val, y_train, y_val = train_test_split(X, y, test_size=0.15, random_state=42)"
   ]
  },
  {
   "cell_type": "code",
   "execution_count": 5,
   "metadata": {},
   "outputs": [
    {
     "name": "stdout",
     "output_type": "stream",
     "text": [
      "Model: \"sequential\"\n",
      "_________________________________________________________________\n",
      "Layer (type)                 Output Shape              Param #   \n",
      "=================================================================\n",
      "conv2d (Conv2D)              (None, 26, 26, 32)        320       \n",
      "_________________________________________________________________\n",
      "conv2d_1 (Conv2D)            (None, 24, 24, 64)        18496     \n",
      "_________________________________________________________________\n",
      "max_pooling2d (MaxPooling2D) (None, 12, 12, 64)        0         \n",
      "_________________________________________________________________\n",
      "conv2d_2 (Conv2D)            (None, 10, 10, 128)       73856     \n",
      "_________________________________________________________________\n",
      "conv2d_3 (Conv2D)            (None, 8, 8, 64)          73792     \n",
      "_________________________________________________________________\n",
      "flatten (Flatten)            (None, 4096)              0         \n",
      "_________________________________________________________________\n",
      "Salida (Dense)               (None, 10)                40970     \n",
      "=================================================================\n",
      "Total params: 207,434\n",
      "Trainable params: 207,434\n",
      "Non-trainable params: 0\n",
      "_________________________________________________________________\n"
     ]
    }
   ],
   "source": [
    "def compile_model(model, lr=0.001):\n",
    "    optim = optimizers.Adam(lr=lr)\n",
    "    model.compile(loss = 'sparse_categorical_crossentropy', optimizer=optim, metrics=['accuracy'])\n",
    "  \n",
    "reduce = 1\n",
    "\n",
    "def get_model(compile_model_flag=True, lr=0.001, activation='relu', reduce = reduce):\n",
    "    input_dim=784\n",
    "    output_size = 10\n",
    "#     initializer = initializers.RandomNormal(mean=0, stddev=0.1)\n",
    "    initializer = initializers.glorot_normal()\n",
    "#     initializer = initializers.VarianceScaling(4.0, mode='fan_avg')\n",
    "    # Creo el modelo\n",
    "    \n",
    "    model = Sequential()\n",
    "    model.add(Conv2D(32, 3, input_shape=(28,28, 1), activation='relu'))\n",
    "    # model.add(MaxPool2D(2))\n",
    "    model.add(Conv2D(64, 3, activation=activation))\n",
    "    model.add(MaxPool2D(2))\n",
    "    model.add(Conv2D(128, 3, activation=activation))\n",
    "    model.add(Conv2D(64, 3, activation=activation))\n",
    "    #model.add(Conv2D(32, 3, activation=activation))\n",
    "    model.add(Flatten())\n",
    "    model.add(Dense(output_size, activation='softmax',\n",
    "                    name='Salida', input_dim=input_dim,\n",
    "                    kernel_initializer=initializer))\n",
    "    if compile_model_flag:\n",
    "        compile_model(model, lr=lr)\n",
    "    return model\n",
    "model = get_model()\n",
    "# model.save_weights('random-init.hdf5')\n",
    "model.summary()"
   ]
  },
  {
   "cell_type": "code",
   "execution_count": 6,
   "metadata": {},
   "outputs": [],
   "source": [
    "def get_callbacks(filename):\n",
    "    return [\n",
    "        ReduceLROnPlateau(monitor='val_loss', mode='auto', factor=np.sqrt(0.1), patience=10, verbose=0, min_lr=1e-4),\n",
    "        ModelCheckpoint(filepath=filename,  verbose=0, save_best_only=True, monitor='val_loss', mode='auto')\n",
    "    ]"
   ]
  },
  {
   "cell_type": "code",
   "execution_count": 7,
   "metadata": {},
   "outputs": [],
   "source": [
    "def train_model(activation='relu', epochs = 10, batch_size = 1024):\n",
    "    model = get_model(activation=activation)\n",
    "    # Save initial weights\n",
    "    if type(activation) == str:\n",
    "        initial_filename = f'mlp.mnist.initial_weights_{activation}.hdf5'\n",
    "        best_filename = f'mlp.mnist.trained_weights_{activation}.hdf5'\n",
    "    else:\n",
    "        initial_filename = f'mlp.mnist.initial_weights_{activation.__name__}.hdf5'\n",
    "        best_filename = f'mlp.mnist.trained_weights_{activation.__name__}.hdf5'\n",
    "    model.save_weights(initial_filename)\n",
    "    history = model.fit(X_train, \n",
    "               y_train,\n",
    "               epochs=epochs, batch_size=batch_size, \n",
    "               validation_data = (X_val, y_val),\n",
    "               verbose=2, \n",
    "               callbacks=get_callbacks(best_filename)\n",
    "              )\n",
    "    model.load_weights(best_filename)\n",
    "    act = model.get_config()['layers'][0]['config']['activation']\n",
    "    print(f'{act}: {model.evaluate(X_test, y_test, verbose=0)}')\n",
    "    del model\n",
    "    return history"
   ]
  },
  {
   "cell_type": "code",
   "execution_count": 8,
   "metadata": {},
   "outputs": [
    {
     "name": "stdout",
     "output_type": "stream",
     "text": [
      "Epoch 1/10\n",
      "50/50 - 2s - loss: 0.9778 - accuracy: 0.6466 - val_loss: 0.5872 - val_accuracy: 0.7753 - lr: 0.0010\n",
      "Epoch 2/10\n",
      "50/50 - 2s - loss: 0.5083 - accuracy: 0.8105 - val_loss: 0.4485 - val_accuracy: 0.8336 - lr: 0.0010\n",
      "Epoch 3/10\n",
      "50/50 - 1s - loss: 0.4237 - accuracy: 0.8482 - val_loss: 0.4002 - val_accuracy: 0.8504 - lr: 0.0010\n",
      "Epoch 4/10\n",
      "50/50 - 2s - loss: 0.3698 - accuracy: 0.8670 - val_loss: 0.3530 - val_accuracy: 0.8728 - lr: 0.0010\n",
      "Epoch 5/10\n",
      "50/50 - 1s - loss: 0.3435 - accuracy: 0.8766 - val_loss: 0.3392 - val_accuracy: 0.8734 - lr: 0.0010\n",
      "Epoch 6/10\n",
      "50/50 - 1s - loss: 0.3123 - accuracy: 0.8887 - val_loss: 0.3159 - val_accuracy: 0.8862 - lr: 0.0010\n",
      "Epoch 7/10\n",
      "50/50 - 1s - loss: 0.2903 - accuracy: 0.8973 - val_loss: 0.3206 - val_accuracy: 0.8839 - lr: 0.0010\n",
      "Epoch 8/10\n",
      "50/50 - 2s - loss: 0.2763 - accuracy: 0.9008 - val_loss: 0.2923 - val_accuracy: 0.8908 - lr: 0.0010\n",
      "Epoch 9/10\n",
      "50/50 - 2s - loss: 0.2599 - accuracy: 0.9063 - val_loss: 0.2745 - val_accuracy: 0.9001 - lr: 0.0010\n",
      "Epoch 10/10\n",
      "50/50 - 1s - loss: 0.2456 - accuracy: 0.9122 - val_loss: 0.2732 - val_accuracy: 0.8999 - lr: 0.0010\n",
      "relu: [0.2804013788700104, 0.8996000289916992]\n"
     ]
    },
    {
     "data": {
      "image/png": "[encoded data removed]",
      "text/plain": [
       "<Figure size 432x288 with 1 Axes>"
      ]
     },
     "metadata": {
      "needs_background": "light"
     },
     "output_type": "display_data"
    },
    {
     "data": {
      "image/png": "[encoded data removed]",
      "text/plain": [
       "<Figure size 432x288 with 1 Axes>"
      ]
     },
     "metadata": {
      "needs_background": "light"
     },
     "output_type": "display_data"
    }
   ],
   "source": [
    "# activations = ['relu', 'sigmoid', 'tanh', 'softplus', 'softsign', 'selu', 'elu']\n",
    "activations = ['relu']\n",
    "for activation in activations:\n",
    "    history = train_model(activation)\n",
    "    plt.plot(history.history['loss'])\n",
    "    plt.plot(history.history['val_loss'])\n",
    "    plt.show()\n",
    "    plt.plot(history.history['accuracy'])\n",
    "    plt.plot(history.history['val_accuracy'])"
   ]
  },
  {
   "cell_type": "code",
   "execution_count": 9,
   "metadata": {},
   "outputs": [],
   "source": [
    "def get_untrained_curve(activation):\n",
    "    pms = np.linspace(0.001, 0.999, 50)\n",
    "    accs_nt = []\n",
    "    best_acc = 0\n",
    "    if type(activation) == str:\n",
    "        initial_filename = f'mlp.mnist.initial_weights_{activation}.hdf5'\n",
    "        best_filename = f'mlp.mnist.trained_weights_{activation}.hdf5'\n",
    "    else:\n",
    "        initial_filename = f'mlp.mnist.initial_weights_{activation.__name__}.hdf5'\n",
    "        best_filename = f'mlp.mnist.trained_weights_{activation.__name__}.hdf5'\n",
    "        \n",
    "    best_model = get_model(activation=activation)    \n",
    "    best_model.load_weights(best_filename)\n",
    "    for pm in pms:\n",
    "        # print(model_pruned_layers.get_config()['layers'][0]['config']['layer']['config']['activation'])\n",
    "        model_pruned_layers_not_trained = prune_and_initilize(best_model, pm, initial_filename)\n",
    "        # print(model_pruned_layers_not_trained.get_config()['layers'][0]['config']['layer']['config']['activation'])\n",
    "        actual_acc = model_pruned_layers_not_trained.evaluate(X_test, y_test, verbose=0)[1]\n",
    "        print(actual_acc, pm)\n",
    "        if actual_acc>best_acc:\n",
    "            best_acc = actual_acc\n",
    "            best_pm = pm\n",
    "            model_pruned_layers_not_trained_best = strip_pruning(model_pruned_layers_not_trained)\n",
    "        accs_nt.append(actual_acc)\n",
    "    np.save(f'acc_not_train_prunned_{activation}_relu_20_epochs_reduce_{reduce}_normal_glorot_50.npy', [pms, accs_nt])\n",
    "    model_pruned_layers_not_trained_best.save_weights(f'best_untrained_acc_{activation}_{int(best_pm*1000)/10}_{int(best_acc*1000)/10}.hdf5')\n",
    "    return pms, accs_nt, best_pm, best_acc"
   ]
  },
  {
   "cell_type": "code",
   "execution_count": 10,
   "metadata": {},
   "outputs": [
    {
     "name": "stdout",
     "output_type": "stream",
     "text": [
      "WARNING:tensorflow:From /home/usuario/anaconda3/envs/tensorflow2/lib/python3.6/site-packages/tensorflow_model_optimization/python/core/sparsity/keras/pruning_wrapper.py:199: Layer.add_variable (from tensorflow.python.keras.engine.base_layer) is deprecated and will be removed in a future version.\n",
      "Instructions for updating:\n",
      "Please use `layer.add_weight` method instead.\n",
      "0.07209999859333038 0.001\n",
      "0.10000000149011612 0.02136734693877551\n",
      "0.10000000149011612 0.04173469387755102\n",
      "0.10050000250339508 0.06210204081632653\n",
      "0.17270000278949738 0.08246938775510204\n",
      "0.1071000024676323 0.10283673469387755\n",
      "0.16689999401569366 0.12320408163265306\n",
      "0.1242000013589859 0.14357142857142857\n",
      "0.17509999871253967 0.16393877551020408\n",
      "0.13500000536441803 0.1843061224489796\n",
      "0.18129999935626984 0.2046734693877551\n",
      "0.38960000872612 0.2250408163265306\n",
      "0.49869999289512634 0.24540816326530612\n",
      "0.5532000064849854 0.26577551020408163\n",
      "0.5916000008583069 0.28614285714285714\n",
      "0.5771999955177307 0.30651020408163265\n",
      "0.5584999918937683 0.32687755102040816\n",
      "0.602400004863739 0.3472448979591837\n",
      "0.6509000062942505 0.3676122448979592\n",
      "0.6315000057220459 0.3879795918367347\n",
      "0.6611999869346619 0.4083469387755102\n",
      "0.6664999723434448 0.4287142857142857\n",
      "0.652999997138977 0.4490816326530612\n",
      "0.5953999757766724 0.46944897959183673\n",
      "0.5649999976158142 0.48981632653061224\n",
      "0.5011000037193298 0.5101836734693878\n",
      "0.5220000147819519 0.5305510204081633\n",
      "0.47540000081062317 0.5509183673469388\n",
      "0.510200023651123 0.5712857142857143\n",
      "0.504800021648407 0.5916530612244898\n",
      "0.5322999954223633 0.6120204081632653\n",
      "0.4837999939918518 0.6323877551020408\n",
      "0.5128999948501587 0.6527551020408163\n",
      "0.49459999799728394 0.6731224489795918\n",
      "0.5170000195503235 0.6934897959183673\n",
      "0.5400000214576721 0.7138571428571429\n",
      "0.5565999746322632 0.7342244897959184\n",
      "0.552299976348877 0.7545918367346939\n",
      "0.48829999566078186 0.7749591836734694\n",
      "0.43380001187324524 0.7953265306122449\n",
      "0.3601999878883362 0.8156938775510204\n",
      "0.32120001316070557 0.8360612244897959\n",
      "0.25369998812675476 0.8564285714285714\n",
      "0.19769999384880066 0.8767959183673469\n",
      "0.17839999496936798 0.8971632653061224\n",
      "0.1459999978542328 0.917530612244898\n",
      "0.13210000097751617 0.9378979591836735\n",
      "0.10989999771118164 0.958265306122449\n",
      "0.09009999781847 0.9786326530612245\n",
      "0.031199999153614044 0.999\n",
      "relu: 0.4287142857142857, 0.6664999723434448\n"
     ]
    },
    {
     "data": {
      "image/png": "[encoded data removed]",
      "text/plain": [
       "<Figure size 432x288 with 1 Axes>"
      ]
     },
     "metadata": {
      "needs_background": "light"
     },
     "output_type": "display_data"
    }
   ],
   "source": [
    "for activation in activations:\n",
    "    pms, accs_nt, best_pm, best_acc = get_untrained_curve(activation)\n",
    "    plt.plot(pms, accs_nt, label=f'{activation}')\n",
    "    plt.legend()\n",
    "    print(f'{activation}: {best_pm}, {best_acc}')"
   ]
  },
  {
   "cell_type": "code",
   "execution_count": null,
   "metadata": {},
   "outputs": [],
   "source": []
  }
 ],
 "metadata": {
  "kernelspec": {
   "display_name": "Python [conda env:tensorflow2] *",
   "language": "python",
   "name": "conda-env-tensorflow2-py"
  },
  "language_info": {
   "codemirror_mode": {
    "name": "ipython",
    "version": 3
   },
   "file_extension": ".py",
   "mimetype": "text/x-python",
   "name": "python",
   "nbconvert_exporter": "python",
   "pygments_lexer": "ipython3",
   "version": "3.6.10"
  }
 },
 "nbformat": 4,
 "nbformat_minor": 4
}
