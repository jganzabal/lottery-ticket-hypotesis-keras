{
 "cells": [
  {
   "cell_type": "code",
   "execution_count": 1,
   "metadata": {},
   "outputs": [],
   "source": [
    "%load_ext autoreload\n",
    "%autoreload 2"
   ]
  },
  {
   "cell_type": "code",
   "execution_count": 2,
   "metadata": {},
   "outputs": [],
   "source": [
    "from tensorflow.keras.models import Sequential, clone_model\n",
    "from tensorflow.keras.layers import Dense, Activation, Conv2D, MaxPool2D, Flatten, GlobalAveragePooling2D\n",
    "from tensorflow.keras import optimizers\n",
    "from tensorflow.keras.callbacks import ReduceLROnPlateau, ModelCheckpoint\n",
    "import numpy as np\n",
    "import pandas as pd\n",
    "from sklearn.model_selection import train_test_split\n",
    "from LTH_helper import LTH\n",
    "import tensorflow as tf\n",
    "from matplotlib import pyplot as plt\n",
    "from tensorflow.keras import initializers\n",
    "from tensorflow.keras.datasets import fashion_mnist, mnist\n",
    "from tensorflow_model_optimization.sparsity.keras import strip_pruning\n",
    "from tensorflow.keras.constraints import max_norm\n",
    "from tensorflow.keras import backend as K\n"
   ]
  },
  {
   "cell_type": "code",
   "execution_count": 3,
   "metadata": {},
   "outputs": [],
   "source": [
    "my_dataset = fashion_mnist"
   ]
  },
  {
   "cell_type": "code",
   "execution_count": 4,
   "metadata": {},
   "outputs": [],
   "source": [
    "(train_images, train_labels), (test_images, test_labels) = my_dataset.load_data()\n",
    "X = train_images.reshape(-1, 28, 28, 1)/255\n",
    "y = train_labels.reshape(-1, 1)\n",
    "X_test = test_images.reshape(-1, 28, 28, 1)/255\n",
    "y_test = test_labels.reshape(-1, 1)\n",
    "X_train, X_val, y_train, y_val = train_test_split(X, y, test_size=0.15, random_state=42)"
   ]
  },
  {
   "cell_type": "code",
   "execution_count": 26,
   "metadata": {},
   "outputs": [
    {
     "name": "stdout",
     "output_type": "stream",
     "text": [
      "Model: \"sequential_198\"\n",
      "_________________________________________________________________\n",
      "Layer (type)                 Output Shape              Param #   \n",
      "=================================================================\n",
      "conv2d_289 (Conv2D)          (None, 26, 26, 32)        320       \n",
      "_________________________________________________________________\n",
      "conv2d_290 (Conv2D)          (None, 24, 24, 64)        18496     \n",
      "_________________________________________________________________\n",
      "max_pooling2d_142 (MaxPoolin (None, 12, 12, 64)        0         \n",
      "_________________________________________________________________\n",
      "conv2d_291 (Conv2D)          (None, 10, 10, 128)       73856     \n",
      "_________________________________________________________________\n",
      "conv2d_292 (Conv2D)          (None, 8, 8, 64)          73792     \n",
      "_________________________________________________________________\n",
      "flatten_71 (Flatten)         (None, 4096)              0         \n",
      "_________________________________________________________________\n",
      "Salida (Dense)               (None, 10)                40970     \n",
      "=================================================================\n",
      "Total params: 207,434\n",
      "Trainable params: 207,434\n",
      "Non-trainable params: 0\n",
      "_________________________________________________________________\n"
     ]
    }
   ],
   "source": [
    "def compile_model(model, lr=0.001):\n",
    "    optim = optimizers.Adam(lr=lr)\n",
    "    model.compile(loss = 'sparse_categorical_crossentropy', optimizer=optim, metrics=['accuracy'])\n",
    "  \n",
    "reduce = 1\n",
    "\n",
    "def get_model(compile_model_flag=True, lr=0.001, activation='relu', reduce = reduce):\n",
    "    input_dim=784\n",
    "    output_size = 10\n",
    "#     initializer = initializers.RandomNormal(mean=0, stddev=0.1)\n",
    "    initializer = initializers.glorot_normal()\n",
    "#     initializer = initializers.VarianceScaling(4.0, mode='fan_avg')\n",
    "    # Creo el modelo\n",
    "    \n",
    "    model = Sequential()\n",
    "    model.add(Conv2D(32, 3, input_shape=(28,28, 1), activation='relu'))\n",
    "    # model.add(MaxPool2D(2))\n",
    "    model.add(Conv2D(64, 3, activation=activation))\n",
    "    model.add(MaxPool2D(2))\n",
    "    model.add(Conv2D(128, 3, activation=activation))\n",
    "    model.add(Conv2D(64, 3, activation=activation))\n",
    "    #model.add(Conv2D(32, 3, activation=activation))\n",
    "    model.add(Flatten())\n",
    "    model.add(Dense(output_size, activation='softmax',\n",
    "                    name='Salida', input_dim=input_dim,\n",
    "                    kernel_initializer=initializer))\n",
    "    if compile_model_flag:\n",
    "        compile_model(model, lr=lr)\n",
    "    return model\n",
    "model = get_model()\n",
    "# model.save_weights('random-init.hdf5')\n",
    "model.summary()"
   ]
  },
  {
   "cell_type": "code",
   "execution_count": 27,
   "metadata": {},
   "outputs": [],
   "source": [
    "def get_callbacks(filename):\n",
    "    return [\n",
    "        ReduceLROnPlateau(monitor='val_loss', mode='auto', factor=np.sqrt(0.1), patience=10, verbose=0, min_lr=1e-4),\n",
    "        ModelCheckpoint(filepath=filename,  verbose=0, save_best_only=True, monitor='val_loss', mode='auto')\n",
    "    ]"
   ]
  },
  {
   "cell_type": "code",
   "execution_count": 35,
   "metadata": {},
   "outputs": [],
   "source": [
    "def train_model(activation='relu', epochs = 10, batch_size = 1024):\n",
    "    model = get_model(activation=activation)\n",
    "    # Save initial weights\n",
    "    if type(activation) == str:\n",
    "        initial_filename = f'mlp.mnist.initial_weights_{activation}.hdf5'\n",
    "        best_filename = f'mlp.mnist.trained_weights_{activation}.hdf5'\n",
    "    else:\n",
    "        initial_filename = f'mlp.mnist.initial_weights_{activation.__name__}.hdf5'\n",
    "        best_filename = f'mlp.mnist.trained_weights_{activation.__name__}.hdf5'\n",
    "    model.save_weights(initial_filename)\n",
    "    history = model.fit(X_train, \n",
    "               y_train,\n",
    "               epochs=epochs, batch_size=batch_size, \n",
    "               validation_data = (X_val, y_val),\n",
    "               verbose=2, \n",
    "               callbacks=get_callbacks(best_filename)\n",
    "              )\n",
    "    model.load_weights(best_filename)\n",
    "    act = model.get_config()['layers'][0]['config']['activation']\n",
    "    print(f'{act}: {model.evaluate(X_test, y_test, verbose=0)}')\n",
    "    del model\n",
    "    return history"
   ]
  },
  {
   "cell_type": "code",
   "execution_count": 36,
   "metadata": {},
   "outputs": [
    {
     "name": "stdout",
     "output_type": "stream",
     "text": [
      "Epoch 1/10\n",
      "50/50 - 2s - loss: 0.9840 - accuracy: 0.6583 - val_loss: 0.6033 - val_accuracy: 0.7693 - lr: 0.0010\n",
      "Epoch 2/10\n",
      "50/50 - 2s - loss: 0.5174 - accuracy: 0.8059 - val_loss: 0.4522 - val_accuracy: 0.8348 - lr: 0.0010\n",
      "Epoch 3/10\n",
      "50/50 - 1s - loss: 0.4261 - accuracy: 0.8466 - val_loss: 0.4055 - val_accuracy: 0.8506 - lr: 0.0010\n",
      "Epoch 4/10\n",
      "50/50 - 1s - loss: 0.3813 - accuracy: 0.8633 - val_loss: 0.3802 - val_accuracy: 0.8632 - lr: 0.0010\n",
      "Epoch 5/10\n",
      "50/50 - 1s - loss: 0.3494 - accuracy: 0.8749 - val_loss: 0.3489 - val_accuracy: 0.8731 - lr: 0.0010\n",
      "Epoch 6/10\n",
      "50/50 - 2s - loss: 0.3219 - accuracy: 0.8847 - val_loss: 0.3216 - val_accuracy: 0.8832 - lr: 0.0010\n",
      "Epoch 7/10\n",
      "50/50 - 2s - loss: 0.3010 - accuracy: 0.8915 - val_loss: 0.3131 - val_accuracy: 0.8838 - lr: 0.0010\n",
      "Epoch 8/10\n",
      "50/50 - 2s - loss: 0.2812 - accuracy: 0.8991 - val_loss: 0.2939 - val_accuracy: 0.8931 - lr: 0.0010\n",
      "Epoch 9/10\n",
      "50/50 - 1s - loss: 0.2688 - accuracy: 0.9037 - val_loss: 0.2964 - val_accuracy: 0.8900 - lr: 0.0010\n",
      "Epoch 10/10\n",
      "50/50 - 1s - loss: 0.2596 - accuracy: 0.9063 - val_loss: 0.2873 - val_accuracy: 0.8906 - lr: 0.0010\n",
      "relu: [0.2962581217288971, 0.8931999802589417]\n"
     ]
    },
    {
     "data": {
      "image/png": "[encoded data removed]",
      "text/plain": [
       "<Figure size 432x288 with 1 Axes>"
      ]
     },
     "metadata": {
      "needs_background": "light"
     },
     "output_type": "display_data"
    },
    {
     "data": {
      "image/png": "[encoded data removed]",
      "text/plain": [
       "<Figure size 432x288 with 1 Axes>"
      ]
     },
     "metadata": {
      "needs_background": "light"
     },
     "output_type": "display_data"
    }
   ],
   "source": [
    "# activations = ['relu', 'sigmoid', 'tanh', 'softplus', 'softsign', 'selu', 'elu']\n",
    "activations = ['relu']\n",
    "for activation in activations:\n",
    "    history = train_model(activation)\n",
    "    plt.plot(history.history['loss'])\n",
    "    plt.plot(history.history['val_loss'])\n",
    "    plt.show()\n",
    "    plt.plot(history.history['accuracy'])\n",
    "    plt.plot(history.history['val_accuracy'])"
   ]
  },
  {
   "cell_type": "code",
   "execution_count": 37,
   "metadata": {},
   "outputs": [
    {
     "name": "stdout",
     "output_type": "stream",
     "text": [
      "313/313 [==============================] - 1s 2ms/step - loss: 2.2978 - accuracy: 0.1099\n"
     ]
    },
    {
     "data": {
      "text/plain": [
       "[2.2977890968322754, 0.10989999771118164]"
      ]
     },
     "execution_count": 37,
     "metadata": {},
     "output_type": "execute_result"
    }
   ],
   "source": [
    "initial_filename = f'mlp.mnist.initial_weights_{activation}.hdf5'\n",
    "model.load_weights(initial_filename)\n",
    "model.evaluate(X_test, y_test)"
   ]
  },
  {
   "cell_type": "code",
   "execution_count": 38,
   "metadata": {},
   "outputs": [],
   "source": [
    "lth = LTH(get_model)"
   ]
  },
  {
   "cell_type": "code",
   "execution_count": 39,
   "metadata": {},
   "outputs": [],
   "source": [
    "def get_untrained_curve(activation):\n",
    "    pms = np.linspace(0.001, 0.999, 50)\n",
    "    accs_nt = []\n",
    "    best_acc = 0\n",
    "    if type(activation) == str:\n",
    "        initial_filename = f'mlp.mnist.initial_weights_{activation}.hdf5'\n",
    "        best_filename = f'mlp.mnist.trained_weights_{activation}.hdf5'\n",
    "    else:\n",
    "        initial_filename = f'mlp.mnist.initial_weights_{activation.__name__}.hdf5'\n",
    "        best_filename = f'mlp.mnist.trained_weights_{activation.__name__}.hdf5'\n",
    "    for pm in pms:\n",
    "        # Devuelve el modelo pruneado en funcion del entrenamiento\n",
    "        model = get_model(activation=activation)    \n",
    "        model.load_weights(best_filename)\n",
    "        model_pruned_layers = lth.get_prunned_model(model, pm)\n",
    "        # print(model_pruned_layers.get_config()['layers'][0]['config']['layer']['config']['activation'])\n",
    "        # Coloca los pesos iniciales en los lugares sin prunear\n",
    "        model.load_weights(initial_filename)\n",
    "        model_pruned_layers_not_trained = lth.initialize_sparse_model(model, model_pruned_layers, pm)\n",
    "        del model\n",
    "        del model_pruned_layers\n",
    "        # print(model_pruned_layers_not_trained.get_config()['layers'][0]['config']['layer']['config']['activation'])\n",
    "        actual_acc = model_pruned_layers_not_trained.evaluate(X_test, y_test, verbose=0)[1]\n",
    "        print(actual_acc, pm)\n",
    "        if actual_acc>best_acc:\n",
    "            best_acc = actual_acc\n",
    "            best_pm = pm\n",
    "            model_pruned_layers_not_trained_best = strip_pruning(model_pruned_layers_not_trained)\n",
    "        accs_nt.append(actual_acc)\n",
    "    np.save(f'acc_not_train_prunned_{activation}_relu_20_epochs_reduce_{reduce}_normal_glorot_50.npy', [pms, accs_nt])\n",
    "    model_pruned_layers_not_trained_best.save_weights(f'best_untrained_acc_{activation}_{int(best_pm*1000)/10}_{int(best_acc*1000)/10}.hdf5')\n",
    "    return pms, accs_nt, best_pm, best_acc"
   ]
  },
  {
   "cell_type": "code",
   "execution_count": 40,
   "metadata": {},
   "outputs": [
    {
     "name": "stdout",
     "output_type": "stream",
     "text": [
      "0.10000000149011612 0.001\n",
      "0.10000000149011612 0.02136734693877551\n",
      "0.10000000149011612 0.04173469387755102\n",
      "0.14399999380111694 0.06210204081632653\n",
      "0.10050000250339508 0.08246938775510204\n",
      "0.27639999985694885 0.10283673469387755\n",
      "0.32899999618530273 0.12320408163265306\n",
      "0.3361000120639801 0.14357142857142857\n",
      "0.3215000033378601 0.16393877551020408\n",
      "0.4503999948501587 0.1843061224489796\n",
      "0.4311000108718872 0.2046734693877551\n",
      "0.4336000084877014 0.2250408163265306\n",
      "0.4350000023841858 0.24540816326530612\n",
      "0.47870001196861267 0.26577551020408163\n",
      "0.4765999913215637 0.28614285714285714\n",
      "0.5098999738693237 0.30651020408163265\n",
      "0.48330000042915344 0.32687755102040816\n",
      "0.5752000212669373 0.3472448979591837\n",
      "0.5965999960899353 0.3676122448979592\n",
      "0.5814999938011169 0.3879795918367347\n",
      "0.607699990272522 0.4083469387755102\n",
      "0.602400004863739 0.4287142857142857\n",
      "0.5907999873161316 0.4490816326530612\n",
      "0.5946000218391418 0.46944897959183673\n",
      "0.6147000193595886 0.48981632653061224\n",
      "0.6444000005722046 0.5101836734693878\n",
      "0.6535999774932861 0.5305510204081633\n",
      "0.6696000099182129 0.5509183673469388\n",
      "0.6492000222206116 0.5712857142857143\n",
      "0.6517000198364258 0.5916530612244898\n",
      "0.6378999948501587 0.6120204081632653\n",
      "0.6362000107765198 0.6323877551020408\n",
      "0.6607000231742859 0.6527551020408163\n",
      "0.6456999778747559 0.6731224489795918\n",
      "0.6216999888420105 0.6934897959183673\n",
      "0.6225000023841858 0.7138571428571429\n",
      "0.5964000225067139 0.7342244897959184\n",
      "0.588699996471405 0.7545918367346939\n",
      "0.5662000179290771 0.7749591836734694\n",
      "0.5575000047683716 0.7953265306122449\n",
      "0.4887000024318695 0.8156938775510204\n",
      "0.461899995803833 0.8360612244897959\n",
      "0.4510999917984009 0.8564285714285714\n",
      "0.40689998865127563 0.8767959183673469\n",
      "0.3400000035762787 0.8971632653061224\n",
      "0.2786000072956085 0.917530612244898\n",
      "0.1973000019788742 0.9378979591836735\n",
      "0.14090000092983246 0.958265306122449\n",
      "0.11559999734163284 0.9786326530612245\n",
      "0.11020000278949738 0.999\n",
      "relu: 0.5509183673469388, 0.6696000099182129\n"
     ]
    },
    {
     "data": {
      "image/png": "[encoded data removed]",
      "text/plain": [
       "<Figure size 432x288 with 1 Axes>"
      ]
     },
     "metadata": {
      "needs_background": "light"
     },
     "output_type": "display_data"
    }
   ],
   "source": [
    "for activation in activations:\n",
    "    pms, accs_nt, best_pm, best_acc = get_untrained_curve(activation)\n",
    "    plt.plot(pms, accs_nt, label=f'{activation}')\n",
    "    plt.legend()\n",
    "    print(f'{activation}: {best_pm}, {best_acc}')"
   ]
  },
  {
   "cell_type": "code",
   "execution_count": null,
   "metadata": {},
   "outputs": [],
   "source": []
  }
 ],
 "metadata": {
  "kernelspec": {
   "display_name": "Python [conda env:tensorflow2] *",
   "language": "python",
   "name": "conda-env-tensorflow2-py"
  },
  "language_info": {
   "codemirror_mode": {
    "name": "ipython",
    "version": 3
   },
   "file_extension": ".py",
   "mimetype": "text/x-python",
   "name": "python",
   "nbconvert_exporter": "python",
   "pygments_lexer": "ipython3",
   "version": "3.6.10"
  }
 },
 "nbformat": 4,
 "nbformat_minor": 4
}
